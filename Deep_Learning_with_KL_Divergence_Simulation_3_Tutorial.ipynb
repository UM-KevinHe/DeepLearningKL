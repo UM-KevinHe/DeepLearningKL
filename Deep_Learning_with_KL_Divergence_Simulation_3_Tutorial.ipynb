{
  "nbformat": 4,
  "nbformat_minor": 0,
  "metadata": {
    "colab": {
      "name": "Deep Learning with KL Divergence Simulation 3: Tutorial.ipynb",
      "provenance": [],
      "collapsed_sections": [
        "IaAgQmOd_hcG"
      ]
    },
    "kernelspec": {
      "name": "python3",
      "display_name": "Python 3"
    },
    "language_info": {
      "name": "python"
    },
    "accelerator": "GPU"
  },
  "cells": [
    {
      "cell_type": "markdown",
      "source": [
        "# Preparation"
      ],
      "metadata": {
        "id": "IaAgQmOd_hcG"
      }
    },
    {
      "cell_type": "markdown",
      "source": [
        "This project aims on using Deep Learning with Kullback-Leibler Divergence. Some basic packages are required for this project. The aim of the following chunk is to install required packages such as `lifelines`, `sklearn-pandas` and `torchtuples`. Note that `pycox` is built based on `torchtuples`.\n",
        "\n",
        "---\n",
        "\n",
        "`pycox` should be pre-installed and removed into the google drive since we need to modify part of the code in this package for our model. However in the tutorial, we can actually predefine our loss function outside the package, so this part need to be updated probably.\n"
      ],
      "metadata": {
        "id": "bnU8AUNjAbBl"
      }
    },
    {
      "cell_type": "code",
      "source": [
        "!pwd\n",
        "!pip install lifelines\n",
        "! pip install sklearn-pandas\n",
        "! pip install torchtuples\n",
        "# ! pip install statsmodels\n",
        "! pip install statsmodels --upgrade\n",
        "# ! pip install pycox"
      ],
      "metadata": {
        "id": "Nvw5pjDK8apf",
        "colab": {
          "base_uri": "https://localhost:8080/"
        },
        "outputId": "c15916af-58ac-4a3c-faf5-f4cf03cb33b8"
      },
      "execution_count": 1,
      "outputs": [
        {
          "output_type": "stream",
          "name": "stdout",
          "text": [
            "/content\n",
            "Looking in indexes: https://pypi.org/simple, https://us-python.pkg.dev/colab-wheels/public/simple/\n",
            "Collecting lifelines\n",
            "  Downloading lifelines-0.27.0-py3-none-any.whl (349 kB)\n",
            "\u001b[K     |████████████████████████████████| 349 kB 5.1 MB/s \n",
            "\u001b[?25hRequirement already satisfied: numpy>=1.14.0 in /usr/local/lib/python3.7/dist-packages (from lifelines) (1.21.6)\n",
            "Collecting autograd-gamma>=0.3\n",
            "  Downloading autograd-gamma-0.5.0.tar.gz (4.0 kB)\n",
            "Requirement already satisfied: matplotlib>=3.0 in /usr/local/lib/python3.7/dist-packages (from lifelines) (3.2.2)\n",
            "Requirement already satisfied: scipy>=1.2.0 in /usr/local/lib/python3.7/dist-packages (from lifelines) (1.4.1)\n",
            "Collecting formulaic>=0.2.2\n",
            "  Downloading formulaic-0.3.4-py3-none-any.whl (68 kB)\n",
            "\u001b[K     |████████████████████████████████| 68 kB 7.2 MB/s \n",
            "\u001b[?25hRequirement already satisfied: pandas>=1.0.0 in /usr/local/lib/python3.7/dist-packages (from lifelines) (1.3.5)\n",
            "Requirement already satisfied: autograd>=1.3 in /usr/local/lib/python3.7/dist-packages (from lifelines) (1.4)\n",
            "Requirement already satisfied: future>=0.15.2 in /usr/local/lib/python3.7/dist-packages (from autograd>=1.3->lifelines) (0.16.0)\n",
            "Requirement already satisfied: wrapt>=1.0 in /usr/local/lib/python3.7/dist-packages (from formulaic>=0.2.2->lifelines) (1.14.1)\n",
            "Requirement already satisfied: astor>=0.8 in /usr/local/lib/python3.7/dist-packages (from formulaic>=0.2.2->lifelines) (0.8.1)\n",
            "Collecting interface-meta<2.0.0,>=1.2.0\n",
            "  Downloading interface_meta-1.3.0-py3-none-any.whl (14 kB)\n",
            "Collecting scipy>=1.2.0\n",
            "  Downloading scipy-1.7.3-cp37-cp37m-manylinux_2_12_x86_64.manylinux2010_x86_64.whl (38.1 MB)\n",
            "\u001b[K     |████████████████████████████████| 38.1 MB 1.2 MB/s \n",
            "\u001b[?25hRequirement already satisfied: python-dateutil>=2.1 in /usr/local/lib/python3.7/dist-packages (from matplotlib>=3.0->lifelines) (2.8.2)\n",
            "Requirement already satisfied: pyparsing!=2.0.4,!=2.1.2,!=2.1.6,>=2.0.1 in /usr/local/lib/python3.7/dist-packages (from matplotlib>=3.0->lifelines) (3.0.9)\n",
            "Requirement already satisfied: kiwisolver>=1.0.1 in /usr/local/lib/python3.7/dist-packages (from matplotlib>=3.0->lifelines) (1.4.2)\n",
            "Requirement already satisfied: cycler>=0.10 in /usr/local/lib/python3.7/dist-packages (from matplotlib>=3.0->lifelines) (0.11.0)\n",
            "Requirement already satisfied: typing-extensions in /usr/local/lib/python3.7/dist-packages (from kiwisolver>=1.0.1->matplotlib>=3.0->lifelines) (4.2.0)\n",
            "Requirement already satisfied: pytz>=2017.3 in /usr/local/lib/python3.7/dist-packages (from pandas>=1.0.0->lifelines) (2022.1)\n",
            "Requirement already satisfied: six>=1.5 in /usr/local/lib/python3.7/dist-packages (from python-dateutil>=2.1->matplotlib>=3.0->lifelines) (1.15.0)\n",
            "Building wheels for collected packages: autograd-gamma\n",
            "  Building wheel for autograd-gamma (setup.py) ... \u001b[?25l\u001b[?25hdone\n",
            "  Created wheel for autograd-gamma: filename=autograd_gamma-0.5.0-py3-none-any.whl size=4048 sha256=bc353aad1f44210e8c25757640f9a32e2af061719f53848bffe0affb178a6495\n",
            "  Stored in directory: /root/.cache/pip/wheels/9f/01/ee/1331593abb5725ff7d8c1333aee93a50a1c29d6ddda9665c9f\n",
            "Successfully built autograd-gamma\n",
            "Installing collected packages: scipy, interface-meta, formulaic, autograd-gamma, lifelines\n",
            "  Attempting uninstall: scipy\n",
            "    Found existing installation: scipy 1.4.1\n",
            "    Uninstalling scipy-1.4.1:\n",
            "      Successfully uninstalled scipy-1.4.1\n",
            "\u001b[31mERROR: pip's dependency resolver does not currently take into account all the packages that are installed. This behaviour is the source of the following dependency conflicts.\n",
            "albumentations 0.1.12 requires imgaug<0.2.7,>=0.2.5, but you have imgaug 0.2.9 which is incompatible.\u001b[0m\n",
            "Successfully installed autograd-gamma-0.5.0 formulaic-0.3.4 interface-meta-1.3.0 lifelines-0.27.0 scipy-1.7.3\n",
            "Looking in indexes: https://pypi.org/simple, https://us-python.pkg.dev/colab-wheels/public/simple/\n",
            "Requirement already satisfied: sklearn-pandas in /usr/local/lib/python3.7/dist-packages (1.8.0)\n",
            "Requirement already satisfied: pandas>=0.11.0 in /usr/local/lib/python3.7/dist-packages (from sklearn-pandas) (1.3.5)\n",
            "Requirement already satisfied: scipy>=0.14 in /usr/local/lib/python3.7/dist-packages (from sklearn-pandas) (1.7.3)\n",
            "Requirement already satisfied: numpy>=1.6.1 in /usr/local/lib/python3.7/dist-packages (from sklearn-pandas) (1.21.6)\n",
            "Requirement already satisfied: scikit-learn>=0.15.0 in /usr/local/lib/python3.7/dist-packages (from sklearn-pandas) (1.0.2)\n",
            "Requirement already satisfied: pytz>=2017.3 in /usr/local/lib/python3.7/dist-packages (from pandas>=0.11.0->sklearn-pandas) (2022.1)\n",
            "Requirement already satisfied: python-dateutil>=2.7.3 in /usr/local/lib/python3.7/dist-packages (from pandas>=0.11.0->sklearn-pandas) (2.8.2)\n",
            "Requirement already satisfied: six>=1.5 in /usr/local/lib/python3.7/dist-packages (from python-dateutil>=2.7.3->pandas>=0.11.0->sklearn-pandas) (1.15.0)\n",
            "Requirement already satisfied: joblib>=0.11 in /usr/local/lib/python3.7/dist-packages (from scikit-learn>=0.15.0->sklearn-pandas) (1.1.0)\n",
            "Requirement already satisfied: threadpoolctl>=2.0.0 in /usr/local/lib/python3.7/dist-packages (from scikit-learn>=0.15.0->sklearn-pandas) (3.1.0)\n",
            "Looking in indexes: https://pypi.org/simple, https://us-python.pkg.dev/colab-wheels/public/simple/\n",
            "Collecting torchtuples\n",
            "  Downloading torchtuples-0.2.2-py3-none-any.whl (41 kB)\n",
            "\u001b[K     |████████████████████████████████| 41 kB 450 kB/s \n",
            "\u001b[?25hRequirement already satisfied: matplotlib>=3.0.3 in /usr/local/lib/python3.7/dist-packages (from torchtuples) (3.2.2)\n",
            "Requirement already satisfied: pandas>=0.24.2 in /usr/local/lib/python3.7/dist-packages (from torchtuples) (1.3.5)\n",
            "Requirement already satisfied: numpy>=1.15.4 in /usr/local/lib/python3.7/dist-packages (from torchtuples) (1.21.6)\n",
            "Requirement already satisfied: cycler>=0.10 in /usr/local/lib/python3.7/dist-packages (from matplotlib>=3.0.3->torchtuples) (0.11.0)\n",
            "Requirement already satisfied: python-dateutil>=2.1 in /usr/local/lib/python3.7/dist-packages (from matplotlib>=3.0.3->torchtuples) (2.8.2)\n",
            "Requirement already satisfied: pyparsing!=2.0.4,!=2.1.2,!=2.1.6,>=2.0.1 in /usr/local/lib/python3.7/dist-packages (from matplotlib>=3.0.3->torchtuples) (3.0.9)\n",
            "Requirement already satisfied: kiwisolver>=1.0.1 in /usr/local/lib/python3.7/dist-packages (from matplotlib>=3.0.3->torchtuples) (1.4.2)\n",
            "Requirement already satisfied: typing-extensions in /usr/local/lib/python3.7/dist-packages (from kiwisolver>=1.0.1->matplotlib>=3.0.3->torchtuples) (4.2.0)\n",
            "Requirement already satisfied: pytz>=2017.3 in /usr/local/lib/python3.7/dist-packages (from pandas>=0.24.2->torchtuples) (2022.1)\n",
            "Requirement already satisfied: six>=1.5 in /usr/local/lib/python3.7/dist-packages (from python-dateutil>=2.1->matplotlib>=3.0.3->torchtuples) (1.15.0)\n",
            "Installing collected packages: torchtuples\n",
            "Successfully installed torchtuples-0.2.2\n",
            "Looking in indexes: https://pypi.org/simple, https://us-python.pkg.dev/colab-wheels/public/simple/\n",
            "Requirement already satisfied: statsmodels in /usr/local/lib/python3.7/dist-packages (0.10.2)\n",
            "Collecting statsmodels\n",
            "  Downloading statsmodels-0.13.2-cp37-cp37m-manylinux_2_17_x86_64.manylinux2014_x86_64.whl (9.8 MB)\n",
            "\u001b[K     |████████████████████████████████| 9.8 MB 5.0 MB/s \n",
            "\u001b[?25hRequirement already satisfied: scipy>=1.3 in /usr/local/lib/python3.7/dist-packages (from statsmodels) (1.7.3)\n",
            "Requirement already satisfied: packaging>=21.3 in /usr/local/lib/python3.7/dist-packages (from statsmodels) (21.3)\n",
            "Requirement already satisfied: pandas>=0.25 in /usr/local/lib/python3.7/dist-packages (from statsmodels) (1.3.5)\n",
            "Requirement already satisfied: numpy>=1.17 in /usr/local/lib/python3.7/dist-packages (from statsmodels) (1.21.6)\n",
            "Requirement already satisfied: patsy>=0.5.2 in /usr/local/lib/python3.7/dist-packages (from statsmodels) (0.5.2)\n",
            "Requirement already satisfied: pyparsing!=3.0.5,>=2.0.2 in /usr/local/lib/python3.7/dist-packages (from packaging>=21.3->statsmodels) (3.0.9)\n",
            "Requirement already satisfied: python-dateutil>=2.7.3 in /usr/local/lib/python3.7/dist-packages (from pandas>=0.25->statsmodels) (2.8.2)\n",
            "Requirement already satisfied: pytz>=2017.3 in /usr/local/lib/python3.7/dist-packages (from pandas>=0.25->statsmodels) (2022.1)\n",
            "Requirement already satisfied: six in /usr/local/lib/python3.7/dist-packages (from patsy>=0.5.2->statsmodels) (1.15.0)\n",
            "Installing collected packages: statsmodels\n",
            "  Attempting uninstall: statsmodels\n",
            "    Found existing installation: statsmodels 0.10.2\n",
            "    Uninstalling statsmodels-0.10.2:\n",
            "      Successfully uninstalled statsmodels-0.10.2\n",
            "Successfully installed statsmodels-0.13.2\n"
          ]
        }
      ]
    },
    {
      "cell_type": "markdown",
      "source": [
        "`pycox` is pre-installed in /content/drive/MyDrive/pycox, before that we need to track the data in google drive."
      ],
      "metadata": {
        "id": "3CR4Lrl8DPhJ"
      }
    },
    {
      "cell_type": "code",
      "source": [
        "from google.colab import drive\n",
        "\n",
        "drive.mount(\"/content/drive\")\n",
        "\n",
        "%cd \"/content/drive/MyDrive/pycox\"\n",
        "# %pwd\n",
        "# from pycox.models import LogisticHazard"
      ],
      "metadata": {
        "colab": {
          "base_uri": "https://localhost:8080/"
        },
        "id": "ohFkTufMCHze",
        "outputId": "321d3fc3-eaf2-4ea0-8b88-bb71c8f570d4"
      },
      "execution_count": 2,
      "outputs": [
        {
          "output_type": "stream",
          "name": "stdout",
          "text": [
            "Mounted at /content/drive\n",
            "/content/drive/MyDrive/pycox\n"
          ]
        }
      ]
    },
    {
      "cell_type": "code",
      "source": [
        "import os\n",
        "import sys\n",
        "\n",
        "import numpy as np\n",
        "import pandas as pd \n",
        "import matplotlib.pyplot as plt\n",
        "import torch # For building the networks \n",
        "import torchtuples as tt # Some useful functions\n",
        "\n",
        "# For preprocessing\n",
        "from sklearn.preprocessing import StandardScaler\n",
        "from sklearn_pandas import DataFrameMapper \n",
        "from random import sample\n",
        "from pycox.datasets import metabric\n",
        "from pycox.datasets import support\n",
        "from pycox.models import LogisticHazard\n",
        "# from pycox.models import PMF\n",
        "# from pycox.models import DeepHitSingle\n",
        "from pycox.evaluation import EvalSurv\n",
        "\n",
        "import torch\n",
        "import torchtuples as tt\n",
        "\n",
        "from pycox.preprocessing.feature_transforms import OrderedCategoricalLong\n",
        "\n",
        "import torch\n",
        "import torch.nn as nn\n",
        "import torch.nn.functional as F\n",
        "from torch.utils.data import Dataset, DataLoader \n",
        "\n",
        "# MNIST is part of torchvision\n",
        "from torchvision import datasets, transforms\n",
        "\n",
        "from pycox.utils import kaplan_meier"
      ],
      "metadata": {
        "id": "IZOY_hA4O-Wq"
      },
      "execution_count": 3,
      "outputs": []
    },
    {
      "cell_type": "code",
      "source": [
        "np.random.seed(1234)\n",
        "_ = torch.manual_seed(1234)"
      ],
      "metadata": {
        "id": "I42T395DTs_4"
      },
      "execution_count": 4,
      "outputs": []
    },
    {
      "cell_type": "markdown",
      "source": [
        "If you have mounted the data rightly, you should print out the list for files in given folder. For example, this will print out all files in `/content/drive/My Drive/Kevin He`"
      ],
      "metadata": {
        "id": "eMTd8u0JDuKl"
      }
    },
    {
      "cell_type": "code",
      "source": [
        "# TODO: Fill in the Google Drive path where you uploaded the assignment\n",
        "# Example: If you create a 2022WI folder and put all the files under A4 folder, then \"2022WI/A4\"\n",
        "GOOGLE_DRIVE_PATH_AFTER_MYDRIVE = \"Kevin He\"\n",
        "GOOGLE_DRIVE_PATH = os.path.join(\"/content/drive\", \"My Drive\", GOOGLE_DRIVE_PATH_AFTER_MYDRIVE)\n",
        "print(os.listdir(GOOGLE_DRIVE_PATH))\n",
        "\n",
        "# Add to sys so we can import .py files.\n",
        "sys.path.append(GOOGLE_DRIVE_PATH)"
      ],
      "metadata": {
        "colab": {
          "base_uri": "https://localhost:8080/"
        },
        "outputId": "b9b64ee2-a584-4b42-b6f1-255b4bdda5c0",
        "id": "izaCKipaCoKe"
      },
      "execution_count": 5,
      "outputs": [
        {
          "output_type": "stream",
          "name": "stdout",
          "text": [
            "['Deep Learning with KL Divergence Simulation 3: Tutorial.ipynb', 'local_data.csv', 'prior_data.csv', 'local_data_2.csv', 'local_data_3.csv', 'prior_data_subset.csv', 'prior_data_subset_2.csv', 'prior_data_subset_3.csv', 'R-code.ipynb', 'local_data_together.csv', 'Untitled', 'Deep Learning with KL Divergence Non-linear Visualization.ipynb', 'Deep Learning with KL Divergence Simulation Image Data.ipynb', 'Deep Learning with KL Divergence.ipynb', 'Deep Learning with KL Divergence Real Data.ipynb', 'prior_data_subset_4.csv', 'Deep Learning with KL Divergence Simulation 1: Tutorial', 'Deep Learning with KL Divergence Simulation Non-linear-prop.ipynb', 'Deep Learning with KL Divergence Simulation 2-1: Tutorial.ipynb', 'Deep Learning with KL-divergence Real Data: Tutorial.ipynb']\n"
          ]
        }
      ]
    },
    {
      "cell_type": "markdown",
      "source": [
        "# Find Image Data"
      ],
      "metadata": {
        "id": "iLalASOHu2_d"
      }
    },
    {
      "cell_type": "markdown",
      "source": [
        "In this experiment, we will use image data as the features to generate the survival function, MNIST is one handwritting-digit dataset with 60000 training data and 10000 test data. The digit of the image will be used as one hyperparameter $\\alpha$ and event_times will be generated by an exponential function $\\exp(\\alpha)$. We use $700$ as the maximum time for observation, which means patients with event_time > 700 will be marked as censored data. \n",
        "\n",
        "Below is one visualization of the image data. The digit is 5."
      ],
      "metadata": {
        "id": "tGNONVomYwWV"
      }
    },
    {
      "cell_type": "code",
      "source": [
        "transform = transforms.Compose(\n",
        "    [transforms.ToTensor(),\n",
        "     transforms.Normalize((0.1307,), (0.3081,))]\n",
        ")\n",
        "mnist_train = datasets.MNIST('.', train=True, download=True,\n",
        "                             transform=transform)\n",
        "mnist_test = datasets.MNIST('.', train=False, transform=transform)\n",
        "_ = plt.imshow(mnist_train[0][0][0].numpy(), cmap='gray')"
      ],
      "metadata": {
        "colab": {
          "base_uri": "https://localhost:8080/",
          "height": 265
        },
        "id": "BUWINy6-rkd6",
        "outputId": "3bb6c738-8aac-4d29-bc93-a8548f7bf12f"
      },
      "execution_count": 6,
      "outputs": [
        {
          "output_type": "display_data",
          "data": {
            "text/plain": [
              "<Figure size 432x288 with 1 Axes>"
            ],
            "image/png": "[encoded data removed]"
          },
          "metadata": {
            "needs_background": "light"
          }
        }
      ]
    },
    {
      "cell_type": "markdown",
      "source": [
        "`sim_event_times` is the function for generating event time and status. Larger digit means lower betas. `status = 0` means censored. `tt.tuplefy` will generate a tuple with time and status as two elements."
      ],
      "metadata": {
        "id": "QEf-QbbQbrJT"
      }
    },
    {
      "cell_type": "code",
      "source": [
        "def sim_event_times(mnist, max_time=365):\n",
        "    digits = mnist.targets.numpy()\n",
        "    betas = 365 * np.exp(-0.6 * digits) / np.log(1.2)\n",
        "    event_times = np.random.exponential(betas)\n",
        "    censored = event_times > max_time\n",
        "    event_times[censored] = max_time\n",
        "    return tt.tuplefy(event_times, ~censored)"
      ],
      "metadata": {
        "id": "MWS1XbVwrk8t"
      },
      "execution_count": 7,
      "outputs": []
    },
    {
      "cell_type": "code",
      "source": [
        "sim_train = sim_event_times(mnist_train)\n",
        "sim_test = sim_event_times(mnist_test)"
      ],
      "metadata": {
        "id": "KBQ6mvFDrseO"
      },
      "execution_count": 8,
      "outputs": []
    },
    {
      "cell_type": "code",
      "source": [
        "sim_train"
      ],
      "metadata": {
        "colab": {
          "base_uri": "https://localhost:8080/"
        },
        "id": "OeMTTldMsTRZ",
        "outputId": "e9c30902-3aa4-4e64-82ed-a1429a783ac8"
      },
      "execution_count": 9,
      "outputs": [
        {
          "output_type": "execute_result",
          "data": {
            "text/plain": [
              "(array([ 21.19004682, 365.        , 104.56743096, ..., 121.80432849,\n",
              "          2.50843078,  13.8114342 ]),\n",
              " array([ True, False,  True, ...,  True,  True,  True]))"
            ]
          },
          "metadata": {},
          "execution_count": 9
        }
      ]
    },
    {
      "cell_type": "code",
      "source": [
        "sim_test"
      ],
      "metadata": {
        "colab": {
          "base_uri": "https://localhost:8080/"
        },
        "id": "aRPuoH--nfPP",
        "outputId": "1d621310-2a06-41d6-a639-4a493a9e98b2"
      },
      "execution_count": 10,
      "outputs": [
        {
          "output_type": "execute_result",
          "data": {
            "text/plain": [
              "(array([ 10.42829987, 365.        , 365.        , ..., 191.88540975,\n",
              "         11.6321451 ,  25.84357732]),\n",
              " array([ True, False, False, ...,  True,  True,  True]))"
            ]
          },
          "metadata": {},
          "execution_count": 10
        }
      ]
    },
    {
      "cell_type": "markdown",
      "source": [
        "# Simulate Half of The Data"
      ],
      "metadata": {
        "id": "hy4ctFBxvN0Z"
      }
    },
    {
      "cell_type": "markdown",
      "source": [
        "Due to the time cost of CNN, we will only sample out half of the training data (30000 in total). We will store the 30000 images in `img` with size $N \\times 1 \\times 28 \\times 28$. "
      ],
      "metadata": {
        "id": "-8zx9ax4fe3U"
      }
    },
    {
      "cell_type": "code",
      "source": [
        "from random import sample\n",
        "\n",
        "list1 = [i for i in range(60000)]\n",
        "index = sample(list1, 30000)"
      ],
      "metadata": {
        "id": "uVepjFMsShig"
      },
      "execution_count": 11,
      "outputs": []
    },
    {
      "cell_type": "code",
      "source": [
        "img = [mnist_train[i][0] for i in index]\n",
        "img = torch.stack(img)\n",
        "img.shape"
      ],
      "metadata": {
        "colab": {
          "base_uri": "https://localhost:8080/"
        },
        "id": "C6BPpGsLUvO3",
        "outputId": "fdf6b656-b88e-417f-8020-8b802ed00101"
      },
      "execution_count": 12,
      "outputs": [
        {
          "output_type": "execute_result",
          "data": {
            "text/plain": [
              "torch.Size([30000, 1, 28, 28])"
            ]
          },
          "metadata": {},
          "execution_count": 12
        }
      ]
    },
    {
      "cell_type": "code",
      "source": [
        "sim_train_subset = (sim_train[0][index], sim_train[1][index])"
      ],
      "metadata": {
        "id": "OTdYOhj4VEBn"
      },
      "execution_count": 13,
      "outputs": []
    },
    {
      "cell_type": "markdown",
      "source": [
        "We will transform the event time to discrete version. `labtrans.cuts` can see the boundaries for each time interval."
      ],
      "metadata": {
        "id": "wN7UnbFynNJ6"
      }
    },
    {
      "cell_type": "code",
      "source": [
        "labtrans = LogisticHazard.label_transform(20)\n",
        "target_train = labtrans.fit_transform(*sim_train_subset)\n",
        "\n",
        "labtrans.cuts"
      ],
      "metadata": {
        "colab": {
          "base_uri": "https://localhost:8080/"
        },
        "id": "WMRmwWYWVP2O",
        "outputId": "bd4bc288-faca-4ee5-e943-80551da78cdc"
      },
      "execution_count": 14,
      "outputs": [
        {
          "output_type": "execute_result",
          "data": {
            "text/plain": [
              "array([  0.        ,  19.21052632,  38.42105263,  57.63157895,\n",
              "        76.84210526,  96.05263158, 115.26315789, 134.47368421,\n",
              "       153.68421053, 172.89473684, 192.10526316, 211.31578947,\n",
              "       230.52631579, 249.73684211, 268.94736842, 288.15789474,\n",
              "       307.36842105, 326.57894737, 345.78947368, 365.        ])"
            ]
          },
          "metadata": {},
          "execution_count": 14
        }
      ]
    },
    {
      "cell_type": "code",
      "source": [
        "target_train"
      ],
      "metadata": {
        "colab": {
          "base_uri": "https://localhost:8080/"
        },
        "id": "Y820Kc78Vfd3",
        "outputId": "c1379149-d3ab-4395-f941-280b0a1da9c6"
      },
      "execution_count": 15,
      "outputs": [
        {
          "output_type": "execute_result",
          "data": {
            "text/plain": [
              "(array([ 2, 19, 19, ...,  1,  1,  5]),\n",
              " array([1., 0., 0., ..., 1., 1., 1.], dtype=float32))"
            ]
          },
          "metadata": {},
          "execution_count": 15
        }
      ]
    },
    {
      "cell_type": "markdown",
      "source": [
        "In summary, `img` is used for storing images for training and `target_train` is the event time and status."
      ],
      "metadata": {
        "id": "o4ImzhLMo6Ml"
      }
    },
    {
      "cell_type": "markdown",
      "source": [
        "# Prior Model Training"
      ],
      "metadata": {
        "id": "hUD-1LTZqFY_"
      }
    },
    {
      "cell_type": "markdown",
      "source": [
        "Similarly, we select 90% of the data (`ratio = 0.9`) and we select the corresponding prior and local information by indexing."
      ],
      "metadata": {
        "id": "4ZwI5jPjqmVi"
      }
    },
    {
      "cell_type": "code",
      "source": [
        "ratio = 0.9\n",
        "\n",
        "list1 = [i for i in range(30000)]\n",
        "index_prior = sample(list1, int(30000 * ratio))\n",
        "index_local = [i for i in list1 if i not in index_prior]\n",
        "\n",
        "img_prior = [img[i] for i in index_prior]\n",
        "img_prior = torch.stack(img_prior)\n",
        "\n",
        "img_local = [img[i] for i in index_local]\n",
        "img_local = torch.stack(img_local)\n",
        "\n",
        "target_prior = (target_train[0][index_prior], target_train[1][index_prior])\n",
        "target_local = (target_train[0][index_local], target_train[1][index_local])\n",
        "# sim_prior = (sim_train_subset[0][index_prior], sim_train_subset[1][index_prior])\n",
        "# sim_local = (sim_train_subset[0][index_local], sim_train_subset[1][index_local])"
      ],
      "metadata": {
        "id": "IrJvI5mNV7wP"
      },
      "execution_count": 130,
      "outputs": []
    },
    {
      "cell_type": "code",
      "source": [
        "list1 = [i for i in range(int(30000 * ratio))]\n",
        "index_prior_train = sample(list1, int(30000 * ratio * 0.8))\n",
        "index_prior_val = [i for i in list1 if i not in index_prior_train]\n",
        "\n",
        "img_prior_train = [img_prior[i] for i in index_prior_train]\n",
        "img_prior_train = torch.stack(img_prior_train)\n",
        "\n",
        "img_prior_val = [img_prior[i] for i in index_prior_val]\n",
        "img_prior_val = torch.stack(img_prior_val)\n",
        "\n",
        "target_prior_train = (target_prior[0][index_prior_train], target_prior[1][index_prior_train])\n",
        "target_prior_val = (target_prior[0][index_prior_val], target_prior[1][index_prior_val])"
      ],
      "metadata": {
        "id": "WxpdLlWCfEx5"
      },
      "execution_count": 131,
      "outputs": []
    },
    {
      "cell_type": "markdown",
      "source": [
        "We use `MnistSimDatasetBatch` to create a class for transforming data into dataloader, which will be used for further model training."
      ],
      "metadata": {
        "id": "T30rEtp8vRqo"
      }
    },
    {
      "cell_type": "code",
      "source": [
        "class MnistSimDatasetBatch(Dataset):\n",
        "    def __init__(self, mnist_dataset, time, event):\n",
        "        self.mnist_dataset = mnist_dataset\n",
        "        self.time, self.event = tt.tuplefy(time, event).to_tensor()\n",
        "\n",
        "    def __len__(self):\n",
        "        return len(self.time)\n",
        "\n",
        "    def __getitem__(self, index):\n",
        "        if not hasattr(index, '__iter__'):\n",
        "            index = [index]\n",
        "        img = [self.mnist_dataset[i] for i in index]\n",
        "        img = torch.stack(img)\n",
        "        return tt.tuplefy(img, (self.time[index], self.event[index]))\n",
        "\n",
        "data_prior = MnistSimDatasetBatch(img_prior, *target_prior)\n",
        "# data_local = MnistSimDatasetBatch(img_local, *target_local)\n",
        "data_prior_train = MnistSimDatasetBatch(img_prior_train, *target_prior_train)\n",
        "data_prior_val = MnistSimDatasetBatch(img_prior_val, *target_prior_val)"
      ],
      "metadata": {
        "id": "SDwCeIjzbul1"
      },
      "execution_count": 132,
      "outputs": []
    },
    {
      "cell_type": "markdown",
      "source": [
        "We also use `tt.data.DataLoaderBatch` to do batch training."
      ],
      "metadata": {
        "id": "TCAGmRoQvphP"
      }
    },
    {
      "cell_type": "code",
      "source": [
        "batch_size = 64\n",
        "\n",
        "dl_prior = tt.data.DataLoaderBatch(data_prior, batch_size, shuffle=True)\n",
        "# dl_local = tt.data.DataLoaderBatch(data_local, batch_size, shuffle=True)\n",
        "\n",
        "dl_prior_train = tt.data.DataLoaderBatch(data_prior_train, batch_size, shuffle=True)\n",
        "dl_prior_val = tt.data.DataLoaderBatch(data_prior_val, batch_size, shuffle=False)\n",
        "\n",
        "next(iter(dl_prior_train)).shapes()"
      ],
      "metadata": {
        "colab": {
          "base_uri": "https://localhost:8080/"
        },
        "id": "pY2-Z_DBdHGs",
        "outputId": "21f347e6-2c8b-47ac-ed16-83281e63aab4"
      },
      "execution_count": 133,
      "outputs": [
        {
          "output_type": "execute_result",
          "data": {
            "text/plain": [
              "(torch.Size([64, 1, 28, 28]), (torch.Size([64]), torch.Size([64])))"
            ]
          },
          "metadata": {},
          "execution_count": 133
        }
      ]
    },
    {
      "cell_type": "code",
      "source": [
        "class Net(nn.Module):\n",
        "    def __init__(self, out_features):\n",
        "        super().__init__()\n",
        "        self.conv1 = nn.Conv2d(1, 16, 5, 1)\n",
        "        self.max_pool = nn.MaxPool2d(2)\n",
        "        self.conv2 = nn.Conv2d(16, 16, 5, 1)\n",
        "        self.glob_avg_pool = nn.AdaptiveAvgPool2d((1, 1))\n",
        "        self.fc1 = nn.Linear(16, 16)\n",
        "        self.fc2 = nn.Linear(16, out_features)\n",
        "\n",
        "    def forward(self, x):\n",
        "        x = F.relu(self.conv1(x))\n",
        "        x = self.max_pool(x)\n",
        "        x = F.relu(self.conv2(x))\n",
        "        x = self.glob_avg_pool(x)\n",
        "        x = torch.flatten(x, 1)\n",
        "        x = F.relu(self.fc1(x))\n",
        "        x = self.fc2(x)\n",
        "        return x"
      ],
      "metadata": {
        "id": "SM9jd4q6e5iy"
      },
      "execution_count": 134,
      "outputs": []
    },
    {
      "cell_type": "markdown",
      "source": [
        "`net` can show the details of the model."
      ],
      "metadata": {
        "id": "g5Ub7oFsw6Ws"
      }
    },
    {
      "cell_type": "code",
      "source": [
        "net = Net(labtrans.out_features)\n",
        "net"
      ],
      "metadata": {
        "colab": {
          "base_uri": "https://localhost:8080/"
        },
        "outputId": "4ca0019a-8656-4ab1-fede-50e42e2c40e3",
        "id": "r2mbT1_le5iz"
      },
      "execution_count": 135,
      "outputs": [
        {
          "output_type": "execute_result",
          "data": {
            "text/plain": [
              "Net(\n",
              "  (conv1): Conv2d(1, 16, kernel_size=(5, 5), stride=(1, 1))\n",
              "  (max_pool): MaxPool2d(kernel_size=2, stride=2, padding=0, dilation=1, ceil_mode=False)\n",
              "  (conv2): Conv2d(16, 16, kernel_size=(5, 5), stride=(1, 1))\n",
              "  (glob_avg_pool): AdaptiveAvgPool2d(output_size=(1, 1))\n",
              "  (fc1): Linear(in_features=16, out_features=16, bias=True)\n",
              "  (fc2): Linear(in_features=16, out_features=20, bias=True)\n",
              ")"
            ]
          },
          "metadata": {},
          "execution_count": 135
        }
      ]
    },
    {
      "cell_type": "code",
      "source": [
        "model = LogisticHazard(net, tt.optim.Adam(0.01))"
      ],
      "metadata": {
        "id": "9Ee5hBDwe5iz"
      },
      "execution_count": 136,
      "outputs": []
    },
    {
      "cell_type": "markdown",
      "source": [
        "Here we train a model using prior data, note that the final val_loss should be around `1.8`. "
      ],
      "metadata": {
        "id": "uGbQTR_Fnd5Y"
      }
    },
    {
      "cell_type": "code",
      "source": [
        "callbacks = [tt.cb.EarlyStopping(patience=5)]\n",
        "epochs = 100\n",
        "verbose = True\n",
        "log = model.fit_dataloader(dl_prior_train, epochs, callbacks, verbose, val_dataloader=dl_prior_val)"
      ],
      "metadata": {
        "colab": {
          "base_uri": "https://localhost:8080/"
        },
        "outputId": "95e8ed2d-c4be-470e-f5e8-c3e908db860b",
        "id": "24lClmKVe5i0"
      },
      "execution_count": 137,
      "outputs": [
        {
          "output_type": "stream",
          "name": "stdout",
          "text": [
            "0:\t[0s / 0s],\t\ttrain_loss: 2.3457,\tval_loss: 2.2697\n",
            "1:\t[0s / 1s],\t\ttrain_loss: 2.0903,\tval_loss: 2.0315\n",
            "2:\t[0s / 1s],\t\ttrain_loss: 1.9794,\tval_loss: 1.9879\n",
            "3:\t[0s / 2s],\t\ttrain_loss: 1.9261,\tval_loss: 1.9201\n",
            "4:\t[0s / 2s],\t\ttrain_loss: 1.9137,\tval_loss: 1.8926\n",
            "5:\t[0s / 3s],\t\ttrain_loss: 1.8712,\tval_loss: 1.8893\n",
            "6:\t[0s / 3s],\t\ttrain_loss: 1.8652,\tval_loss: 1.8565\n",
            "7:\t[0s / 4s],\t\ttrain_loss: 1.8430,\tval_loss: 1.8955\n",
            "8:\t[0s / 5s],\t\ttrain_loss: 1.8395,\tval_loss: 1.8922\n",
            "9:\t[0s / 5s],\t\ttrain_loss: 1.8220,\tval_loss: 1.8404\n",
            "10:\t[0s / 6s],\t\ttrain_loss: 1.8099,\tval_loss: 1.8618\n",
            "11:\t[0s / 6s],\t\ttrain_loss: 1.8093,\tval_loss: 1.8677\n",
            "12:\t[0s / 7s],\t\ttrain_loss: 1.7975,\tval_loss: 1.8884\n",
            "13:\t[0s / 7s],\t\ttrain_loss: 1.7931,\tval_loss: 1.8463\n",
            "14:\t[0s / 8s],\t\ttrain_loss: 1.7846,\tval_loss: 1.8358\n",
            "15:\t[0s / 8s],\t\ttrain_loss: 1.7835,\tval_loss: 1.8308\n",
            "16:\t[0s / 9s],\t\ttrain_loss: 1.7830,\tval_loss: 1.8318\n",
            "17:\t[0s / 9s],\t\ttrain_loss: 1.7821,\tval_loss: 1.8534\n",
            "18:\t[0s / 10s],\t\ttrain_loss: 1.7767,\tval_loss: 1.8358\n",
            "19:\t[0s / 10s],\t\ttrain_loss: 1.7733,\tval_loss: 1.8521\n",
            "20:\t[0s / 11s],\t\ttrain_loss: 1.7747,\tval_loss: 1.8406\n"
          ]
        }
      ]
    },
    {
      "cell_type": "code",
      "source": [
        "class MnistSimInput(Dataset):\n",
        "    def __init__(self, mnist_dataset):\n",
        "        self.mnist_dataset = mnist_dataset\n",
        "\n",
        "    def __len__(self):\n",
        "        return len(self.mnist_dataset)\n",
        "\n",
        "    def __getitem__(self, index):\n",
        "        img = self.mnist_dataset[index]\n",
        "        return img\n",
        "\n",
        "data_local_test = MnistSimInput(img_prior_val)\n",
        "dl_local_test = DataLoader(data_local_test, batch_size, shuffle=False)"
      ],
      "metadata": {
        "id": "wTcQ8ZZ4n406"
      },
      "execution_count": 138,
      "outputs": []
    },
    {
      "cell_type": "markdown",
      "source": [
        "`interpolate` is used for generalizing our data trained for discrete time model. This is used for computing integrated brier score."
      ],
      "metadata": {
        "id": "c-CtO9ppnk3R"
      }
    },
    {
      "cell_type": "code",
      "source": [
        "surv = model.interpolate(10).predict_surv_df(dl_local_test)\n",
        "ev = EvalSurv(surv, *target_prior_val, 'km')\n",
        "ev.concordance_td(\"antolini\")"
      ],
      "metadata": {
        "colab": {
          "base_uri": "https://localhost:8080/"
        },
        "outputId": "99811363-db44-40f2-d58a-b2d761d7d00b",
        "id": "mN82aQWQmsdK"
      },
      "execution_count": 139,
      "outputs": [
        {
          "output_type": "stream",
          "name": "stderr",
          "text": [
            "/usr/local/lib/python3.7/dist-packages/torchtuples/base.py:484: UserWarning: The input from the dataloader is different from\n",
            "                        the 'input' during trainig. The shapes are different.\n",
            "  the 'input' during trainig. The shapes are different.\"\"\"\n"
          ]
        },
        {
          "output_type": "execute_result",
          "data": {
            "text/plain": [
              "0.8268961694692692"
            ]
          },
          "metadata": {},
          "execution_count": 139
        }
      ]
    },
    {
      "cell_type": "code",
      "source": [
        "time_grid = np.linspace(0, sim_test[0].max())\n",
        "ev.integrated_brier_score(time_grid)"
      ],
      "metadata": {
        "colab": {
          "base_uri": "https://localhost:8080/"
        },
        "outputId": "311d9712-9deb-4168-faab-9605b0e6d635",
        "id": "LXf8XhX2msdL"
      },
      "execution_count": 140,
      "outputs": [
        {
          "output_type": "execute_result",
          "data": {
            "text/plain": [
              "0.12174032639367117"
            ]
          },
          "metadata": {},
          "execution_count": 140
        }
      ]
    },
    {
      "cell_type": "markdown",
      "source": [
        "# Apply Prior Model to Local"
      ],
      "metadata": {
        "id": "DtWPieXexblv"
      }
    },
    {
      "cell_type": "code",
      "source": [
        "list1 = [i for i in range(int(30000 * (1 - ratio)))]\n",
        "index_local_train = sample(list1, int(30000 * (1 - ratio) * 0.8))\n",
        "index_local_test = [i for i in list1 if i not in index_local_train]\n",
        "\n",
        "list2 = [i for i in range(int(30000 * (1 - ratio) * 0.8))]\n",
        "index_temp = sample(list2, int(30000 * (1 - ratio) * 0.8 * 0.8))\n",
        "index_local_val = [index_local_train[i] for i in list2 if i not in index_temp]\n",
        "index_local_train = [index_local_train[i] for i in list2 if i in index_temp]\n",
        "\n",
        "img_local_train = [img_local[i] for i in index_local_train]\n",
        "img_local_train = torch.stack(img_local_train)\n",
        "\n",
        "img_local_val = [img_local[i] for i in index_local_val]\n",
        "img_local_val = torch.stack(img_local_val)\n",
        "\n",
        "img_local_test = [img_local[i] for i in index_local_test]\n",
        "img_local_test = torch.stack(img_local_test)"
      ],
      "metadata": {
        "id": "1ggHUmcJ2Tqb"
      },
      "execution_count": 141,
      "outputs": []
    },
    {
      "cell_type": "code",
      "source": [
        "target_local_train = (target_local[0][index_local_train], target_local[1][index_local_train])\n",
        "target_local_val = (target_local[0][index_local_val], target_local[1][index_local_val])\n",
        "target_local_test = (target_local[0][index_local_test], target_local[1][index_local_test])"
      ],
      "metadata": {
        "id": "kOofyD_8y1y9"
      },
      "execution_count": 142,
      "outputs": []
    },
    {
      "cell_type": "code",
      "source": [
        "prior_info_train = model.predict_hazard(img_local_train)\n",
        "prior_info_val = model.predict_hazard(img_local_val)\n",
        "\n",
        "time = target_local[0]\n",
        "time = np.array(time).reshape(time.shape[0], -1)\n",
        "zeros = np.zeros((time.shape[0], 21))\n",
        "np.put_along_axis(zeros, time, np.array(target_local[1]).reshape(-1, 1), axis=1)\n",
        "zeros = zeros[:, :-1]\n",
        "\n",
        "zeros_train = zeros[index_local_train]\n",
        "zeros_val = zeros[index_local_val]\n",
        "\n",
        "eta = 100\n",
        "combined_info_train = (torch.Tensor(zeros_train).to(\"cuda\") + eta * prior_info_train) / (1 + eta)\n",
        "combined_info_val = (torch.Tensor(zeros_val).to(\"cuda\") + eta * prior_info_val) / (1 + eta)\n"
      ],
      "metadata": {
        "colab": {
          "base_uri": "https://localhost:8080/"
        },
        "id": "4EKn3AomapJo",
        "outputId": "b10b345a-b4a8-492e-cddf-ef43f2e59faa"
      },
      "execution_count": 143,
      "outputs": [
        {
          "output_type": "stream",
          "name": "stderr",
          "text": [
            "/usr/local/lib/python3.7/dist-packages/torchtuples/base.py:484: UserWarning: The input from the dataloader is different from\n",
            "                        the 'input' during trainig. The shapes are different.\n",
            "  the 'input' during trainig. The shapes are different.\"\"\"\n"
          ]
        }
      ]
    },
    {
      "cell_type": "code",
      "source": [
        "target_local_train_new = (combined_info_train, *target_local_train)\n",
        "target_local_val_new = (combined_info_val, *target_local_val)"
      ],
      "metadata": {
        "id": "BGjwHi-GapRK"
      },
      "execution_count": 147,
      "outputs": []
    },
    {
      "cell_type": "code",
      "source": [
        "class MnistSimDatasetBatch(Dataset):\n",
        "    def __init__(self, mnist_dataset, combined_info, time, event):\n",
        "        self.mnist_dataset = mnist_dataset\n",
        "        self.time, self.event = tt.tuplefy(time, event).to_tensor()\n",
        "        self.combined_info = combined_info\n",
        "\n",
        "    def __len__(self):\n",
        "        return len(self.time)\n",
        "\n",
        "    def __getitem__(self, index):\n",
        "        if not hasattr(index, '__iter__'):\n",
        "            index = [index]\n",
        "        img = [self.mnist_dataset[i] for i in index]\n",
        "        img = torch.stack(img)\n",
        "        return tt.tuplefy(img, (self.combined_info[index], self.time[index], self.event[index]))\n",
        "\n",
        "data_local_train = MnistSimDatasetBatch(img_local_train, *target_local_train_new)\n",
        "data_local_val = MnistSimDatasetBatch(img_local_val, *target_local_val_new)\n",
        "# data_local_test = MnistSimDatasetBatch(img_local, *target_local_test)"
      ],
      "metadata": {
        "id": "EURiyGgV-8aD"
      },
      "execution_count": 231,
      "outputs": []
    },
    {
      "cell_type": "code",
      "source": [
        "batch_size = 32\n",
        "\n",
        "dl_local_train = tt.data.DataLoaderBatch(data_local_train, batch_size, shuffle=True)\n",
        "dl_local_val = tt.data.DataLoaderBatch(data_local_val, batch_size, shuffle=False)\n",
        "# dl_local_test = tt.data.DataLoaderBatch(data_local_test, batch_size, shuffle=True)"
      ],
      "metadata": {
        "id": "pJ4V9s77NdJn"
      },
      "execution_count": 232,
      "outputs": []
    },
    {
      "cell_type": "code",
      "source": [
        "class Net(nn.Module):\n",
        "    def __init__(self, out_features):\n",
        "        super().__init__()\n",
        "        self.conv1 = nn.Conv2d(1, 16, 5, 1)\n",
        "        self.max_pool = nn.MaxPool2d(2)\n",
        "        self.conv2 = nn.Conv2d(16, 16, 5, 1)\n",
        "        self.glob_avg_pool = nn.AdaptiveAvgPool2d((1, 1))\n",
        "        self.fc1 = nn.Linear(16, 16)\n",
        "        self.fc2 = nn.Linear(16, out_features)\n",
        "\n",
        "    def forward(self, x):\n",
        "        x = F.relu(self.conv1(x))\n",
        "        x = self.max_pool(x)\n",
        "        x = F.relu(self.conv2(x))\n",
        "        x = self.glob_avg_pool(x)\n",
        "        x = torch.flatten(x, 1)\n",
        "        x = F.relu(self.fc1(x))\n",
        "        x = self.fc2(x)\n",
        "        return x"
      ],
      "metadata": {
        "id": "rVrgNIQd1eTE"
      },
      "execution_count": 233,
      "outputs": []
    },
    {
      "cell_type": "code",
      "source": [
        "net = Net(labtrans.out_features)\n",
        "net"
      ],
      "metadata": {
        "colab": {
          "base_uri": "https://localhost:8080/"
        },
        "id": "3wdiW4z39Itj",
        "outputId": "fc79fca6-7760-4a20-a748-1e0d7ebb9e72"
      },
      "execution_count": 234,
      "outputs": [
        {
          "output_type": "execute_result",
          "data": {
            "text/plain": [
              "Net(\n",
              "  (conv1): Conv2d(1, 16, kernel_size=(5, 5), stride=(1, 1))\n",
              "  (max_pool): MaxPool2d(kernel_size=2, stride=2, padding=0, dilation=1, ceil_mode=False)\n",
              "  (conv2): Conv2d(16, 16, kernel_size=(5, 5), stride=(1, 1))\n",
              "  (glob_avg_pool): AdaptiveAvgPool2d(output_size=(1, 1))\n",
              "  (fc1): Linear(in_features=16, out_features=16, bias=True)\n",
              "  (fc2): Linear(in_features=16, out_features=20, bias=True)\n",
              ")"
            ]
          },
          "metadata": {},
          "execution_count": 234
        }
      ]
    },
    {
      "cell_type": "code",
      "source": [
        "model = LogisticHazard(net, tt.optim.Adam(0.005), duration_index=labtrans.cuts, loss = \"option\")"
      ],
      "metadata": {
        "colab": {
          "base_uri": "https://localhost:8080/"
        },
        "id": "ytnDARAr9KE_",
        "outputId": "19d957d3-79ec-4495-be90-6e9c0d709084"
      },
      "execution_count": 235,
      "outputs": [
        {
          "output_type": "stream",
          "name": "stdout",
          "text": [
            "1\n"
          ]
        }
      ]
    },
    {
      "cell_type": "code",
      "source": [
        "callbacks = [tt.cb.EarlyStopping(patience=5)]\n",
        "epochs = 50\n",
        "verbose = True\n",
        "log = model.fit_dataloader(dl_local_train, epochs, callbacks, verbose, val_dataloader=dl_local_val)"
      ],
      "metadata": {
        "colab": {
          "base_uri": "https://localhost:8080/"
        },
        "id": "HgVW0sYu9N9j",
        "outputId": "708dab1c-a751-48b7-8789-a33f88370a4a"
      },
      "execution_count": 236,
      "outputs": [
        {
          "output_type": "stream",
          "name": "stdout",
          "text": [
            "0:\t[0s / 0s],\t\ttrain_loss: 3.5945,\tval_loss: 2.4057\n",
            "1:\t[0s / 0s],\t\ttrain_loss: 2.3252,\tval_loss: 2.2704\n",
            "2:\t[0s / 0s],\t\ttrain_loss: 2.2767,\tval_loss: 2.2520\n",
            "3:\t[0s / 0s],\t\ttrain_loss: 2.2687,\tval_loss: 2.2670\n",
            "4:\t[0s / 0s],\t\ttrain_loss: 2.2655,\tval_loss: 2.2649\n",
            "5:\t[0s / 0s],\t\ttrain_loss: 2.2758,\tval_loss: 2.2855\n",
            "6:\t[0s / 0s],\t\ttrain_loss: 2.2650,\tval_loss: 2.2402\n",
            "7:\t[0s / 0s],\t\ttrain_loss: 2.2406,\tval_loss: 2.2338\n",
            "8:\t[0s / 0s],\t\ttrain_loss: 2.2157,\tval_loss: 2.2031\n",
            "9:\t[0s / 1s],\t\ttrain_loss: 2.1849,\tval_loss: 2.1480\n",
            "10:\t[0s / 1s],\t\ttrain_loss: 2.1414,\tval_loss: 2.1245\n",
            "11:\t[0s / 1s],\t\ttrain_loss: 2.1091,\tval_loss: 2.0733\n",
            "12:\t[0s / 1s],\t\ttrain_loss: 2.1096,\tval_loss: 2.1204\n",
            "13:\t[0s / 1s],\t\ttrain_loss: 2.0785,\tval_loss: 2.0477\n",
            "14:\t[0s / 1s],\t\ttrain_loss: 2.0643,\tval_loss: 2.0784\n",
            "15:\t[0s / 1s],\t\ttrain_loss: 2.0604,\tval_loss: 2.0475\n",
            "16:\t[0s / 1s],\t\ttrain_loss: 2.0358,\tval_loss: 2.0203\n",
            "17:\t[0s / 1s],\t\ttrain_loss: 2.0389,\tval_loss: 2.0513\n",
            "18:\t[0s / 1s],\t\ttrain_loss: 2.0456,\tval_loss: 2.0329\n",
            "19:\t[0s / 2s],\t\ttrain_loss: 2.0516,\tval_loss: 2.0411\n",
            "20:\t[0s / 2s],\t\ttrain_loss: 2.0373,\tval_loss: 2.0149\n",
            "21:\t[0s / 2s],\t\ttrain_loss: 2.0272,\tval_loss: 2.0154\n",
            "22:\t[0s / 2s],\t\ttrain_loss: 2.0218,\tval_loss: 2.0176\n",
            "23:\t[0s / 2s],\t\ttrain_loss: 2.0383,\tval_loss: 2.0289\n",
            "24:\t[0s / 2s],\t\ttrain_loss: 2.0198,\tval_loss: 2.0209\n",
            "25:\t[0s / 2s],\t\ttrain_loss: 2.0160,\tval_loss: 2.0336\n"
          ]
        }
      ]
    },
    {
      "cell_type": "code",
      "source": [
        "class MnistSimDatasetBatch(Dataset):\n",
        "      def __init__(self, mnist_dataset, time, event):\n",
        "          self.mnist_dataset = mnist_dataset\n",
        "          self.time, self.event = tt.tuplefy(time, event).to_tensor()\n",
        "\n",
        "      def __len__(self):\n",
        "          return len(self.time)\n",
        "\n",
        "      def __getitem__(self, index):\n",
        "          if not hasattr(index, '__iter__'):\n",
        "              index = [index]\n",
        "          img = [self.mnist_dataset[i] for i in index]\n",
        "          img = torch.stack(img)\n",
        "          return tt.tuplefy(img, (self.time[index], self.event[index]))\n",
        "\n",
        "data_local_train = MnistSimDatasetBatch(img_local_train, *target_local_train)\n",
        "data_local_val = MnistSimDatasetBatch(img_local_val, *target_local_val)\n",
        "# data_local_test = MnistSimDatasetBatch(img_local, *target_local_test)\n",
        "\n",
        "batch_size = 32\n",
        "\n",
        "dl_local_train = tt.data.DataLoaderBatch(data_local_train, batch_size, shuffle=True)\n",
        "dl_local_val = tt.data.DataLoaderBatch(data_local_val, batch_size, shuffle=False)"
      ],
      "metadata": {
        "id": "7URvg6QglUBv"
      },
      "execution_count": 220,
      "outputs": []
    },
    {
      "cell_type": "code",
      "source": [
        "model = LogisticHazard(net, tt.optim.Adam(0.01))"
      ],
      "metadata": {
        "id": "_b4G69T3lF6a"
      },
      "execution_count": 221,
      "outputs": []
    },
    {
      "cell_type": "code",
      "source": [
        "callbacks = [tt.cb.EarlyStopping(patience=20)]\n",
        "epochs = 50\n",
        "verbose = True\n",
        "log = model.fit_dataloader(dl_local_train, epochs, callbacks, verbose, val_dataloader=dl_local_val)"
      ],
      "metadata": {
        "colab": {
          "base_uri": "https://localhost:8080/",
          "height": 822
        },
        "outputId": "1c33ccc6-6ea8-4caa-9ea2-c69db1d6a2e6",
        "id": "SsiqD5rklF6a"
      },
      "execution_count": 222,
      "outputs": [
        {
          "output_type": "stream",
          "name": "stdout",
          "text": [
            "0:\t[1s / 1s],\t\ttrain_loss: 2.2350,\tval_loss: 2.2213\n",
            "1:\t[1s / 2s],\t\ttrain_loss: 2.1016,\tval_loss: 2.0505\n",
            "2:\t[1s / 3s],\t\ttrain_loss: 2.0083,\tval_loss: 1.9860\n",
            "3:\t[1s / 4s],\t\ttrain_loss: 1.9739,\tval_loss: 1.9684\n",
            "4:\t[1s / 5s],\t\ttrain_loss: 1.9579,\tval_loss: 1.9511\n",
            "5:\t[1s / 6s],\t\ttrain_loss: 1.9450,\tval_loss: 1.9450\n",
            "6:\t[1s / 7s],\t\ttrain_loss: 1.9291,\tval_loss: 1.9181\n",
            "7:\t[1s / 9s],\t\ttrain_loss: 1.9138,\tval_loss: 1.9319\n",
            "8:\t[1s / 10s],\t\ttrain_loss: 1.9001,\tval_loss: 1.8947\n",
            "9:\t[1s / 11s],\t\ttrain_loss: 1.8899,\tval_loss: 1.8888\n",
            "10:\t[1s / 12s],\t\ttrain_loss: 1.8894,\tval_loss: 1.8892\n",
            "11:\t[1s / 14s],\t\ttrain_loss: 1.8761,\tval_loss: 1.8891\n",
            "12:\t[1s / 15s],\t\ttrain_loss: 1.8787,\tval_loss: 1.9089\n",
            "13:\t[1s / 16s],\t\ttrain_loss: 1.8735,\tval_loss: 1.9034\n",
            "14:\t[1s / 17s],\t\ttrain_loss: 1.8705,\tval_loss: 1.8868\n",
            "15:\t[1s / 19s],\t\ttrain_loss: 1.8697,\tval_loss: 1.8783\n",
            "16:\t[1s / 20s],\t\ttrain_loss: 1.8642,\tval_loss: 1.8971\n",
            "17:\t[1s / 21s],\t\ttrain_loss: 1.8642,\tval_loss: 1.8863\n",
            "18:\t[1s / 22s],\t\ttrain_loss: 1.8553,\tval_loss: 1.8936\n",
            "19:\t[1s / 24s],\t\ttrain_loss: 1.8619,\tval_loss: 1.8819\n",
            "20:\t[1s / 26s],\t\ttrain_loss: 1.8550,\tval_loss: 1.8851\n",
            "21:\t[1s / 27s],\t\ttrain_loss: 1.8524,\tval_loss: 1.8894\n",
            "22:\t[1s / 28s],\t\ttrain_loss: 1.8501,\tval_loss: 1.8897\n",
            "23:\t[1s / 29s],\t\ttrain_loss: 1.8491,\tval_loss: 1.8909\n",
            "24:\t[1s / 31s],\t\ttrain_loss: 1.8472,\tval_loss: 1.8835\n",
            "25:\t[1s / 32s],\t\ttrain_loss: 1.8456,\tval_loss: 1.8951\n"
          ]
        },
        {
          "output_type": "error",
          "ename": "KeyboardInterrupt",
          "evalue": "ignored",
          "traceback": [
            "\u001b[0;31m---------------------------------------------------------------------------\u001b[0m",
            "\u001b[0;31mKeyboardInterrupt\u001b[0m                         Traceback (most recent call last)",
            "\u001b[0;32m<ipython-input-222-71336bc3df8c>\u001b[0m in \u001b[0;36m<module>\u001b[0;34m()\u001b[0m\n\u001b[1;32m      2\u001b[0m \u001b[0mepochs\u001b[0m \u001b[0;34m=\u001b[0m \u001b[0;36m50\u001b[0m\u001b[0;34m\u001b[0m\u001b[0;34m\u001b[0m\u001b[0m\n\u001b[1;32m      3\u001b[0m \u001b[0mverbose\u001b[0m \u001b[0;34m=\u001b[0m \u001b[0;32mTrue\u001b[0m\u001b[0;34m\u001b[0m\u001b[0;34m\u001b[0m\u001b[0m\n\u001b[0;32m----> 4\u001b[0;31m \u001b[0mlog\u001b[0m \u001b[0;34m=\u001b[0m \u001b[0mmodel\u001b[0m\u001b[0;34m.\u001b[0m\u001b[0mfit_dataloader\u001b[0m\u001b[0;34m(\u001b[0m\u001b[0mdl_local_train\u001b[0m\u001b[0;34m,\u001b[0m \u001b[0mepochs\u001b[0m\u001b[0;34m,\u001b[0m \u001b[0mcallbacks\u001b[0m\u001b[0;34m,\u001b[0m \u001b[0mverbose\u001b[0m\u001b[0;34m,\u001b[0m \u001b[0mval_dataloader\u001b[0m\u001b[0;34m=\u001b[0m\u001b[0mdl_local_val\u001b[0m\u001b[0;34m)\u001b[0m\u001b[0;34m\u001b[0m\u001b[0;34m\u001b[0m\u001b[0m\n\u001b[0m",
            "\u001b[0;32m/usr/local/lib/python3.7/dist-packages/torchtuples/base.py\u001b[0m in \u001b[0;36mfit_dataloader\u001b[0;34m(self, dataloader, epochs, callbacks, verbose, metrics, val_dataloader)\u001b[0m\n\u001b[1;32m    236\u001b[0m                 \u001b[0mself\u001b[0m\u001b[0;34m.\u001b[0m\u001b[0mbatch_metrics\u001b[0m \u001b[0;34m=\u001b[0m \u001b[0mself\u001b[0m\u001b[0;34m.\u001b[0m\u001b[0mcompute_metrics\u001b[0m\u001b[0;34m(\u001b[0m\u001b[0mdata\u001b[0m\u001b[0;34m,\u001b[0m \u001b[0mself\u001b[0m\u001b[0;34m.\u001b[0m\u001b[0mmetrics\u001b[0m\u001b[0;34m)\u001b[0m\u001b[0;34m\u001b[0m\u001b[0;34m\u001b[0m\u001b[0m\n\u001b[1;32m    237\u001b[0m                 \u001b[0mself\u001b[0m\u001b[0;34m.\u001b[0m\u001b[0mbatch_loss\u001b[0m \u001b[0;34m=\u001b[0m \u001b[0mself\u001b[0m\u001b[0;34m.\u001b[0m\u001b[0mbatch_metrics\u001b[0m\u001b[0;34m[\u001b[0m\u001b[0;34m\"loss\"\u001b[0m\u001b[0;34m]\u001b[0m\u001b[0;34m\u001b[0m\u001b[0;34m\u001b[0m\u001b[0m\n\u001b[0;32m--> 238\u001b[0;31m                 \u001b[0mself\u001b[0m\u001b[0;34m.\u001b[0m\u001b[0mbatch_loss\u001b[0m\u001b[0;34m.\u001b[0m\u001b[0mbackward\u001b[0m\u001b[0;34m(\u001b[0m\u001b[0;34m)\u001b[0m\u001b[0;34m\u001b[0m\u001b[0;34m\u001b[0m\u001b[0m\n\u001b[0m\u001b[1;32m    239\u001b[0m                 \u001b[0mstop\u001b[0m \u001b[0;34m=\u001b[0m \u001b[0mself\u001b[0m\u001b[0;34m.\u001b[0m\u001b[0mcallbacks\u001b[0m\u001b[0;34m.\u001b[0m\u001b[0mbefore_step\u001b[0m\u001b[0;34m(\u001b[0m\u001b[0;34m)\u001b[0m\u001b[0;34m\u001b[0m\u001b[0;34m\u001b[0m\u001b[0m\n\u001b[1;32m    240\u001b[0m                 \u001b[0;32mif\u001b[0m \u001b[0mstop\u001b[0m\u001b[0;34m:\u001b[0m\u001b[0;34m\u001b[0m\u001b[0;34m\u001b[0m\u001b[0m\n",
            "\u001b[0;32m/usr/local/lib/python3.7/dist-packages/torch/_tensor.py\u001b[0m in \u001b[0;36mbackward\u001b[0;34m(self, gradient, retain_graph, create_graph, inputs)\u001b[0m\n\u001b[1;32m    361\u001b[0m                 \u001b[0mcreate_graph\u001b[0m\u001b[0;34m=\u001b[0m\u001b[0mcreate_graph\u001b[0m\u001b[0;34m,\u001b[0m\u001b[0;34m\u001b[0m\u001b[0;34m\u001b[0m\u001b[0m\n\u001b[1;32m    362\u001b[0m                 inputs=inputs)\n\u001b[0;32m--> 363\u001b[0;31m         \u001b[0mtorch\u001b[0m\u001b[0;34m.\u001b[0m\u001b[0mautograd\u001b[0m\u001b[0;34m.\u001b[0m\u001b[0mbackward\u001b[0m\u001b[0;34m(\u001b[0m\u001b[0mself\u001b[0m\u001b[0;34m,\u001b[0m \u001b[0mgradient\u001b[0m\u001b[0;34m,\u001b[0m \u001b[0mretain_graph\u001b[0m\u001b[0;34m,\u001b[0m \u001b[0mcreate_graph\u001b[0m\u001b[0;34m,\u001b[0m \u001b[0minputs\u001b[0m\u001b[0;34m=\u001b[0m\u001b[0minputs\u001b[0m\u001b[0;34m)\u001b[0m\u001b[0;34m\u001b[0m\u001b[0;34m\u001b[0m\u001b[0m\n\u001b[0m\u001b[1;32m    364\u001b[0m \u001b[0;34m\u001b[0m\u001b[0m\n\u001b[1;32m    365\u001b[0m     \u001b[0;32mdef\u001b[0m \u001b[0mregister_hook\u001b[0m\u001b[0;34m(\u001b[0m\u001b[0mself\u001b[0m\u001b[0;34m,\u001b[0m \u001b[0mhook\u001b[0m\u001b[0;34m)\u001b[0m\u001b[0;34m:\u001b[0m\u001b[0;34m\u001b[0m\u001b[0;34m\u001b[0m\u001b[0m\n",
            "\u001b[0;32m/usr/local/lib/python3.7/dist-packages/torch/autograd/__init__.py\u001b[0m in \u001b[0;36mbackward\u001b[0;34m(tensors, grad_tensors, retain_graph, create_graph, grad_variables, inputs)\u001b[0m\n\u001b[1;32m    173\u001b[0m     Variable._execution_engine.run_backward(  # Calls into the C++ engine to run the backward pass\n\u001b[1;32m    174\u001b[0m         \u001b[0mtensors\u001b[0m\u001b[0;34m,\u001b[0m \u001b[0mgrad_tensors_\u001b[0m\u001b[0;34m,\u001b[0m \u001b[0mretain_graph\u001b[0m\u001b[0;34m,\u001b[0m \u001b[0mcreate_graph\u001b[0m\u001b[0;34m,\u001b[0m \u001b[0minputs\u001b[0m\u001b[0;34m,\u001b[0m\u001b[0;34m\u001b[0m\u001b[0;34m\u001b[0m\u001b[0m\n\u001b[0;32m--> 175\u001b[0;31m         allow_unreachable=True, accumulate_grad=True)  # Calls into the C++ engine to run the backward pass\n\u001b[0m\u001b[1;32m    176\u001b[0m \u001b[0;34m\u001b[0m\u001b[0m\n\u001b[1;32m    177\u001b[0m def grad(\n",
            "\u001b[0;31mKeyboardInterrupt\u001b[0m: "
          ]
        }
      ]
    },
    {
      "cell_type": "code",
      "source": [
        "class MnistSimInput(Dataset):\n",
        "    def __init__(self, mnist_dataset):\n",
        "        self.mnist_dataset = mnist_dataset\n",
        "\n",
        "    def __len__(self):\n",
        "        return len(self.mnist_dataset)\n",
        "\n",
        "    def __getitem__(self, index):\n",
        "        img = self.mnist_dataset[index]\n",
        "        return img\n",
        "\n",
        "data_local_test = MnistSimInput(img_local_test)\n",
        "dl_local_test = DataLoader(data_local_test, batch_size, shuffle=False)\n",
        "\n",
        "next(iter(dl_local_test)).shape"
      ],
      "metadata": {
        "colab": {
          "base_uri": "https://localhost:8080/"
        },
        "id": "XiL6hM8R9P8q",
        "outputId": "140b4673-684c-4491-f46e-624d79ba37cc"
      },
      "execution_count": 157,
      "outputs": [
        {
          "output_type": "execute_result",
          "data": {
            "text/plain": [
              "torch.Size([32, 1, 28, 28])"
            ]
          },
          "metadata": {},
          "execution_count": 157
        }
      ]
    },
    {
      "cell_type": "code",
      "source": [
        "surv = model.interpolate(20).predict_surv_df(dl_local_test)\n",
        "ev = EvalSurv(surv, *target_local_test, 'km')\n",
        "ev.concordance_td(\"antolini\")"
      ],
      "metadata": {
        "colab": {
          "base_uri": "https://localhost:8080/"
        },
        "id": "jgvaWnQUFywW",
        "outputId": "24a094be-3241-47d6-fbab-7ecfb4ac8a6e"
      },
      "execution_count": 237,
      "outputs": [
        {
          "output_type": "stream",
          "name": "stderr",
          "text": [
            "/usr/local/lib/python3.7/dist-packages/torchtuples/base.py:484: UserWarning: The input from the dataloader is different from\n",
            "                        the 'input' during trainig. The shapes are different.\n",
            "  the 'input' during trainig. The shapes are different.\"\"\"\n"
          ]
        },
        {
          "output_type": "execute_result",
          "data": {
            "text/plain": [
              "0.7587042082954889"
            ]
          },
          "metadata": {},
          "execution_count": 237
        }
      ]
    },
    {
      "cell_type": "code",
      "source": [
        "surv"
      ],
      "metadata": {
        "colab": {
          "base_uri": "https://localhost:8080/",
          "height": 488
        },
        "id": "zX4UUaelGBDY",
        "outputId": "c74239df-1aaf-4778-c43d-c13df7e07136"
      },
      "execution_count": 238,
      "outputs": [
        {
          "output_type": "execute_result",
          "data": {
            "text/plain": [
              "                 0         1         2         3         4         5    \\\n",
              "0.000000    0.999751  0.997636  0.999853  0.999462  0.997338  0.999825   \n",
              "0.960526    0.984436  0.990663  0.965793  0.998393  0.992378  0.969714   \n",
              "1.921053    0.969121  0.983689  0.931733  0.997325  0.987418  0.939603   \n",
              "2.881579    0.953806  0.976716  0.897673  0.996256  0.982459  0.909491   \n",
              "3.842105    0.938491  0.969743  0.863613  0.995188  0.977499  0.879380   \n",
              "...              ...       ...       ...       ...       ...       ...   \n",
              "361.157895  0.133584  0.203338  0.005986  0.585526  0.241694  0.013295   \n",
              "362.118421  0.133199  0.202628  0.005956  0.585021  0.240966  0.013234   \n",
              "363.078947  0.132813  0.201917  0.005926  0.584516  0.240238  0.013173   \n",
              "364.039474  0.132428  0.201207  0.005896  0.584011  0.239510  0.013113   \n",
              "365.000000  0.132042  0.200496  0.005867  0.583506  0.238782  0.013052   \n",
              "\n",
              "                 6         7         8         9    ...       290       291  \\\n",
              "0.000000    0.999405  0.999207  0.999958  0.999711  ...  0.999742  0.999493   \n",
              "0.960526    0.993629  0.994352  0.963036  0.998011  ...  0.995439  0.994532   \n",
              "1.921053    0.987854  0.989498  0.926114  0.996310  ...  0.991135  0.989570   \n",
              "2.881579    0.982078  0.984644  0.889192  0.994610  ...  0.986832  0.984608   \n",
              "3.842105    0.976303  0.979790  0.852270  0.992909  ...  0.982528  0.979646   \n",
              "...              ...       ...       ...       ...  ...       ...       ...   \n",
              "361.157895  0.355182  0.352951  0.004731  0.588772  ...  0.469660  0.388470   \n",
              "362.118421  0.354455  0.352209  0.004712  0.588230  ...  0.468989  0.387734   \n",
              "363.078947  0.353727  0.351468  0.004694  0.587688  ...  0.468317  0.386999   \n",
              "364.039474  0.353000  0.350726  0.004675  0.587146  ...  0.467646  0.386263   \n",
              "365.000000  0.352273  0.349985  0.004656  0.586604  ...  0.466975  0.385528   \n",
              "\n",
              "                 292       293       294       295       296       297  \\\n",
              "0.000000    0.999850  0.998726  0.999573  0.996446  0.994760  0.999039   \n",
              "0.960526    0.996768  0.995383  0.996567  0.986823  0.984945  0.988861   \n",
              "1.921053    0.993686  0.992040  0.993560  0.977201  0.975130  0.978683   \n",
              "2.881579    0.990603  0.988697  0.990554  0.967579  0.965314  0.968506   \n",
              "3.842105    0.987521  0.985355  0.987548  0.957956  0.955499  0.958328   \n",
              "...              ...       ...       ...       ...       ...       ...   \n",
              "361.157895  0.571095  0.364191  0.484148  0.129456  0.105642  0.196780   \n",
              "362.118421  0.570544  0.363459  0.483497  0.128832  0.105082  0.196149   \n",
              "363.078947  0.569992  0.362727  0.482846  0.128209  0.104522  0.195517   \n",
              "364.039474  0.569441  0.361995  0.482195  0.127585  0.103963  0.194886   \n",
              "365.000000  0.568890  0.361263  0.481544  0.126962  0.103403  0.194255   \n",
              "\n",
              "                 298       299  \n",
              "0.000000    0.999793  0.999848  \n",
              "0.960526    0.995661  0.975855  \n",
              "1.921053    0.991529  0.951861  \n",
              "2.881579    0.987396  0.927868  \n",
              "3.842105    0.983265  0.903875  \n",
              "...              ...       ...  \n",
              "361.157895  0.502293  0.046941  \n",
              "362.118421  0.501681  0.046779  \n",
              "363.078947  0.501069  0.046617  \n",
              "364.039474  0.500457  0.046455  \n",
              "365.000000  0.499845  0.046293  \n",
              "\n",
              "[381 rows x 300 columns]"
            ],
            "text/html": [
              "\n",
              "  <div id=\"df-5a0c737f-5350-474e-ac67-b21bfb81765c\">\n",
              "    <div class=\"colab-df-container\">\n",
              "      <div>\n",
              "<style scoped>\n",
              "    .dataframe tbody tr th:only-of-type {\n",
              "        vertical-align: middle;\n",
              "    }\n",
              "\n",
              "    .dataframe tbody tr th {\n",
              "        vertical-align: top;\n",
              "    }\n",
              "\n",
              "    .dataframe thead th {\n",
              "        text-align: right;\n",
              "    }\n",
              "</style>\n",
              "<table border=\"1\" class=\"dataframe\">\n",
              "  <thead>\n",
              "    <tr style=\"text-align: right;\">\n",
              "      <th></th>\n",
              "      <th>0</th>\n",
              "      <th>1</th>\n",
              "      <th>2</th>\n",
              "      <th>3</th>\n",
              "      <th>4</th>\n",
              "      <th>5</th>\n",
              "      <th>6</th>\n",
              "      <th>7</th>\n",
              "      <th>8</th>\n",
              "      <th>9</th>\n",
              "      <th>...</th>\n",
              "      <th>290</th>\n",
              "      <th>291</th>\n",
              "      <th>292</th>\n",
              "      <th>293</th>\n",
              "      <th>294</th>\n",
              "      <th>295</th>\n",
              "      <th>296</th>\n",
              "      <th>297</th>\n",
              "      <th>298</th>\n",
              "      <th>299</th>\n",
              "    </tr>\n",
              "  </thead>\n",
              "  <tbody>\n",
              "    <tr>\n",
              "      <th>0.000000</th>\n",
              "      <td>0.999751</td>\n",
              "      <td>0.997636</td>\n",
              "      <td>0.999853</td>\n",
              "      <td>0.999462</td>\n",
              "      <td>0.997338</td>\n",
              "      <td>0.999825</td>\n",
              "      <td>0.999405</td>\n",
              "      <td>0.999207</td>\n",
              "      <td>0.999958</td>\n",
              "      <td>0.999711</td>\n",
              "      <td>...</td>\n",
              "      <td>0.999742</td>\n",
              "      <td>0.999493</td>\n",
              "      <td>0.999850</td>\n",
              "      <td>0.998726</td>\n",
              "      <td>0.999573</td>\n",
              "      <td>0.996446</td>\n",
              "      <td>0.994760</td>\n",
              "      <td>0.999039</td>\n",
              "      <td>0.999793</td>\n",
              "      <td>0.999848</td>\n",
              "    </tr>\n",
              "    <tr>\n",
              "      <th>0.960526</th>\n",
              "      <td>0.984436</td>\n",
              "      <td>0.990663</td>\n",
              "      <td>0.965793</td>\n",
              "      <td>0.998393</td>\n",
              "      <td>0.992378</td>\n",
              "      <td>0.969714</td>\n",
              "      <td>0.993629</td>\n",
              "      <td>0.994352</td>\n",
              "      <td>0.963036</td>\n",
              "      <td>0.998011</td>\n",
              "      <td>...</td>\n",
              "      <td>0.995439</td>\n",
              "      <td>0.994532</td>\n",
              "      <td>0.996768</td>\n",
              "      <td>0.995383</td>\n",
              "      <td>0.996567</td>\n",
              "      <td>0.986823</td>\n",
              "      <td>0.984945</td>\n",
              "      <td>0.988861</td>\n",
              "      <td>0.995661</td>\n",
              "      <td>0.975855</td>\n",
              "    </tr>\n",
              "    <tr>\n",
              "      <th>1.921053</th>\n",
              "      <td>0.969121</td>\n",
              "      <td>0.983689</td>\n",
              "      <td>0.931733</td>\n",
              "      <td>0.997325</td>\n",
              "      <td>0.987418</td>\n",
              "      <td>0.939603</td>\n",
              "      <td>0.987854</td>\n",
              "      <td>0.989498</td>\n",
              "      <td>0.926114</td>\n",
              "      <td>0.996310</td>\n",
              "      <td>...</td>\n",
              "      <td>0.991135</td>\n",
              "      <td>0.989570</td>\n",
              "      <td>0.993686</td>\n",
              "      <td>0.992040</td>\n",
              "      <td>0.993560</td>\n",
              "      <td>0.977201</td>\n",
              "      <td>0.975130</td>\n",
              "      <td>0.978683</td>\n",
              "      <td>0.991529</td>\n",
              "      <td>0.951861</td>\n",
              "    </tr>\n",
              "    <tr>\n",
              "      <th>2.881579</th>\n",
              "      <td>0.953806</td>\n",
              "      <td>0.976716</td>\n",
              "      <td>0.897673</td>\n",
              "      <td>0.996256</td>\n",
              "      <td>0.982459</td>\n",
              "      <td>0.909491</td>\n",
              "      <td>0.982078</td>\n",
              "      <td>0.984644</td>\n",
              "      <td>0.889192</td>\n",
              "      <td>0.994610</td>\n",
              "      <td>...</td>\n",
              "      <td>0.986832</td>\n",
              "      <td>0.984608</td>\n",
              "      <td>0.990603</td>\n",
              "      <td>0.988697</td>\n",
              "      <td>0.990554</td>\n",
              "      <td>0.967579</td>\n",
              "      <td>0.965314</td>\n",
              "      <td>0.968506</td>\n",
              "      <td>0.987396</td>\n",
              "      <td>0.927868</td>\n",
              "    </tr>\n",
              "    <tr>\n",
              "      <th>3.842105</th>\n",
              "      <td>0.938491</td>\n",
              "      <td>0.969743</td>\n",
              "      <td>0.863613</td>\n",
              "      <td>0.995188</td>\n",
              "      <td>0.977499</td>\n",
              "      <td>0.879380</td>\n",
              "      <td>0.976303</td>\n",
              "      <td>0.979790</td>\n",
              "      <td>0.852270</td>\n",
              "      <td>0.992909</td>\n",
              "      <td>...</td>\n",
              "      <td>0.982528</td>\n",
              "      <td>0.979646</td>\n",
              "      <td>0.987521</td>\n",
              "      <td>0.985355</td>\n",
              "      <td>0.987548</td>\n",
              "      <td>0.957956</td>\n",
              "      <td>0.955499</td>\n",
              "      <td>0.958328</td>\n",
              "      <td>0.983265</td>\n",
              "      <td>0.903875</td>\n",
              "    </tr>\n",
              "    <tr>\n",
              "      <th>...</th>\n",
              "      <td>...</td>\n",
              "      <td>...</td>\n",
              "      <td>...</td>\n",
              "      <td>...</td>\n",
              "      <td>...</td>\n",
              "      <td>...</td>\n",
              "      <td>...</td>\n",
              "      <td>...</td>\n",
              "      <td>...</td>\n",
              "      <td>...</td>\n",
              "      <td>...</td>\n",
              "      <td>...</td>\n",
              "      <td>...</td>\n",
              "      <td>...</td>\n",
              "      <td>...</td>\n",
              "      <td>...</td>\n",
              "      <td>...</td>\n",
              "      <td>...</td>\n",
              "      <td>...</td>\n",
              "      <td>...</td>\n",
              "      <td>...</td>\n",
              "    </tr>\n",
              "    <tr>\n",
              "      <th>361.157895</th>\n",
              "      <td>0.133584</td>\n",
              "      <td>0.203338</td>\n",
              "      <td>0.005986</td>\n",
              "      <td>0.585526</td>\n",
              "      <td>0.241694</td>\n",
              "      <td>0.013295</td>\n",
              "      <td>0.355182</td>\n",
              "      <td>0.352951</td>\n",
              "      <td>0.004731</td>\n",
              "      <td>0.588772</td>\n",
              "      <td>...</td>\n",
              "      <td>0.469660</td>\n",
              "      <td>0.388470</td>\n",
              "      <td>0.571095</td>\n",
              "      <td>0.364191</td>\n",
              "      <td>0.484148</td>\n",
              "      <td>0.129456</td>\n",
              "      <td>0.105642</td>\n",
              "      <td>0.196780</td>\n",
              "      <td>0.502293</td>\n",
              "      <td>0.046941</td>\n",
              "    </tr>\n",
              "    <tr>\n",
              "      <th>362.118421</th>\n",
              "      <td>0.133199</td>\n",
              "      <td>0.202628</td>\n",
              "      <td>0.005956</td>\n",
              "      <td>0.585021</td>\n",
              "      <td>0.240966</td>\n",
              "      <td>0.013234</td>\n",
              "      <td>0.354455</td>\n",
              "      <td>0.352209</td>\n",
              "      <td>0.004712</td>\n",
              "      <td>0.588230</td>\n",
              "      <td>...</td>\n",
              "      <td>0.468989</td>\n",
              "      <td>0.387734</td>\n",
              "      <td>0.570544</td>\n",
              "      <td>0.363459</td>\n",
              "      <td>0.483497</td>\n",
              "      <td>0.128832</td>\n",
              "      <td>0.105082</td>\n",
              "      <td>0.196149</td>\n",
              "      <td>0.501681</td>\n",
              "      <td>0.046779</td>\n",
              "    </tr>\n",
              "    <tr>\n",
              "      <th>363.078947</th>\n",
              "      <td>0.132813</td>\n",
              "      <td>0.201917</td>\n",
              "      <td>0.005926</td>\n",
              "      <td>0.584516</td>\n",
              "      <td>0.240238</td>\n",
              "      <td>0.013173</td>\n",
              "      <td>0.353727</td>\n",
              "      <td>0.351468</td>\n",
              "      <td>0.004694</td>\n",
              "      <td>0.587688</td>\n",
              "      <td>...</td>\n",
              "      <td>0.468317</td>\n",
              "      <td>0.386999</td>\n",
              "      <td>0.569992</td>\n",
              "      <td>0.362727</td>\n",
              "      <td>0.482846</td>\n",
              "      <td>0.128209</td>\n",
              "      <td>0.104522</td>\n",
              "      <td>0.195517</td>\n",
              "      <td>0.501069</td>\n",
              "      <td>0.046617</td>\n",
              "    </tr>\n",
              "    <tr>\n",
              "      <th>364.039474</th>\n",
              "      <td>0.132428</td>\n",
              "      <td>0.201207</td>\n",
              "      <td>0.005896</td>\n",
              "      <td>0.584011</td>\n",
              "      <td>0.239510</td>\n",
              "      <td>0.013113</td>\n",
              "      <td>0.353000</td>\n",
              "      <td>0.350726</td>\n",
              "      <td>0.004675</td>\n",
              "      <td>0.587146</td>\n",
              "      <td>...</td>\n",
              "      <td>0.467646</td>\n",
              "      <td>0.386263</td>\n",
              "      <td>0.569441</td>\n",
              "      <td>0.361995</td>\n",
              "      <td>0.482195</td>\n",
              "      <td>0.127585</td>\n",
              "      <td>0.103963</td>\n",
              "      <td>0.194886</td>\n",
              "      <td>0.500457</td>\n",
              "      <td>0.046455</td>\n",
              "    </tr>\n",
              "    <tr>\n",
              "      <th>365.000000</th>\n",
              "      <td>0.132042</td>\n",
              "      <td>0.200496</td>\n",
              "      <td>0.005867</td>\n",
              "      <td>0.583506</td>\n",
              "      <td>0.238782</td>\n",
              "      <td>0.013052</td>\n",
              "      <td>0.352273</td>\n",
              "      <td>0.349985</td>\n",
              "      <td>0.004656</td>\n",
              "      <td>0.586604</td>\n",
              "      <td>...</td>\n",
              "      <td>0.466975</td>\n",
              "      <td>0.385528</td>\n",
              "      <td>0.568890</td>\n",
              "      <td>0.361263</td>\n",
              "      <td>0.481544</td>\n",
              "      <td>0.126962</td>\n",
              "      <td>0.103403</td>\n",
              "      <td>0.194255</td>\n",
              "      <td>0.499845</td>\n",
              "      <td>0.046293</td>\n",
              "    </tr>\n",
              "  </tbody>\n",
              "</table>\n",
              "<p>381 rows × 300 columns</p>\n",
              "</div>\n",
              "      <button class=\"colab-df-convert\" onclick=\"convertToInteractive('df-5a0c737f-5350-474e-ac67-b21bfb81765c')\"\n",
              "              title=\"Convert this dataframe to an interactive table.\"\n",
              "              style=\"display:none;\">\n",
              "        \n",
              "  <svg xmlns=\"http://www.w3.org/2000/svg\" height=\"24px\"viewBox=\"0 0 24 24\"\n",
              "       width=\"24px\">\n",
              "    <path d=\"M0 0h24v24H0V0z\" fill=\"none\"/>\n",
              "    <path d=\"M18.56 5.44l.94 2.06.94-2.06 2.06-.94-2.06-.94-.94-2.06-.94 2.06-2.06.94zm-11 1L8.5 8.5l.94-2.06 2.06-.94-2.06-.94L8.5 2.5l-.94 2.06-2.06.94zm10 10l.94 2.06.94-2.06 2.06-.94-2.06-.94-.94-2.06-.94 2.06-2.06.94z\"/><path d=\"M17.41 7.96l-1.37-1.37c-.4-.4-.92-.59-1.43-.59-.52 0-1.04.2-1.43.59L10.3 9.45l-7.72 7.72c-.78.78-.78 2.05 0 2.83L4 21.41c.39.39.9.59 1.41.59.51 0 1.02-.2 1.41-.59l7.78-7.78 2.81-2.81c.8-.78.8-2.07 0-2.86zM5.41 20L4 18.59l7.72-7.72 1.47 1.35L5.41 20z\"/>\n",
              "  </svg>\n",
              "      </button>\n",
              "      \n",
              "  <style>\n",
              "    .colab-df-container {\n",
              "      display:flex;\n",
              "      flex-wrap:wrap;\n",
              "      gap: 12px;\n",
              "    }\n",
              "\n",
              "    .colab-df-convert {\n",
              "      background-color: #E8F0FE;\n",
              "      border: none;\n",
              "      border-radius: 50%;\n",
              "      cursor: pointer;\n",
              "      display: none;\n",
              "      fill: #1967D2;\n",
              "      height: 32px;\n",
              "      padding: 0 0 0 0;\n",
              "      width: 32px;\n",
              "    }\n",
              "\n",
              "    .colab-df-convert:hover {\n",
              "      background-color: #E2EBFA;\n",
              "      box-shadow: 0px 1px 2px rgba(60, 64, 67, 0.3), 0px 1px 3px 1px rgba(60, 64, 67, 0.15);\n",
              "      fill: #174EA6;\n",
              "    }\n",
              "\n",
              "    [theme=dark] .colab-df-convert {\n",
              "      background-color: #3B4455;\n",
              "      fill: #D2E3FC;\n",
              "    }\n",
              "\n",
              "    [theme=dark] .colab-df-convert:hover {\n",
              "      background-color: #434B5C;\n",
              "      box-shadow: 0px 1px 3px 1px rgba(0, 0, 0, 0.15);\n",
              "      filter: drop-shadow(0px 1px 2px rgba(0, 0, 0, 0.3));\n",
              "      fill: #FFFFFF;\n",
              "    }\n",
              "  </style>\n",
              "\n",
              "      <script>\n",
              "        const buttonEl =\n",
              "          document.querySelector('#df-5a0c737f-5350-474e-ac67-b21bfb81765c button.colab-df-convert');\n",
              "        buttonEl.style.display =\n",
              "          google.colab.kernel.accessAllowed ? 'block' : 'none';\n",
              "\n",
              "        async function convertToInteractive(key) {\n",
              "          const element = document.querySelector('#df-5a0c737f-5350-474e-ac67-b21bfb81765c');\n",
              "          const dataTable =\n",
              "            await google.colab.kernel.invokeFunction('convertToInteractive',\n",
              "                                                     [key], {});\n",
              "          if (!dataTable) return;\n",
              "\n",
              "          const docLinkHtml = 'Like what you see? Visit the ' +\n",
              "            '<a target=\"_blank\" href=https://colab.research.google.com/notebooks/data_table.ipynb>data table notebook</a>'\n",
              "            + ' to learn more about interactive tables.';\n",
              "          element.innerHTML = '';\n",
              "          dataTable['output_type'] = 'display_data';\n",
              "          await google.colab.output.renderOutput(dataTable, element);\n",
              "          const docLink = document.createElement('div');\n",
              "          docLink.innerHTML = docLinkHtml;\n",
              "          element.appendChild(docLink);\n",
              "        }\n",
              "      </script>\n",
              "    </div>\n",
              "  </div>\n",
              "  "
            ]
          },
          "metadata": {},
          "execution_count": 238
        }
      ]
    },
    {
      "cell_type": "code",
      "source": [
        "target_local_test"
      ],
      "metadata": {
        "colab": {
          "base_uri": "https://localhost:8080/"
        },
        "id": "GxbFi9Q9IqQI",
        "outputId": "723f0307-c1f8-46d8-9504-7aa533aab13c"
      },
      "execution_count": 239,
      "outputs": [
        {
          "output_type": "execute_result",
          "data": {
            "text/plain": [
              "(array([12,  4,  1, 15,  6,  9,  1,  2,  1, 19, 19, 19, 19, 12,  9,  1,  1,\n",
              "         2,  6,  1,  7,  1,  7,  6, 19, 11,  1,  3,  2,  3,  2, 11,  2,  7,\n",
              "        19,  7, 17, 19, 15, 19,  1,  1,  1,  1, 19, 15,  7,  1,  7, 19,  1,\n",
              "        11, 19, 19, 19, 19, 19, 19, 19, 19,  1,  2,  1, 19, 12,  7,  1,  1,\n",
              "        19,  1,  1,  2, 19,  2,  1,  8,  1, 19, 12, 19, 19,  1,  4, 19, 19,\n",
              "         3,  3, 10,  7,  2,  1,  3, 19,  3,  1,  2,  4, 19,  2, 14, 19,  3,\n",
              "         2, 19,  1,  9, 19, 19,  1, 14,  2, 19, 19, 13,  1, 19,  7,  1,  3,\n",
              "        19, 19, 19, 19,  6,  1, 19,  3, 19, 19, 19,  4, 19, 19,  4,  1,  1,\n",
              "        19, 14, 19, 19,  2,  1,  8, 19,  1,  1,  7,  1, 11,  2, 19,  1, 19,\n",
              "         9,  4, 19,  1,  1,  6, 19,  1,  1,  1,  2,  1, 19, 19, 19,  1, 19,\n",
              "         1, 19, 19, 19,  1,  1, 19,  1,  3,  8, 17,  2,  1,  2,  5,  1,  3,\n",
              "         8, 19,  1, 19, 16, 19, 19,  1, 19, 19,  3,  1, 17, 19,  3,  5, 19,\n",
              "        19,  1,  1, 19, 13,  1, 15, 19,  5,  3,  1,  5,  1, 14, 15,  1,  2,\n",
              "         5,  9, 16,  8,  1,  6,  1, 18,  1,  4,  9, 19, 19,  3,  7, 19,  6,\n",
              "        19,  8,  1,  1,  5, 19,  2, 19,  3,  1, 19,  1,  1, 19,  5, 19, 19,\n",
              "        19,  1, 19, 19,  2, 19,  4, 19,  2,  1, 19, 19,  6,  9,  1, 19,  1,\n",
              "        19,  2,  2, 19,  5,  7,  1,  1,  1, 19,  5,  1, 14,  4,  1,  1,  1,\n",
              "        19, 19, 19,  9,  1, 19,  7, 13, 13, 19,  2]),\n",
              " array([1., 1., 1., 1., 1., 1., 1., 1., 1., 0., 0., 0., 0., 1., 1., 1., 1.,\n",
              "        1., 1., 1., 1., 1., 1., 1., 0., 1., 1., 1., 1., 1., 1., 1., 1., 1.,\n",
              "        0., 1., 1., 0., 1., 0., 1., 1., 1., 1., 0., 1., 1., 1., 1., 0., 1.,\n",
              "        1., 0., 0., 0., 0., 0., 0., 0., 0., 1., 1., 1., 0., 1., 1., 1., 1.,\n",
              "        0., 1., 1., 1., 0., 1., 1., 1., 1., 0., 1., 0., 0., 1., 1., 0., 0.,\n",
              "        1., 1., 1., 1., 1., 1., 1., 0., 1., 1., 1., 1., 0., 1., 1., 0., 1.,\n",
              "        1., 0., 1., 1., 0., 0., 1., 1., 1., 0., 0., 1., 1., 0., 1., 1., 1.,\n",
              "        0., 0., 0., 0., 1., 1., 0., 1., 0., 0., 0., 1., 0., 0., 1., 1., 1.,\n",
              "        0., 1., 0., 0., 1., 1., 1., 0., 1., 1., 1., 1., 1., 1., 0., 1., 0.,\n",
              "        1., 1., 0., 1., 1., 1., 0., 1., 1., 1., 1., 1., 0., 0., 0., 1., 0.,\n",
              "        1., 0., 0., 0., 1., 1., 0., 1., 1., 1., 1., 1., 1., 1., 1., 1., 1.,\n",
              "        1., 0., 1., 0., 1., 0., 0., 1., 0., 0., 1., 1., 1., 0., 1., 1., 0.,\n",
              "        0., 1., 1., 0., 1., 1., 1., 0., 1., 1., 1., 1., 1., 1., 1., 1., 1.,\n",
              "        1., 1., 1., 1., 1., 1., 1., 1., 1., 1., 1., 0., 0., 1., 1., 0., 1.,\n",
              "        0., 1., 1., 1., 1., 0., 1., 0., 1., 1., 0., 1., 1., 0., 1., 0., 0.,\n",
              "        0., 1., 0., 0., 1., 0., 1., 0., 1., 1., 0., 0., 1., 1., 1., 0., 1.,\n",
              "        0., 1., 1., 0., 1., 1., 1., 1., 1., 0., 1., 1., 1., 1., 1., 1., 1.,\n",
              "        0., 0., 0., 1., 1., 0., 1., 1., 1., 0., 1.], dtype=float32))"
            ]
          },
          "metadata": {},
          "execution_count": 239
        }
      ]
    },
    {
      "cell_type": "code",
      "source": [
        "time_grid = np.linspace(0, sim_test[0].max())\n",
        "ev.integrated_brier_score(time_grid)"
      ],
      "metadata": {
        "colab": {
          "base_uri": "https://localhost:8080/"
        },
        "id": "e89qAd7WF0R6",
        "outputId": "7a920b9b-8847-4dac-b815-83ffd21e8f18"
      },
      "execution_count": 240,
      "outputs": [
        {
          "output_type": "execute_result",
          "data": {
            "text/plain": [
              "0.18588009062408695"
            ]
          },
          "metadata": {},
          "execution_count": 240
        }
      ]
    },
    {
      "cell_type": "markdown",
      "source": [
        "# Cross Validation"
      ],
      "metadata": {
        "id": "1zcleAluEnVr"
      }
    },
    {
      "cell_type": "markdown",
      "source": [
        "TBD"
      ],
      "metadata": {
        "id": "Y87eAPKJSmZZ"
      }
    },
    {
      "cell_type": "markdown",
      "source": [
        "# Combine the results"
      ],
      "metadata": {
        "id": "JgZdIqI_y3zF"
      }
    },
    {
      "cell_type": "code",
      "source": [
        "class MnistSimInput(Dataset):\n",
        "    def __init__(self, mnist_dataset):\n",
        "        self.mnist_dataset = mnist_dataset\n",
        "\n",
        "    def __len__(self):\n",
        "        return len(self.mnist_dataset)\n",
        "\n",
        "    def __getitem__(self, index):\n",
        "        img = self.mnist_dataset[index]\n",
        "        return img\n",
        "\n",
        "labtrans = LogisticHazard.label_transform(20)\n",
        "target_train = labtrans.fit_transform(*sim_train_subset)\n",
        "\n",
        "concordance_td_list_95 = []\n",
        "integrated_brier_score_list_95 = []\n",
        "integrated_nbll_list_95 = []\n",
        "concordance_td_list_old = []\n",
        "integrated_brier_score_list_old = []\n",
        "# integrated_nbll_list_old = []\n",
        "\n",
        "ratio = 0.95\n",
        "for i in range(20):\n",
        "  print(i)\n",
        "  list1 = [i for i in range(30000)]\n",
        "  index_prior = sample(list1, int(30000 * ratio))\n",
        "  index_local = [i for i in list1 if i not in index_prior]\n",
        "\n",
        "  img_prior = [img[i] for i in index_prior]\n",
        "  img_prior = torch.stack(img_prior)\n",
        "\n",
        "  img_local = [img[i] for i in index_local]\n",
        "  img_local = torch.stack(img_local)\n",
        "\n",
        "  sim_prior = (sim_train_subset[0][index_prior], sim_train_subset[1][index_prior])\n",
        "  sim_local = (sim_train_subset[0][index_local], sim_train_subset[1][index_local])\n",
        "\n",
        "  list1 = [i for i in range(int(30000 * ratio))]\n",
        "  index_prior_train = sample(list1, int(30000 * ratio * 0.8))\n",
        "  index_prior_val = [i for i in list1 if i not in index_prior_train]\n",
        "\n",
        "  img_prior_train = [img_prior[i] for i in index_prior_train]\n",
        "  img_prior_train = torch.stack(img_prior_train)\n",
        "\n",
        "  img_prior_val = [img_prior[i] for i in index_prior_val]\n",
        "  img_prior_val = torch.stack(img_prior_val)\n",
        "\n",
        "  sim_prior_train = (sim_prior[0][index_prior_train], sim_prior[1][index_prior_train])\n",
        "  sim_prior_val = (sim_prior[0][index_prior_val], sim_prior[1][index_prior_val])\n",
        "\n",
        "  target_prior = labtrans.transform(*sim_prior)\n",
        "  target_local = labtrans.transform(*sim_local)\n",
        "  target_prior_train = labtrans.transform(*sim_prior_train)\n",
        "  target_prior_val = labtrans.transform(*sim_prior_val)\n",
        "\n",
        "  class MnistSimDatasetBatch(Dataset):\n",
        "      def __init__(self, mnist_dataset, time, event):\n",
        "          self.mnist_dataset = mnist_dataset\n",
        "          self.time, self.event = tt.tuplefy(time, event).to_tensor()\n",
        "\n",
        "      def __len__(self):\n",
        "          return len(self.time)\n",
        "\n",
        "      def __getitem__(self, index):\n",
        "          if not hasattr(index, '__iter__'):\n",
        "              index = [index]\n",
        "          img = [self.mnist_dataset[i] for i in index]\n",
        "          img = torch.stack(img)\n",
        "          return tt.tuplefy(img, (self.time[index], self.event[index]))\n",
        "\n",
        "  data_prior = MnistSimDatasetBatch(img_prior, *target_prior)\n",
        "  data_local = MnistSimDatasetBatch(img_local, *target_local)\n",
        "  data_prior_train = MnistSimDatasetBatch(img_prior_train, *target_prior_train)\n",
        "  data_prior_val = MnistSimDatasetBatch(img_prior_val, *target_prior_val)\n",
        "\n",
        "  batch_size = 32\n",
        "\n",
        "  dl_prior = tt.data.DataLoaderBatch(data_prior, batch_size, shuffle=True)\n",
        "  dl_local = tt.data.DataLoaderBatch(data_local, batch_size, shuffle=False)\n",
        "\n",
        "  dl_prior_train = tt.data.DataLoaderBatch(data_prior_train, batch_size, shuffle=True)\n",
        "  dl_prior_val = tt.data.DataLoaderBatch(data_prior_val, batch_size, shuffle=True)\n",
        "\n",
        "  class Net(nn.Module):\n",
        "      def __init__(self, out_features):\n",
        "          super().__init__()\n",
        "          self.conv1 = nn.Conv2d(1, 16, 5, 1)\n",
        "          self.max_pool = nn.MaxPool2d(2)\n",
        "          self.conv2 = nn.Conv2d(16, 16, 5, 1)\n",
        "          self.glob_avg_pool = nn.AdaptiveAvgPool2d((1, 1))\n",
        "          self.fc1 = nn.Linear(16, 16)\n",
        "          self.fc2 = nn.Linear(16, out_features)\n",
        "\n",
        "      def forward(self, x):\n",
        "          x = F.relu(self.conv1(x))\n",
        "          x = self.max_pool(x)\n",
        "          x = F.relu(self.conv2(x))\n",
        "          x = self.glob_avg_pool(x)\n",
        "          x = torch.flatten(x, 1)\n",
        "          x = F.relu(self.fc1(x))\n",
        "          x = self.fc2(x)\n",
        "          return x\n",
        "\n",
        "  net = Net(labtrans.out_features)\n",
        "\n",
        "  model = LogisticHazard(net, tt.optim.Adam(0.005))\n",
        "\n",
        "  callbacks = [tt.cb.EarlyStopping(patience=5)]\n",
        "  epochs = 100\n",
        "  verbose = False\n",
        "  log = model.fit_dataloader(dl_prior_train, epochs, callbacks, verbose, val_dataloader=dl_prior_val)\n",
        "\n",
        "  list1 = [i for i in range(int(30000 * (1 - ratio)))]\n",
        "  index_local_train = sample(list1, int(30000 * (1 - ratio) * 0.8))\n",
        "  index_local_test = [i for i in list1 if i not in index_local_train]\n",
        "\n",
        "  list2 = [i for i in range(int(30000 * (1 - ratio) * 0.8))]\n",
        "  index_temp = sample(list2, int(30000 * (1 - ratio) * 0.8 * 0.8))\n",
        "  index_local_val = [index_local_train[i] for i in list2 if i not in index_temp]\n",
        "  index_local_train = [index_local_train[i] for i in list2 if i in index_temp]\n",
        "\n",
        "  img_local_train = [img_local[i] for i in index_local_train]\n",
        "  img_local_train = torch.stack(img_local_train)\n",
        "\n",
        "  img_local_val = [img_local[i] for i in index_local_val]\n",
        "  img_local_val = torch.stack(img_local_val)\n",
        "\n",
        "  img_local_test = [img_local[i] for i in index_local_test]\n",
        "  img_local_test = torch.stack(img_local_test)\n",
        "\n",
        "  sim_local_train = (sim_local[0][index_local_train], sim_local[1][index_local_train])\n",
        "  sim_local_val = (sim_local[0][index_local_val], sim_local[1][index_local_val])\n",
        "  sim_local_test = (sim_local[0][index_local_test], sim_local[1][index_local_test])\n",
        "\n",
        "  target_local_train = labtrans.transform(*sim_local_train)\n",
        "  target_local_val = labtrans.transform(*sim_local_val)\n",
        "  target_local_test = labtrans.transform(*sim_local_test)\n",
        "\n",
        "  prior_info_train = model.predict_hazard(img_local_train)\n",
        "  prior_info_val = model.predict_hazard(img_local_val)\n",
        "\n",
        "  time = target_local[0]\n",
        "  time = np.array(time).reshape(time.shape[0], -1)\n",
        "  zeros = np.zeros((time.shape[0], 21))\n",
        "  np.put_along_axis(zeros, time, np.array(target_local[1]).reshape(-1, 1), axis=1)\n",
        "  zeros = zeros[:, :-1]\n",
        "\n",
        "  zeros_train = zeros[index_local_train]\n",
        "  zeros_val = zeros[index_local_val]\n",
        "\n",
        "  eta = 20\n",
        "  combined_info_train = (torch.Tensor(zeros_train).to(\"cuda\") + eta * prior_info_train) / (1 + eta)\n",
        "  combined_info_val = (torch.Tensor(zeros_val).to(\"cuda\") + eta * prior_info_val) / (1 + eta)\n",
        "\n",
        "  target_local_train_new = (combined_info_train, *target_local_train)\n",
        "  target_local_val_new = (combined_info_val, *target_local_val)\n",
        "\n",
        "  class MnistSimDatasetBatch(Dataset):\n",
        "      def __init__(self, mnist_dataset, combined_info, time, event):\n",
        "          self.mnist_dataset = mnist_dataset\n",
        "          self.time, self.event = tt.tuplefy(time, event).to_tensor()\n",
        "          self.combined_info = combined_info\n",
        "\n",
        "      def __len__(self):\n",
        "          return len(self.time)\n",
        "\n",
        "      def __getitem__(self, index):\n",
        "          if not hasattr(index, '__iter__'):\n",
        "              index = [index]\n",
        "          img = [self.mnist_dataset[i] for i in index]\n",
        "          img = torch.stack(img)\n",
        "          return tt.tuplefy(img, (self.combined_info[index], self.time[index], self.event[index]))\n",
        "\n",
        "  data_local_train = MnistSimDatasetBatch(img_local_train, *target_local_train_new)\n",
        "  data_local_val = MnistSimDatasetBatch(img_local_val, *target_local_val_new)\n",
        "  # data_local_test = MnistSimDatasetBatch(img_local, *target_local_test)\n",
        "\n",
        "  batch_size = 32\n",
        "\n",
        "  dl_local_train = tt.data.DataLoaderBatch(data_local_train, batch_size, shuffle=True)\n",
        "  dl_local_val = tt.data.DataLoaderBatch(data_local_val, batch_size, shuffle=True)\n",
        "  # dl_local_test = tt.data.DataLoaderBatch(data_local_test, batch_size, shuffle=True)\n",
        "\n",
        "  net = Net(labtrans.out_features)\n",
        "\n",
        "  model = LogisticHazard(net, tt.optim.Adam(0.005), loss = \"option\")\n",
        "\n",
        "  callbacks = [tt.cb.EarlyStopping(patience=5)]\n",
        "  epochs = 50\n",
        "  verbose = False\n",
        "  log = model.fit_dataloader(dl_local_train, epochs, callbacks, verbose, val_dataloader=dl_local_val)\n",
        "\n",
        "  data_local_test = MnistSimInput(img_local_test)\n",
        "  dl_local_test = DataLoader(data_local_test, batch_size, shuffle=False)\n",
        "\n",
        "  surv = model.interpolate(20).predict_surv_df(dl_local_test)\n",
        "  ev = EvalSurv(surv, *target_local_test, 'km')\n",
        "  concordance_td_list_95.append(ev.concordance_td(\"antolini\"))\n",
        "\n",
        "  time_grid = np.linspace(0, sim_test[0].max())\n",
        "  integrated_brier_score_list_95.append(ev.integrated_brier_score(time_grid))\n",
        "\n",
        "  class MnistSimDatasetBatch(Dataset):\n",
        "      def __init__(self, mnist_dataset, time, event):\n",
        "          self.mnist_dataset = mnist_dataset\n",
        "          self.time, self.event = tt.tuplefy(time, event).to_tensor()\n",
        "\n",
        "      def __len__(self):\n",
        "          return len(self.time)\n",
        "\n",
        "      def __getitem__(self, index):\n",
        "          if not hasattr(index, '__iter__'):\n",
        "              index = [index]\n",
        "          img = [self.mnist_dataset[i] for i in index]\n",
        "          img = torch.stack(img)\n",
        "          return tt.tuplefy(img, (self.time[index], self.event[index]))\n",
        "\n",
        "  data_local_train = MnistSimDatasetBatch(img_local, *target_local_train)\n",
        "  data_local_val = MnistSimDatasetBatch(img_local, *target_local_val)\n",
        "  # data_local_test = MnistSimDatasetBatch(img_local, *target_local_test)\n",
        "\n",
        "  batch_size = 32\n",
        "\n",
        "  dl_local_train = tt.data.DataLoaderBatch(data_local_train, batch_size, shuffle=True)\n",
        "  dl_local_val = tt.data.DataLoaderBatch(data_local_val, batch_size, shuffle=True)\n",
        "  # dl_local_test = tt.data.DataLoaderBatch(data_local_test, batch_size, shuffle=True)\n",
        "\n",
        "  net = Net(labtrans.out_features)\n",
        "\n",
        "  model = LogisticHazard(net, tt.optim.Adam(0.005))\n",
        "\n",
        "  callbacks = [tt.cb.EarlyStopping(patience=5)]\n",
        "  epochs = 50\n",
        "  verbose = False\n",
        "  log = model.fit_dataloader(dl_local_train, epochs, callbacks, verbose, val_dataloader=dl_local_val)\n",
        "\n",
        "  class MnistSimInput(Dataset):\n",
        "      def __init__(self, mnist_dataset):\n",
        "          self.mnist_dataset = mnist_dataset\n",
        "\n",
        "      def __len__(self):\n",
        "          return len(self.mnist_dataset)\n",
        "\n",
        "      def __getitem__(self, index):\n",
        "          img = self.mnist_dataset[index]\n",
        "          return img\n",
        "\n",
        "  data_local_test = MnistSimInput(img_local_test)\n",
        "  dl_local_test = DataLoader(data_local_test, batch_size, shuffle=False)\n",
        "\n",
        "  surv = model.interpolate(20).predict_surv_df(dl_local_test)\n",
        "  ev = EvalSurv(surv, *target_local_test, 'km')\n",
        "  concordance_td_list_old.append(ev.concordance_td(\"antolini\"))\n",
        "\n",
        "  time_grid = np.linspace(0, sim_test[0].max())\n",
        "  integrated_brier_score_list_old.append(ev.integrated_brier_score(time_grid))"
      ],
      "metadata": {
        "colab": {
          "base_uri": "https://localhost:8080/"
        },
        "id": "46PW1jEoy8kK",
        "outputId": "4247b726-cee0-4ad1-8258-5a6e1ec74fa7"
      },
      "execution_count": 227,
      "outputs": [
        {
          "output_type": "stream",
          "name": "stdout",
          "text": [
            "0\n"
          ]
        },
        {
          "output_type": "stream",
          "name": "stderr",
          "text": [
            "/usr/local/lib/python3.7/dist-packages/torchtuples/base.py:484: UserWarning: The input from the dataloader is different from\n",
            "                        the 'input' during trainig. The shapes are different.\n",
            "  the 'input' during trainig. The shapes are different.\"\"\"\n"
          ]
        },
        {
          "output_type": "stream",
          "name": "stdout",
          "text": [
            "1\n",
            "1\n",
            "1\n",
            "2\n",
            "1\n",
            "3\n",
            "1\n",
            "4\n",
            "1\n",
            "5\n",
            "1\n",
            "6\n",
            "1\n",
            "7\n",
            "1\n",
            "8\n",
            "1\n",
            "9\n",
            "1\n",
            "10\n",
            "1\n",
            "11\n",
            "1\n",
            "12\n",
            "1\n",
            "13\n",
            "1\n",
            "14\n",
            "1\n",
            "15\n",
            "1\n",
            "16\n",
            "1\n",
            "17\n",
            "1\n",
            "18\n",
            "1\n",
            "19\n",
            "1\n"
          ]
        }
      ]
    },
    {
      "cell_type": "code",
      "source": [
        "import seaborn as sns\n",
        "\n",
        "concordance_td_array = np.array(concordance_td_list_95)\n",
        "concordance_td_array_old = np.array(concordance_td_list_old)\n",
        "integrated_brier_score_array_old = np.array(integrated_brier_score_list_old)\n",
        "integrated_brier_score_array = np.array(integrated_brier_score_list_95)\n",
        "\n",
        "data = np.array(concordance_td_list_95 + concordance_td_list_old)\n",
        "label = [\"With KL\" for i in range(len(concordance_td_array))] + [\"Without KL\" for i in range(len(concordance_td_array_old))]\n",
        "df = pd.DataFrame({\"C-index\": data, \"Comparison w.r.t. C-index\": label})\n",
        "\n",
        "sns.set(rc={'figure.figsize':(3,5)})\n",
        "sns.boxplot(x='Comparison w.r.t. C-index', y='C-index', data=df, width = 0.4)#.set(title = \"Comparison w.r.t. IBLL\")\n",
        "len(data)\n"
      ],
      "metadata": {
        "id": "l_-VW4rwxjV9",
        "colab": {
          "base_uri": "https://localhost:8080/",
          "height": 357
        },
        "outputId": "667c6eb5-d961-4eed-8c04-3362bc323bf1"
      },
      "execution_count": 228,
      "outputs": [
        {
          "output_type": "execute_result",
          "data": {
            "text/plain": [
              "40"
            ]
          },
          "metadata": {},
          "execution_count": 228
        },
        {
          "output_type": "display_data",
          "data": {
            "text/plain": [
              "<Figure size 216x360 with 1 Axes>"
            ],
            "image/png": "[encoded data removed]"
          },
          "metadata": {}
        }
      ]
    },
    {
      "cell_type": "code",
      "source": [
        "data = np.array(integrated_brier_score_list_95 + integrated_brier_score_list_old)\n",
        "label = [\"With KL\" for i in range(len(concordance_td_array))] + [\"Without KL\" for i in range(len(concordance_td_array_old))]\n",
        "df = pd.DataFrame({\"IBS\": data, \"Comparison w.r.t IBS\": label})\n",
        "\n",
        "sns.set(rc={'figure.figsize':(3,5)})\n",
        "sns.boxplot(x='Comparison w.r.t IBS', y='IBS', data=df, width = 0.4)#.set(title = \"Comparison w.r.t. IBLL\")\n",
        "len(data)"
      ],
      "metadata": {
        "id": "TYs4tWe5yuuK",
        "colab": {
          "base_uri": "https://localhost:8080/",
          "height": 357
        },
        "outputId": "2e598988-52e3-46f0-eb71-57280d7736aa"
      },
      "execution_count": 229,
      "outputs": [
        {
          "output_type": "execute_result",
          "data": {
            "text/plain": [
              "40"
            ]
          },
          "metadata": {},
          "execution_count": 229
        },
        {
          "output_type": "display_data",
          "data": {
            "text/plain": [
              "<Figure size 216x360 with 1 Axes>"
            ],
            "image/png": "[encoded data removed]"
          },
          "metadata": {}
        }
      ]
    },
    {
      "cell_type": "code",
      "source": [
        "class MnistSimInput(Dataset):\n",
        "    def __init__(self, mnist_dataset):\n",
        "        self.mnist_dataset = mnist_dataset\n",
        "\n",
        "    def __len__(self):\n",
        "        return len(self.mnist_dataset)\n",
        "\n",
        "    def __getitem__(self, index):\n",
        "        img = self.mnist_dataset[index]\n",
        "        return img\n",
        "\n",
        "labtrans = LogisticHazard.label_transform(20)\n",
        "target_train = labtrans.fit_transform(*sim_train_subset)\n",
        "\n",
        "concordance_td_list_90 = []\n",
        "integrated_brier_score_list_90 = []\n",
        "integrated_nbll_list_90 = []\n",
        "concordance_td_list_old = []\n",
        "integrated_brier_score_list_old = []\n",
        "# integrated_nbll_list_old = []\n",
        "\n",
        "ratio = 0.9\n",
        "for i in range(20):\n",
        "  print(i)\n",
        "  list1 = [i for i in range(30000)]\n",
        "  index_prior = sample(list1, int(30000 * ratio))\n",
        "  index_local = [i for i in list1 if i not in index_prior]\n",
        "\n",
        "  img_prior = [img[i] for i in index_prior]\n",
        "  img_prior = torch.stack(img_prior)\n",
        "\n",
        "  img_local = [img[i] for i in index_local]\n",
        "  img_local = torch.stack(img_local)\n",
        "\n",
        "  sim_prior = (sim_train_subset[0][index_prior], sim_train_subset[1][index_prior])\n",
        "  sim_local = (sim_train_subset[0][index_local], sim_train_subset[1][index_local])\n",
        "\n",
        "  list1 = [i for i in range(int(30000 * ratio))]\n",
        "  index_prior_train = sample(list1, int(30000 * ratio * 0.8))\n",
        "  index_prior_val = [i for i in list1 if i not in index_prior_train]\n",
        "\n",
        "  img_prior_train = [img_prior[i] for i in index_prior_train]\n",
        "  img_prior_train = torch.stack(img_prior_train)\n",
        "\n",
        "  img_prior_val = [img_prior[i] for i in index_prior_val]\n",
        "  img_prior_val = torch.stack(img_prior_val)\n",
        "\n",
        "  sim_prior_train = (sim_prior[0][index_prior_train], sim_prior[1][index_prior_train])\n",
        "  sim_prior_val = (sim_prior[0][index_prior_val], sim_prior[1][index_prior_val])\n",
        "\n",
        "  target_prior = labtrans.transform(*sim_prior)\n",
        "  target_local = labtrans.transform(*sim_local)\n",
        "  target_prior_train = labtrans.transform(*sim_prior_train)\n",
        "  target_prior_val = labtrans.transform(*sim_prior_val)\n",
        "\n",
        "  class MnistSimDatasetBatch(Dataset):\n",
        "      def __init__(self, mnist_dataset, time, event):\n",
        "          self.mnist_dataset = mnist_dataset\n",
        "          self.time, self.event = tt.tuplefy(time, event).to_tensor()\n",
        "\n",
        "      def __len__(self):\n",
        "          return len(self.time)\n",
        "\n",
        "      def __getitem__(self, index):\n",
        "          if not hasattr(index, '__iter__'):\n",
        "              index = [index]\n",
        "          img = [self.mnist_dataset[i] for i in index]\n",
        "          img = torch.stack(img)\n",
        "          return tt.tuplefy(img, (self.time[index], self.event[index]))\n",
        "\n",
        "  data_prior = MnistSimDatasetBatch(img_prior, *target_prior)\n",
        "  data_local = MnistSimDatasetBatch(img_local, *target_local)\n",
        "  data_prior_train = MnistSimDatasetBatch(img_prior_train, *target_prior_train)\n",
        "  data_prior_val = MnistSimDatasetBatch(img_prior_val, *target_prior_val)\n",
        "\n",
        "  batch_size = 32\n",
        "\n",
        "  dl_prior = tt.data.DataLoaderBatch(data_prior, batch_size, shuffle=True)\n",
        "  dl_local = tt.data.DataLoaderBatch(data_local, batch_size, shuffle=False)\n",
        "\n",
        "  dl_prior_train = tt.data.DataLoaderBatch(data_prior_train, batch_size, shuffle=True)\n",
        "  dl_prior_val = tt.data.DataLoaderBatch(data_prior_val, batch_size, shuffle=True)\n",
        "\n",
        "  class Net(nn.Module):\n",
        "      def __init__(self, out_features):\n",
        "          super().__init__()\n",
        "          self.conv1 = nn.Conv2d(1, 16, 5, 1)\n",
        "          self.max_pool = nn.MaxPool2d(2)\n",
        "          self.conv2 = nn.Conv2d(16, 16, 5, 1)\n",
        "          self.glob_avg_pool = nn.AdaptiveAvgPool2d((1, 1))\n",
        "          self.fc1 = nn.Linear(16, 16)\n",
        "          self.fc2 = nn.Linear(16, out_features)\n",
        "\n",
        "      def forward(self, x):\n",
        "          x = F.relu(self.conv1(x))\n",
        "          x = self.max_pool(x)\n",
        "          x = F.relu(self.conv2(x))\n",
        "          x = self.glob_avg_pool(x)\n",
        "          x = torch.flatten(x, 1)\n",
        "          x = F.relu(self.fc1(x))\n",
        "          x = self.fc2(x)\n",
        "          return x\n",
        "\n",
        "  net = Net(labtrans.out_features)\n",
        "\n",
        "  model = LogisticHazard(net, tt.optim.Adam(0.005))\n",
        "\n",
        "  callbacks = [tt.cb.EarlyStopping(patience=5)]\n",
        "  epochs = 100\n",
        "  verbose = False\n",
        "  log = model.fit_dataloader(dl_prior_train, epochs, callbacks, verbose, val_dataloader=dl_prior_val)\n",
        "\n",
        "  list1 = [i for i in range(int(30000 * (1 - ratio)))]\n",
        "  index_local_train = sample(list1, int(30000 * (1 - ratio) * 0.8))\n",
        "  index_local_test = [i for i in list1 if i not in index_local_train]\n",
        "\n",
        "  list2 = [i for i in range(int(30000 * (1 - ratio) * 0.8))]\n",
        "  index_temp = sample(list2, int(30000 * (1 - ratio) * 0.8 * 0.8))\n",
        "  index_local_val = [index_local_train[i] for i in list2 if i not in index_temp]\n",
        "  index_local_train = [index_local_train[i] for i in list2 if i in index_temp]\n",
        "\n",
        "  img_local_train = [img_local[i] for i in index_local_train]\n",
        "  img_local_train = torch.stack(img_local_train)\n",
        "\n",
        "  img_local_val = [img_local[i] for i in index_local_val]\n",
        "  img_local_val = torch.stack(img_local_val)\n",
        "\n",
        "  img_local_test = [img_local[i] for i in index_local_test]\n",
        "  img_local_test = torch.stack(img_local_test)\n",
        "\n",
        "  sim_local_train = (sim_local[0][index_local_train], sim_local[1][index_local_train])\n",
        "  sim_local_val = (sim_local[0][index_local_val], sim_local[1][index_local_val])\n",
        "  sim_local_test = (sim_local[0][index_local_test], sim_local[1][index_local_test])\n",
        "\n",
        "  target_local_train = labtrans.transform(*sim_local_train)\n",
        "  target_local_val = labtrans.transform(*sim_local_val)\n",
        "  target_local_test = labtrans.transform(*sim_local_test)\n",
        "\n",
        "  prior_info_train = model.predict_hazard(img_local_train)\n",
        "  prior_info_val = model.predict_hazard(img_local_val)\n",
        "\n",
        "  time = target_local[0]\n",
        "  time = np.array(time).reshape(time.shape[0], -1)\n",
        "  zeros = np.zeros((time.shape[0], 21))\n",
        "  np.put_along_axis(zeros, time, np.array(target_local[1]).reshape(-1, 1), axis=1)\n",
        "  zeros = zeros[:, :-1]\n",
        "\n",
        "  zeros_train = zeros[index_local_train]\n",
        "  zeros_val = zeros[index_local_val]\n",
        "\n",
        "  eta = 20\n",
        "  combined_info_train = (torch.Tensor(zeros_train).to(\"cuda\") + eta * prior_info_train) / (1 + eta)\n",
        "  combined_info_val = (torch.Tensor(zeros_val).to(\"cuda\") + eta * prior_info_val) / (1 + eta)\n",
        "\n",
        "  target_local_train_new = (combined_info_train, *target_local_train)\n",
        "  target_local_val_new = (combined_info_val, *target_local_val)\n",
        "\n",
        "  class MnistSimDatasetBatch(Dataset):\n",
        "      def __init__(self, mnist_dataset, combined_info, time, event):\n",
        "          self.mnist_dataset = mnist_dataset\n",
        "          self.time, self.event = tt.tuplefy(time, event).to_tensor()\n",
        "          self.combined_info = combined_info\n",
        "\n",
        "      def __len__(self):\n",
        "          return len(self.time)\n",
        "\n",
        "      def __getitem__(self, index):\n",
        "          if not hasattr(index, '__iter__'):\n",
        "              index = [index]\n",
        "          img = [self.mnist_dataset[i] for i in index]\n",
        "          img = torch.stack(img)\n",
        "          return tt.tuplefy(img, (self.combined_info[index], self.time[index], self.event[index]))\n",
        "\n",
        "  data_local_train = MnistSimDatasetBatch(img_local_train, *target_local_train_new)\n",
        "  data_local_val = MnistSimDatasetBatch(img_local_val, *target_local_val_new)\n",
        "  # data_local_test = MnistSimDatasetBatch(img_local, *target_local_test)\n",
        "\n",
        "  batch_size = 32\n",
        "\n",
        "  dl_local_train = tt.data.DataLoaderBatch(data_local_train, batch_size, shuffle=True)\n",
        "  dl_local_val = tt.data.DataLoaderBatch(data_local_val, batch_size, shuffle=True)\n",
        "  # dl_local_test = tt.data.DataLoaderBatch(data_local_test, batch_size, shuffle=True)\n",
        "\n",
        "  net = Net(labtrans.out_features)\n",
        "\n",
        "  model = LogisticHazard(net, tt.optim.Adam(0.005), loss = \"option\")\n",
        "\n",
        "  callbacks = [tt.cb.EarlyStopping(patience=5)]\n",
        "  epochs = 50\n",
        "  verbose = False\n",
        "  log = model.fit_dataloader(dl_local_train, epochs, callbacks, verbose, val_dataloader=dl_local_val)\n",
        "\n",
        "  data_local_test = MnistSimInput(img_local_test)\n",
        "  dl_local_test = DataLoader(data_local_test, batch_size, shuffle=False)\n",
        "\n",
        "  surv = model.interpolate(20).predict_surv_df(dl_local_test)\n",
        "  ev = EvalSurv(surv, *target_local_test, 'km')\n",
        "  concordance_td_list_90.append(ev.concordance_td(\"antolini\"))\n",
        "\n",
        "  time_grid = np.linspace(0, sim_test[0].max())\n",
        "  integrated_brier_score_list_90.append(ev.integrated_brier_score(time_grid))\n",
        "\n",
        "  class MnistSimDatasetBatch(Dataset):\n",
        "      def __init__(self, mnist_dataset, time, event):\n",
        "          self.mnist_dataset = mnist_dataset\n",
        "          self.time, self.event = tt.tuplefy(time, event).to_tensor()\n",
        "\n",
        "      def __len__(self):\n",
        "          return len(self.time)\n",
        "\n",
        "      def __getitem__(self, index):\n",
        "          if not hasattr(index, '__iter__'):\n",
        "              index = [index]\n",
        "          img = [self.mnist_dataset[i] for i in index]\n",
        "          img = torch.stack(img)\n",
        "          return tt.tuplefy(img, (self.time[index], self.event[index]))\n",
        "\n",
        "  data_local_train = MnistSimDatasetBatch(img_local, *target_local_train)\n",
        "  data_local_val = MnistSimDatasetBatch(img_local, *target_local_val)\n",
        "  # data_local_test = MnistSimDatasetBatch(img_local, *target_local_test)\n",
        "\n",
        "  batch_size = 32\n",
        "\n",
        "  dl_local_train = tt.data.DataLoaderBatch(data_local_train, batch_size, shuffle=True)\n",
        "  dl_local_val = tt.data.DataLoaderBatch(data_local_val, batch_size, shuffle=True)\n",
        "  # dl_local_test = tt.data.DataLoaderBatch(data_local_test, batch_size, shuffle=True)\n",
        "\n",
        "  net = Net(labtrans.out_features)\n",
        "\n",
        "  model = LogisticHazard(net, tt.optim.Adam(0.005))\n",
        "\n",
        "  callbacks = [tt.cb.EarlyStopping(patience=5)]\n",
        "  epochs = 50\n",
        "  verbose = False\n",
        "  log = model.fit_dataloader(dl_local_train, epochs, callbacks, verbose, val_dataloader=dl_local_val)\n",
        "\n",
        "  class MnistSimInput(Dataset):\n",
        "      def __init__(self, mnist_dataset):\n",
        "          self.mnist_dataset = mnist_dataset\n",
        "\n",
        "      def __len__(self):\n",
        "          return len(self.mnist_dataset)\n",
        "\n",
        "      def __getitem__(self, index):\n",
        "          img = self.mnist_dataset[index]\n",
        "          return img\n",
        "\n",
        "  data_local_test = MnistSimInput(img_local_test)\n",
        "  dl_local_test = DataLoader(data_local_test, batch_size, shuffle=False)\n",
        "\n",
        "  surv = model.interpolate(20).predict_surv_df(dl_local_test)\n",
        "  ev = EvalSurv(surv, *target_local_test, 'km')\n",
        "  concordance_td_list_old.append(ev.concordance_td(\"antolini\"))\n",
        "\n",
        "  time_grid = np.linspace(0, sim_test[0].max())\n",
        "  integrated_brier_score_list_old.append(ev.integrated_brier_score(time_grid))"
      ],
      "metadata": {
        "colab": {
          "base_uri": "https://localhost:8080/"
        },
        "outputId": "772243f5-3b99-44f6-e66f-98d683d5206a",
        "id": "3iE-mhvs8Hcb"
      },
      "execution_count": 241,
      "outputs": [
        {
          "output_type": "stream",
          "name": "stdout",
          "text": [
            "0\n"
          ]
        },
        {
          "output_type": "stream",
          "name": "stderr",
          "text": [
            "/usr/local/lib/python3.7/dist-packages/torchtuples/base.py:484: UserWarning: The input from the dataloader is different from\n",
            "                        the 'input' during trainig. The shapes are different.\n",
            "  the 'input' during trainig. The shapes are different.\"\"\"\n"
          ]
        },
        {
          "output_type": "stream",
          "name": "stdout",
          "text": [
            "1\n",
            "1\n",
            "1\n",
            "2\n",
            "1\n",
            "3\n",
            "1\n",
            "4\n",
            "1\n",
            "5\n",
            "1\n",
            "6\n",
            "1\n",
            "7\n",
            "1\n",
            "8\n",
            "1\n",
            "9\n",
            "1\n",
            "10\n",
            "1\n",
            "11\n",
            "1\n",
            "12\n",
            "1\n",
            "13\n",
            "1\n",
            "14\n",
            "1\n",
            "15\n",
            "1\n",
            "16\n",
            "1\n",
            "17\n",
            "1\n",
            "18\n",
            "1\n",
            "19\n",
            "1\n"
          ]
        }
      ]
    },
    {
      "cell_type": "code",
      "source": [
        "import seaborn as sns\n",
        "\n",
        "concordance_td_array = np.array(concordance_td_list_90)\n",
        "concordance_td_array_old = np.array(concordance_td_list_old)\n",
        "integrated_brier_score_array_old = np.array(integrated_brier_score_list_old)\n",
        "integrated_brier_score_array = np.array(integrated_brier_score_list_90)\n",
        "\n",
        "data = np.array(concordance_td_list_90 + concordance_td_list_old)\n",
        "label = [\"With KL\" for i in range(len(concordance_td_array))] + [\"Without KL\" for i in range(len(concordance_td_array_old))]\n",
        "df = pd.DataFrame({\"C-index\": data, \"Comparison w.r.t. C-index\": label})\n",
        "\n",
        "sns.set(rc={'figure.figsize':(3,5)})\n",
        "sns.boxplot(x='Comparison w.r.t. C-index', y='C-index', data=df, width = 0.4)#.set(title = \"Comparison w.r.t. IBLL\")\n",
        "len(data)\n"
      ],
      "metadata": {
        "colab": {
          "base_uri": "https://localhost:8080/",
          "height": 357
        },
        "outputId": "272f0678-91c3-403d-98cb-dbdf63fe7691",
        "id": "CFkxCwX48Hck"
      },
      "execution_count": 242,
      "outputs": [
        {
          "output_type": "execute_result",
          "data": {
            "text/plain": [
              "40"
            ]
          },
          "metadata": {},
          "execution_count": 242
        },
        {
          "output_type": "display_data",
          "data": {
            "text/plain": [
              "<Figure size 216x360 with 1 Axes>"
            ],
            "image/png": "[encoded data removed]"
          },
          "metadata": {}
        }
      ]
    },
    {
      "cell_type": "code",
      "source": [
        "data = np.array(integrated_brier_score_list_90 + integrated_brier_score_list_old)\n",
        "label = [\"With KL\" for i in range(len(concordance_td_array))] + [\"Without KL\" for i in range(len(concordance_td_array_old))]\n",
        "df = pd.DataFrame({\"IBS\": data, \"Comparison w.r.t IBS\": label})\n",
        "\n",
        "sns.set(rc={'figure.figsize':(3,5)})\n",
        "sns.boxplot(x='Comparison w.r.t IBS', y='IBS', data=df, width = 0.4)#.set(title = \"Comparison w.r.t. IBLL\")\n",
        "len(data)"
      ],
      "metadata": {
        "colab": {
          "base_uri": "https://localhost:8080/",
          "height": 357
        },
        "outputId": "dd3775c0-37a8-4014-f3b1-97ecea7851f7",
        "id": "77FSXpow8Hck"
      },
      "execution_count": 243,
      "outputs": [
        {
          "output_type": "execute_result",
          "data": {
            "text/plain": [
              "40"
            ]
          },
          "metadata": {},
          "execution_count": 243
        },
        {
          "output_type": "display_data",
          "data": {
            "text/plain": [
              "<Figure size 216x360 with 1 Axes>"
            ],
            "image/png": "[encoded data removed]"
          },
          "metadata": {}
        }
      ]
    },
    {
      "cell_type": "code",
      "source": [
        "class MnistSimInput(Dataset):\n",
        "    def __init__(self, mnist_dataset):\n",
        "        self.mnist_dataset = mnist_dataset\n",
        "\n",
        "    def __len__(self):\n",
        "        return len(self.mnist_dataset)\n",
        "\n",
        "    def __getitem__(self, index):\n",
        "        img = self.mnist_dataset[index]\n",
        "        return img\n",
        "\n",
        "labtrans = LogisticHazard.label_transform(20)\n",
        "target_train = labtrans.fit_transform(*sim_train_subset)\n",
        "\n",
        "concordance_td_list_80 = []\n",
        "integrated_brier_score_list_80 = []\n",
        "integrated_nbll_list_80 = []\n",
        "concordance_td_list_old = []\n",
        "integrated_brier_score_list_old = []\n",
        "# integrated_nbll_list_old = []\n",
        "\n",
        "ratio = 0.8\n",
        "for i in range(20):\n",
        "  print(i)\n",
        "  list1 = [i for i in range(30000)]\n",
        "  index_prior = sample(list1, int(30000 * ratio))\n",
        "  index_local = [i for i in list1 if i not in index_prior]\n",
        "\n",
        "  img_prior = [img[i] for i in index_prior]\n",
        "  img_prior = torch.stack(img_prior)\n",
        "\n",
        "  img_local = [img[i] for i in index_local]\n",
        "  img_local = torch.stack(img_local)\n",
        "\n",
        "  sim_prior = (sim_train_subset[0][index_prior], sim_train_subset[1][index_prior])\n",
        "  sim_local = (sim_train_subset[0][index_local], sim_train_subset[1][index_local])\n",
        "\n",
        "  list1 = [i for i in range(int(30000 * ratio))]\n",
        "  index_prior_train = sample(list1, int(30000 * ratio * 0.8))\n",
        "  index_prior_val = [i for i in list1 if i not in index_prior_train]\n",
        "\n",
        "  img_prior_train = [img_prior[i] for i in index_prior_train]\n",
        "  img_prior_train = torch.stack(img_prior_train)\n",
        "\n",
        "  img_prior_val = [img_prior[i] for i in index_prior_val]\n",
        "  img_prior_val = torch.stack(img_prior_val)\n",
        "\n",
        "  sim_prior_train = (sim_prior[0][index_prior_train], sim_prior[1][index_prior_train])\n",
        "  sim_prior_val = (sim_prior[0][index_prior_val], sim_prior[1][index_prior_val])\n",
        "\n",
        "  target_prior = labtrans.transform(*sim_prior)\n",
        "  target_local = labtrans.transform(*sim_local)\n",
        "  target_prior_train = labtrans.transform(*sim_prior_train)\n",
        "  target_prior_val = labtrans.transform(*sim_prior_val)\n",
        "\n",
        "  class MnistSimDatasetBatch(Dataset):\n",
        "      def __init__(self, mnist_dataset, time, event):\n",
        "          self.mnist_dataset = mnist_dataset\n",
        "          self.time, self.event = tt.tuplefy(time, event).to_tensor()\n",
        "\n",
        "      def __len__(self):\n",
        "          return len(self.time)\n",
        "\n",
        "      def __getitem__(self, index):\n",
        "          if not hasattr(index, '__iter__'):\n",
        "              index = [index]\n",
        "          img = [self.mnist_dataset[i] for i in index]\n",
        "          img = torch.stack(img)\n",
        "          return tt.tuplefy(img, (self.time[index], self.event[index]))\n",
        "\n",
        "  data_prior = MnistSimDatasetBatch(img_prior, *target_prior)\n",
        "  data_local = MnistSimDatasetBatch(img_local, *target_local)\n",
        "  data_prior_train = MnistSimDatasetBatch(img_prior_train, *target_prior_train)\n",
        "  data_prior_val = MnistSimDatasetBatch(img_prior_val, *target_prior_val)\n",
        "\n",
        "  batch_size = 32\n",
        "\n",
        "  dl_prior = tt.data.DataLoaderBatch(data_prior, batch_size, shuffle=True)\n",
        "  dl_local = tt.data.DataLoaderBatch(data_local, batch_size, shuffle=False)\n",
        "\n",
        "  dl_prior_train = tt.data.DataLoaderBatch(data_prior_train, batch_size, shuffle=True)\n",
        "  dl_prior_val = tt.data.DataLoaderBatch(data_prior_val, batch_size, shuffle=True)\n",
        "\n",
        "  class Net(nn.Module):\n",
        "      def __init__(self, out_features):\n",
        "          super().__init__()\n",
        "          self.conv1 = nn.Conv2d(1, 16, 5, 1)\n",
        "          self.max_pool = nn.MaxPool2d(2)\n",
        "          self.conv2 = nn.Conv2d(16, 16, 5, 1)\n",
        "          self.glob_avg_pool = nn.AdaptiveAvgPool2d((1, 1))\n",
        "          self.fc1 = nn.Linear(16, 16)\n",
        "          self.fc2 = nn.Linear(16, out_features)\n",
        "\n",
        "      def forward(self, x):\n",
        "          x = F.relu(self.conv1(x))\n",
        "          x = self.max_pool(x)\n",
        "          x = F.relu(self.conv2(x))\n",
        "          x = self.glob_avg_pool(x)\n",
        "          x = torch.flatten(x, 1)\n",
        "          x = F.relu(self.fc1(x))\n",
        "          x = self.fc2(x)\n",
        "          return x\n",
        "\n",
        "  net = Net(labtrans.out_features)\n",
        "\n",
        "  model = LogisticHazard(net, tt.optim.Adam(0.005))\n",
        "\n",
        "  callbacks = [tt.cb.EarlyStopping(patience=5)]\n",
        "  epochs = 100\n",
        "  verbose = False\n",
        "  log = model.fit_dataloader(dl_prior_train, epochs, callbacks, verbose, val_dataloader=dl_prior_val)\n",
        "\n",
        "  list1 = [i for i in range(int(30000 * (1 - ratio)))]\n",
        "  index_local_train = sample(list1, int(30000 * (1 - ratio) * 0.8))\n",
        "  index_local_test = [i for i in list1 if i not in index_local_train]\n",
        "\n",
        "  list2 = [i for i in range(int(30000 * (1 - ratio) * 0.8))]\n",
        "  index_temp = sample(list2, int(30000 * (1 - ratio) * 0.8 * 0.8))\n",
        "  index_local_val = [index_local_train[i] for i in list2 if i not in index_temp]\n",
        "  index_local_train = [index_local_train[i] for i in list2 if i in index_temp]\n",
        "\n",
        "  img_local_train = [img_local[i] for i in index_local_train]\n",
        "  img_local_train = torch.stack(img_local_train)\n",
        "\n",
        "  img_local_val = [img_local[i] for i in index_local_val]\n",
        "  img_local_val = torch.stack(img_local_val)\n",
        "\n",
        "  img_local_test = [img_local[i] for i in index_local_test]\n",
        "  img_local_test = torch.stack(img_local_test)\n",
        "\n",
        "  sim_local_train = (sim_local[0][index_local_train], sim_local[1][index_local_train])\n",
        "  sim_local_val = (sim_local[0][index_local_val], sim_local[1][index_local_val])\n",
        "  sim_local_test = (sim_local[0][index_local_test], sim_local[1][index_local_test])\n",
        "\n",
        "  target_local_train = labtrans.transform(*sim_local_train)\n",
        "  target_local_val = labtrans.transform(*sim_local_val)\n",
        "  target_local_test = labtrans.transform(*sim_local_test)\n",
        "\n",
        "  prior_info_train = model.predict_hazard(img_local_train)\n",
        "  prior_info_val = model.predict_hazard(img_local_val)\n",
        "\n",
        "  time = target_local[0]\n",
        "  time = np.array(time).reshape(time.shape[0], -1)\n",
        "  zeros = np.zeros((time.shape[0], 21))\n",
        "  np.put_along_axis(zeros, time, np.array(target_local[1]).reshape(-1, 1), axis=1)\n",
        "  zeros = zeros[:, :-1]\n",
        "\n",
        "  zeros_train = zeros[index_local_train]\n",
        "  zeros_val = zeros[index_local_val]\n",
        "\n",
        "  eta = 20\n",
        "  combined_info_train = (torch.Tensor(zeros_train).to(\"cuda\") + eta * prior_info_train) / (1 + eta)\n",
        "  combined_info_val = (torch.Tensor(zeros_val).to(\"cuda\") + eta * prior_info_val) / (1 + eta)\n",
        "\n",
        "  target_local_train_new = (combined_info_train, *target_local_train)\n",
        "  target_local_val_new = (combined_info_val, *target_local_val)\n",
        "\n",
        "  class MnistSimDatasetBatch(Dataset):\n",
        "      def __init__(self, mnist_dataset, combined_info, time, event):\n",
        "          self.mnist_dataset = mnist_dataset\n",
        "          self.time, self.event = tt.tuplefy(time, event).to_tensor()\n",
        "          self.combined_info = combined_info\n",
        "\n",
        "      def __len__(self):\n",
        "          return len(self.time)\n",
        "\n",
        "      def __getitem__(self, index):\n",
        "          if not hasattr(index, '__iter__'):\n",
        "              index = [index]\n",
        "          img = [self.mnist_dataset[i] for i in index]\n",
        "          img = torch.stack(img)\n",
        "          return tt.tuplefy(img, (self.combined_info[index], self.time[index], self.event[index]))\n",
        "\n",
        "  data_local_train = MnistSimDatasetBatch(img_local_train, *target_local_train_new)\n",
        "  data_local_val = MnistSimDatasetBatch(img_local_val, *target_local_val_new)\n",
        "  # data_local_test = MnistSimDatasetBatch(img_local, *target_local_test)\n",
        "\n",
        "  batch_size = 32\n",
        "\n",
        "  dl_local_train = tt.data.DataLoaderBatch(data_local_train, batch_size, shuffle=True)\n",
        "  dl_local_val = tt.data.DataLoaderBatch(data_local_val, batch_size, shuffle=True)\n",
        "  # dl_local_test = tt.data.DataLoaderBatch(data_local_test, batch_size, shuffle=True)\n",
        "\n",
        "  net = Net(labtrans.out_features)\n",
        "\n",
        "  model = LogisticHazard(net, tt.optim.Adam(0.005), loss = \"option\")\n",
        "\n",
        "  callbacks = [tt.cb.EarlyStopping(patience=5)]\n",
        "  epochs = 50\n",
        "  verbose = False\n",
        "  log = model.fit_dataloader(dl_local_train, epochs, callbacks, verbose, val_dataloader=dl_local_val)\n",
        "\n",
        "  data_local_test = MnistSimInput(img_local_test)\n",
        "  dl_local_test = DataLoader(data_local_test, batch_size, shuffle=False)\n",
        "\n",
        "  surv = model.interpolate(20).predict_surv_df(dl_local_test)\n",
        "  ev = EvalSurv(surv, *target_local_test, 'km')\n",
        "  concordance_td_list_80.append(ev.concordance_td(\"antolini\"))\n",
        "\n",
        "  time_grid = np.linspace(0, sim_test[0].max())\n",
        "  integrated_brier_score_list_80.append(ev.integrated_brier_score(time_grid))\n",
        "\n",
        "  class MnistSimDatasetBatch(Dataset):\n",
        "      def __init__(self, mnist_dataset, time, event):\n",
        "          self.mnist_dataset = mnist_dataset\n",
        "          self.time, self.event = tt.tuplefy(time, event).to_tensor()\n",
        "\n",
        "      def __len__(self):\n",
        "          return len(self.time)\n",
        "\n",
        "      def __getitem__(self, index):\n",
        "          if not hasattr(index, '__iter__'):\n",
        "              index = [index]\n",
        "          img = [self.mnist_dataset[i] for i in index]\n",
        "          img = torch.stack(img)\n",
        "          return tt.tuplefy(img, (self.time[index], self.event[index]))\n",
        "\n",
        "  data_local_train = MnistSimDatasetBatch(img_local, *target_local_train)\n",
        "  data_local_val = MnistSimDatasetBatch(img_local, *target_local_val)\n",
        "  # data_local_test = MnistSimDatasetBatch(img_local, *target_local_test)\n",
        "\n",
        "  batch_size = 32\n",
        "\n",
        "  dl_local_train = tt.data.DataLoaderBatch(data_local_train, batch_size, shuffle=True)\n",
        "  dl_local_val = tt.data.DataLoaderBatch(data_local_val, batch_size, shuffle=True)\n",
        "  # dl_local_test = tt.data.DataLoaderBatch(data_local_test, batch_size, shuffle=True)\n",
        "\n",
        "  net = Net(labtrans.out_features)\n",
        "\n",
        "  model = LogisticHazard(net, tt.optim.Adam(0.005))\n",
        "\n",
        "  callbacks = [tt.cb.EarlyStopping(patience=5)]\n",
        "  epochs = 50\n",
        "  verbose = False\n",
        "  log = model.fit_dataloader(dl_local_train, epochs, callbacks, verbose, val_dataloader=dl_local_val)\n",
        "\n",
        "  class MnistSimInput(Dataset):\n",
        "      def __init__(self, mnist_dataset):\n",
        "          self.mnist_dataset = mnist_dataset\n",
        "\n",
        "      def __len__(self):\n",
        "          return len(self.mnist_dataset)\n",
        "\n",
        "      def __getitem__(self, index):\n",
        "          img = self.mnist_dataset[index]\n",
        "          return img\n",
        "\n",
        "  data_local_test = MnistSimInput(img_local_test)\n",
        "  dl_local_test = DataLoader(data_local_test, batch_size, shuffle=False)\n",
        "\n",
        "  surv = model.interpolate(20).predict_surv_df(dl_local_test)\n",
        "  ev = EvalSurv(surv, *target_local_test, 'km')\n",
        "  concordance_td_list_old.append(ev.concordance_td(\"antolini\"))\n",
        "\n",
        "  time_grid = np.linspace(0, sim_test[0].max())\n",
        "  integrated_brier_score_list_old.append(ev.integrated_brier_score(time_grid))"
      ],
      "metadata": {
        "colab": {
          "base_uri": "https://localhost:8080/"
        },
        "outputId": "45e92370-bf9e-4379-e6f6-81504d9b15fd",
        "id": "KdVkOxOuHdA4"
      },
      "execution_count": 244,
      "outputs": [
        {
          "output_type": "stream",
          "name": "stdout",
          "text": [
            "0\n"
          ]
        },
        {
          "output_type": "stream",
          "name": "stderr",
          "text": [
            "/usr/local/lib/python3.7/dist-packages/torchtuples/base.py:484: UserWarning: The input from the dataloader is different from\n",
            "                        the 'input' during trainig. The shapes are different.\n",
            "  the 'input' during trainig. The shapes are different.\"\"\"\n"
          ]
        },
        {
          "output_type": "stream",
          "name": "stdout",
          "text": [
            "1\n",
            "1\n",
            "1\n",
            "2\n",
            "1\n",
            "3\n",
            "1\n",
            "4\n",
            "1\n",
            "5\n",
            "1\n",
            "6\n",
            "1\n",
            "7\n",
            "1\n",
            "8\n",
            "1\n",
            "9\n",
            "1\n",
            "10\n",
            "1\n",
            "11\n",
            "1\n",
            "12\n",
            "1\n",
            "13\n",
            "1\n",
            "14\n",
            "1\n",
            "15\n",
            "1\n",
            "16\n",
            "1\n",
            "17\n",
            "1\n",
            "18\n",
            "1\n",
            "19\n",
            "1\n"
          ]
        }
      ]
    },
    {
      "cell_type": "code",
      "source": [
        "import seaborn as sns\n",
        "\n",
        "concordance_td_array = np.array(concordance_td_list_80)\n",
        "concordance_td_array_old = np.array(concordance_td_list_old)\n",
        "integrated_brier_score_array_old = np.array(integrated_brier_score_list_old)\n",
        "integrated_brier_score_array = np.array(integrated_brier_score_list_80)\n",
        "\n",
        "data = np.array(concordance_td_list_80 + concordance_td_list_old)\n",
        "label = [\"With KL\" for i in range(len(concordance_td_array))] + [\"Without KL\" for i in range(len(concordance_td_array_old))]\n",
        "df = pd.DataFrame({\"C-index\": data, \"Comparison w.r.t. C-index\": label})\n",
        "\n",
        "sns.set(rc={'figure.figsize':(3,5)})\n",
        "sns.boxplot(x='Comparison w.r.t. C-index', y='C-index', data=df, width = 0.4)#.set(title = \"Comparison w.r.t. IBLL\")\n",
        "len(data)\n"
      ],
      "metadata": {
        "colab": {
          "base_uri": "https://localhost:8080/",
          "height": 360
        },
        "outputId": "f3c50401-a014-4f0b-dcd6-83f418218aaa",
        "id": "2KOi-rmaHdBC"
      },
      "execution_count": 245,
      "outputs": [
        {
          "output_type": "execute_result",
          "data": {
            "text/plain": [
              "40"
            ]
          },
          "metadata": {},
          "execution_count": 245
        },
        {
          "output_type": "display_data",
          "data": {
            "text/plain": [
              "<Figure size 216x360 with 1 Axes>"
            ],
            "image/png": "[encoded data removed]"
          },
          "metadata": {}
        }
      ]
    },
    {
      "cell_type": "code",
      "source": [
        "data = np.array(integrated_brier_score_list_80 + integrated_brier_score_list_old)\n",
        "label = [\"With KL\" for i in range(len(concordance_td_array))] + [\"Without KL\" for i in range(len(concordance_td_array_old))]\n",
        "df = pd.DataFrame({\"IBS\": data, \"Comparison w.r.t IBS\": label})\n",
        "\n",
        "sns.set(rc={'figure.figsize':(3,5)})\n",
        "sns.boxplot(x='Comparison w.r.t IBS', y='IBS', data=df, width = 0.4)#.set(title = \"Comparison w.r.t. IBLL\")\n",
        "len(data)"
      ],
      "metadata": {
        "colab": {
          "base_uri": "https://localhost:8080/",
          "height": 360
        },
        "outputId": "4a67587f-215c-4ec0-b266-4fd91a44b405",
        "id": "pRwBJ2OuHdBC"
      },
      "execution_count": 246,
      "outputs": [
        {
          "output_type": "execute_result",
          "data": {
            "text/plain": [
              "40"
            ]
          },
          "metadata": {},
          "execution_count": 246
        },
        {
          "output_type": "display_data",
          "data": {
            "text/plain": [
              "<Figure size 216x360 with 1 Axes>"
            ],
            "image/png": "[encoded data removed]"
          },
          "metadata": {}
        }
      ]
    },
    {
      "cell_type": "code",
      "source": [
        "import seaborn as sns\n",
        "\n",
        "# Creating plot\n",
        "concordance_td_array = np.array(concordance_td_list_95)\n",
        "concordance_td_array_old = np.array(concordance_td_list_old)\n",
        "integrated_brier_score_array_old = np.array(integrated_brier_score_list_old)\n",
        "integrated_brier_score_array = np.array(integrated_brier_score_list_95)\n",
        "\n",
        "data = np.array(concordance_td_list_95 + concordance_td_list_90 + concordance_td_list_80 + concordance_td_list_old)\n",
        "label = [\"With KL 5%\" for i in range(len(concordance_td_array))] + [\"With KL 10%\" for i in range(len(concordance_td_array))] + [\"With KL 20%\" for i in range(len(concordance_td_array))] + [\"Without KL\" for i in range(len(concordance_td_array_old))]\n",
        "df = pd.DataFrame({\"C-index\": data, \"Comparison w.r.t. C-index\": label})\n",
        "\n",
        "sns.set(rc={'figure.figsize':(5,5)})\n",
        "sns.boxplot(x='Comparison w.r.t. C-index', y='C-index', data=df, width = 0.4).set(xlabel = None)#.set(title = \"Comparison w.r.t. IBLL\")\n",
        "len(data)\n"
      ],
      "metadata": {
        "colab": {
          "base_uri": "https://localhost:8080/",
          "height": 340
        },
        "id": "OHcZMCQvHpzj",
        "outputId": "8a4a85ba-e740-4e47-ea5a-747aab1e8b37"
      },
      "execution_count": 248,
      "outputs": [
        {
          "output_type": "execute_result",
          "data": {
            "text/plain": [
              "80"
            ]
          },
          "metadata": {},
          "execution_count": 248
        },
        {
          "output_type": "display_data",
          "data": {
            "text/plain": [
              "<Figure size 360x360 with 1 Axes>"
            ],
            "image/png": "[encoded data removed]"
          },
          "metadata": {}
        }
      ]
    },
    {
      "cell_type": "code",
      "source": [
        "data = np.array(integrated_brier_score_list_95 + integrated_brier_score_list_90 + integrated_brier_score_list_80 + concordance_td_list_old)\n",
        "label = [\"With KL 5%\" for i in range(len(concordance_td_array))] + [\"With KL 10%\" for i in range(len(concordance_td_array))] + [\"With KL 20%\" for i in range(len(concordance_td_array))] + [\"Without KL\" for i in range(len(concordance_td_array_old))]\n",
        "df = pd.DataFrame({\"IBS\": data, \"Comparison w.r.t. IBS\": label})\n",
        "\n",
        "sns.set(rc={'figure.figsize':(5,5)})\n",
        "sns.boxplot(x='Comparison w.r.t. IBS', y='IBS', data=df, width = 0.4).set(xlabel = None)#.set(title = \"Comparison w.r.t. IBLL\")\n",
        "len(data)\n"
      ],
      "metadata": {
        "colab": {
          "base_uri": "https://localhost:8080/",
          "height": 340
        },
        "id": "RCVtFZqlSLMf",
        "outputId": "035ca051-d379-4737-da6f-35bc9950171f"
      },
      "execution_count": 250,
      "outputs": [
        {
          "output_type": "execute_result",
          "data": {
            "text/plain": [
              "80"
            ]
          },
          "metadata": {},
          "execution_count": 250
        },
        {
          "output_type": "display_data",
          "data": {
            "text/plain": [
              "<Figure size 360x360 with 1 Axes>"
            ],
            "image/png": "[encoded data removed]"
          },
          "metadata": {}
        }
      ]
    },
    {
      "cell_type": "code",
      "source": [
        ""
      ],
      "metadata": {
        "id": "I_CgogbWSbwz"
      },
      "execution_count": null,
      "outputs": []
    }
  ]
}