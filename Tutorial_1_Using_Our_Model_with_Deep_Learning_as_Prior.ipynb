{
  "nbformat": 4,
  "nbformat_minor": 0,
  "metadata": {
    "colab": {
      "name": "Tutorial 1: Using Our Model with Deep Learning as Prior.ipynb",
      "provenance": []
    },
    "kernelspec": {
      "name": "python3",
      "display_name": "Python 3"
    },
    "language_info": {
      "name": "python"
    }
  },
  "cells": [
    {
      "cell_type": "markdown",
      "source": [
        "# Preparation"
      ],
      "metadata": {
        "id": "IaAgQmOd_hcG"
      }
    },
    {
      "cell_type": "markdown",
      "source": [
        "This project aims on using Deep Learning with Kullback-Leibler Divergence. Some basic packages are required for this project. The aim of the following chunk is to install required packages such as `lifelines`, `sklearn-pandas` and `torchtuples`. Note that `pycox` is built based on `torchtuples`.\n",
        "\n",
        "---\n",
        "\n",
        "`pycox` should be pre-installed and moved into the google drive since we need to modify part of the code in this package for our model."
      ],
      "metadata": {
        "id": "bnU8AUNjAbBl"
      }
    },
    {
      "cell_type": "code",
      "source": [
        "!pwd\n",
        "!pip install lifelines\n",
        "! pip install sklearn-pandas\n",
        "! pip install torchtuples\n",
        "! pip install statsmodels --upgrade\n",
        "# ! pip install pycox"
      ],
      "metadata": {
        "id": "Nvw5pjDK8apf",
        "colab": {
          "base_uri": "https://localhost:8080/"
        },
        "outputId": "f8dc2389-0a38-4a5e-9154-854e876e5777"
      },
      "execution_count": 1,
      "outputs": [
        {
          "output_type": "stream",
          "name": "stdout",
          "text": [
            "/content\n",
            "Looking in indexes: https://pypi.org/simple, https://us-python.pkg.dev/colab-wheels/public/simple/\n",
            "Collecting lifelines\n",
            "  Downloading lifelines-0.27.0-py3-none-any.whl (349 kB)\n",
            "\u001b[K     |████████████████████████████████| 349 kB 5.4 MB/s \n",
            "\u001b[?25hCollecting autograd-gamma>=0.3\n",
            "  Downloading autograd-gamma-0.5.0.tar.gz (4.0 kB)\n",
            "Requirement already satisfied: numpy>=1.14.0 in /usr/local/lib/python3.7/dist-packages (from lifelines) (1.21.6)\n",
            "Collecting formulaic>=0.2.2\n",
            "  Downloading formulaic-0.3.4-py3-none-any.whl (68 kB)\n",
            "\u001b[K     |████████████████████████████████| 68 kB 4.4 MB/s \n",
            "\u001b[?25hRequirement already satisfied: pandas>=1.0.0 in /usr/local/lib/python3.7/dist-packages (from lifelines) (1.3.5)\n",
            "Requirement already satisfied: autograd>=1.3 in /usr/local/lib/python3.7/dist-packages (from lifelines) (1.4)\n",
            "Requirement already satisfied: matplotlib>=3.0 in /usr/local/lib/python3.7/dist-packages (from lifelines) (3.2.2)\n",
            "Requirement already satisfied: scipy>=1.2.0 in /usr/local/lib/python3.7/dist-packages (from lifelines) (1.4.1)\n",
            "Requirement already satisfied: future>=0.15.2 in /usr/local/lib/python3.7/dist-packages (from autograd>=1.3->lifelines) (0.16.0)\n",
            "Requirement already satisfied: astor>=0.8 in /usr/local/lib/python3.7/dist-packages (from formulaic>=0.2.2->lifelines) (0.8.1)\n",
            "Requirement already satisfied: wrapt>=1.0 in /usr/local/lib/python3.7/dist-packages (from formulaic>=0.2.2->lifelines) (1.14.1)\n",
            "Collecting interface-meta<2.0.0,>=1.2.0\n",
            "  Downloading interface_meta-1.3.0-py3-none-any.whl (14 kB)\n",
            "Collecting scipy>=1.2.0\n",
            "  Downloading scipy-1.7.3-cp37-cp37m-manylinux_2_12_x86_64.manylinux2010_x86_64.whl (38.1 MB)\n",
            "\u001b[K     |████████████████████████████████| 38.1 MB 1.1 MB/s \n",
            "\u001b[?25hRequirement already satisfied: cycler>=0.10 in /usr/local/lib/python3.7/dist-packages (from matplotlib>=3.0->lifelines) (0.11.0)\n",
            "Requirement already satisfied: kiwisolver>=1.0.1 in /usr/local/lib/python3.7/dist-packages (from matplotlib>=3.0->lifelines) (1.4.2)\n",
            "Requirement already satisfied: python-dateutil>=2.1 in /usr/local/lib/python3.7/dist-packages (from matplotlib>=3.0->lifelines) (2.8.2)\n",
            "Requirement already satisfied: pyparsing!=2.0.4,!=2.1.2,!=2.1.6,>=2.0.1 in /usr/local/lib/python3.7/dist-packages (from matplotlib>=3.0->lifelines) (3.0.9)\n",
            "Requirement already satisfied: typing-extensions in /usr/local/lib/python3.7/dist-packages (from kiwisolver>=1.0.1->matplotlib>=3.0->lifelines) (4.2.0)\n",
            "Requirement already satisfied: pytz>=2017.3 in /usr/local/lib/python3.7/dist-packages (from pandas>=1.0.0->lifelines) (2022.1)\n",
            "Requirement already satisfied: six>=1.5 in /usr/local/lib/python3.7/dist-packages (from python-dateutil>=2.1->matplotlib>=3.0->lifelines) (1.15.0)\n",
            "Building wheels for collected packages: autograd-gamma\n",
            "  Building wheel for autograd-gamma (setup.py) ... \u001b[?25l\u001b[?25hdone\n",
            "  Created wheel for autograd-gamma: filename=autograd_gamma-0.5.0-py3-none-any.whl size=4048 sha256=c253e20f7701a806aa55fbafc58ff79b5a6f481159977ccc66d74b6ebcc3c896\n",
            "  Stored in directory: /root/.cache/pip/wheels/9f/01/ee/1331593abb5725ff7d8c1333aee93a50a1c29d6ddda9665c9f\n",
            "Successfully built autograd-gamma\n",
            "Installing collected packages: scipy, interface-meta, formulaic, autograd-gamma, lifelines\n",
            "  Attempting uninstall: scipy\n",
            "    Found existing installation: scipy 1.4.1\n",
            "    Uninstalling scipy-1.4.1:\n",
            "      Successfully uninstalled scipy-1.4.1\n",
            "\u001b[31mERROR: pip's dependency resolver does not currently take into account all the packages that are installed. This behaviour is the source of the following dependency conflicts.\n",
            "albumentations 0.1.12 requires imgaug<0.2.7,>=0.2.5, but you have imgaug 0.2.9 which is incompatible.\u001b[0m\n",
            "Successfully installed autograd-gamma-0.5.0 formulaic-0.3.4 interface-meta-1.3.0 lifelines-0.27.0 scipy-1.7.3\n",
            "Looking in indexes: https://pypi.org/simple, https://us-python.pkg.dev/colab-wheels/public/simple/\n",
            "Requirement already satisfied: sklearn-pandas in /usr/local/lib/python3.7/dist-packages (1.8.0)\n",
            "Requirement already satisfied: scipy>=0.14 in /usr/local/lib/python3.7/dist-packages (from sklearn-pandas) (1.7.3)\n",
            "Requirement already satisfied: scikit-learn>=0.15.0 in /usr/local/lib/python3.7/dist-packages (from sklearn-pandas) (1.0.2)\n",
            "Requirement already satisfied: pandas>=0.11.0 in /usr/local/lib/python3.7/dist-packages (from sklearn-pandas) (1.3.5)\n",
            "Requirement already satisfied: numpy>=1.6.1 in /usr/local/lib/python3.7/dist-packages (from sklearn-pandas) (1.21.6)\n",
            "Requirement already satisfied: python-dateutil>=2.7.3 in /usr/local/lib/python3.7/dist-packages (from pandas>=0.11.0->sklearn-pandas) (2.8.2)\n",
            "Requirement already satisfied: pytz>=2017.3 in /usr/local/lib/python3.7/dist-packages (from pandas>=0.11.0->sklearn-pandas) (2022.1)\n",
            "Requirement already satisfied: six>=1.5 in /usr/local/lib/python3.7/dist-packages (from python-dateutil>=2.7.3->pandas>=0.11.0->sklearn-pandas) (1.15.0)\n",
            "Requirement already satisfied: joblib>=0.11 in /usr/local/lib/python3.7/dist-packages (from scikit-learn>=0.15.0->sklearn-pandas) (1.1.0)\n",
            "Requirement already satisfied: threadpoolctl>=2.0.0 in /usr/local/lib/python3.7/dist-packages (from scikit-learn>=0.15.0->sklearn-pandas) (3.1.0)\n",
            "Looking in indexes: https://pypi.org/simple, https://us-python.pkg.dev/colab-wheels/public/simple/\n",
            "Collecting torchtuples\n",
            "  Downloading torchtuples-0.2.2-py3-none-any.whl (41 kB)\n",
            "\u001b[K     |████████████████████████████████| 41 kB 454 kB/s \n",
            "\u001b[?25hRequirement already satisfied: matplotlib>=3.0.3 in /usr/local/lib/python3.7/dist-packages (from torchtuples) (3.2.2)\n",
            "Requirement already satisfied: numpy>=1.15.4 in /usr/local/lib/python3.7/dist-packages (from torchtuples) (1.21.6)\n",
            "Requirement already satisfied: pandas>=0.24.2 in /usr/local/lib/python3.7/dist-packages (from torchtuples) (1.3.5)\n",
            "Requirement already satisfied: python-dateutil>=2.1 in /usr/local/lib/python3.7/dist-packages (from matplotlib>=3.0.3->torchtuples) (2.8.2)\n",
            "Requirement already satisfied: cycler>=0.10 in /usr/local/lib/python3.7/dist-packages (from matplotlib>=3.0.3->torchtuples) (0.11.0)\n",
            "Requirement already satisfied: pyparsing!=2.0.4,!=2.1.2,!=2.1.6,>=2.0.1 in /usr/local/lib/python3.7/dist-packages (from matplotlib>=3.0.3->torchtuples) (3.0.9)\n",
            "Requirement already satisfied: kiwisolver>=1.0.1 in /usr/local/lib/python3.7/dist-packages (from matplotlib>=3.0.3->torchtuples) (1.4.2)\n",
            "Requirement already satisfied: typing-extensions in /usr/local/lib/python3.7/dist-packages (from kiwisolver>=1.0.1->matplotlib>=3.0.3->torchtuples) (4.2.0)\n",
            "Requirement already satisfied: pytz>=2017.3 in /usr/local/lib/python3.7/dist-packages (from pandas>=0.24.2->torchtuples) (2022.1)\n",
            "Requirement already satisfied: six>=1.5 in /usr/local/lib/python3.7/dist-packages (from python-dateutil>=2.1->matplotlib>=3.0.3->torchtuples) (1.15.0)\n",
            "Installing collected packages: torchtuples\n",
            "Successfully installed torchtuples-0.2.2\n",
            "Looking in indexes: https://pypi.org/simple, https://us-python.pkg.dev/colab-wheels/public/simple/\n",
            "Requirement already satisfied: statsmodels in /usr/local/lib/python3.7/dist-packages (0.10.2)\n",
            "Collecting statsmodels\n",
            "  Downloading statsmodels-0.13.2-cp37-cp37m-manylinux_2_17_x86_64.manylinux2014_x86_64.whl (9.8 MB)\n",
            "\u001b[K     |████████████████████████████████| 9.8 MB 5.6 MB/s \n",
            "\u001b[?25hRequirement already satisfied: numpy>=1.17 in /usr/local/lib/python3.7/dist-packages (from statsmodels) (1.21.6)\n",
            "Requirement already satisfied: scipy>=1.3 in /usr/local/lib/python3.7/dist-packages (from statsmodels) (1.7.3)\n",
            "Requirement already satisfied: packaging>=21.3 in /usr/local/lib/python3.7/dist-packages (from statsmodels) (21.3)\n",
            "Requirement already satisfied: patsy>=0.5.2 in /usr/local/lib/python3.7/dist-packages (from statsmodels) (0.5.2)\n",
            "Requirement already satisfied: pandas>=0.25 in /usr/local/lib/python3.7/dist-packages (from statsmodels) (1.3.5)\n",
            "Requirement already satisfied: pyparsing!=3.0.5,>=2.0.2 in /usr/local/lib/python3.7/dist-packages (from packaging>=21.3->statsmodels) (3.0.9)\n",
            "Requirement already satisfied: pytz>=2017.3 in /usr/local/lib/python3.7/dist-packages (from pandas>=0.25->statsmodels) (2022.1)\n",
            "Requirement already satisfied: python-dateutil>=2.7.3 in /usr/local/lib/python3.7/dist-packages (from pandas>=0.25->statsmodels) (2.8.2)\n",
            "Requirement already satisfied: six in /usr/local/lib/python3.7/dist-packages (from patsy>=0.5.2->statsmodels) (1.15.0)\n",
            "Installing collected packages: statsmodels\n",
            "  Attempting uninstall: statsmodels\n",
            "    Found existing installation: statsmodels 0.10.2\n",
            "    Uninstalling statsmodels-0.10.2:\n",
            "      Successfully uninstalled statsmodels-0.10.2\n",
            "Successfully installed statsmodels-0.13.2\n"
          ]
        }
      ]
    },
    {
      "cell_type": "markdown",
      "source": [
        "`pycox` is pre-installed in /content/drive/MyDrive/pycox, before that we need to track the data in google drive."
      ],
      "metadata": {
        "id": "3CR4Lrl8DPhJ"
      }
    },
    {
      "cell_type": "code",
      "source": [
        "from google.colab import drive\n",
        "\n",
        "drive.mount(\"/content/drive\")\n",
        "\n",
        "%cd \"/content/drive/MyDrive/pycox\"\n",
        "# %pwd\n",
        "# from pycox.models import LogisticHazard"
      ],
      "metadata": {
        "colab": {
          "base_uri": "https://localhost:8080/"
        },
        "id": "ohFkTufMCHze",
        "outputId": "0b73937e-3d20-4fef-b44a-b28704982de0"
      },
      "execution_count": 2,
      "outputs": [
        {
          "output_type": "stream",
          "name": "stdout",
          "text": [
            "Mounted at /content/drive\n",
            "/content/drive/MyDrive/pycox\n"
          ]
        }
      ]
    },
    {
      "cell_type": "code",
      "source": [
        "import os\n",
        "import sys\n",
        "\n",
        "import numpy as np\n",
        "import pandas as pd \n",
        "import matplotlib.pyplot as plt\n",
        "import torch # For building the networks\n",
        "from torch import nn\n",
        "import torch.nn.functional as F \n",
        "import torchtuples as tt # Some useful functions\n",
        "\n",
        "# For preprocessing\n",
        "from sklearn.preprocessing import StandardScaler\n",
        "from sklearn_pandas import DataFrameMapper \n",
        "\n",
        "from pycox.datasets import metabric\n",
        "from pycox.datasets import support\n",
        "from pycox.models import LogisticHazard\n",
        "# from pycox.models import PMF\n",
        "# from pycox.models import DeepHitSingle\n",
        "from pycox.evaluation import EvalSurv\n",
        "from pycox.preprocessing.feature_transforms import OrderedCategoricalLong"
      ],
      "metadata": {
        "id": "IZOY_hA4O-Wq"
      },
      "execution_count": 58,
      "outputs": []
    },
    {
      "cell_type": "code",
      "source": [
        "np.random.seed(1234)\n",
        "_ = torch.manual_seed(1234)"
      ],
      "metadata": {
        "id": "I42T395DTs_4"
      },
      "execution_count": 4,
      "outputs": []
    },
    {
      "cell_type": "markdown",
      "source": [
        "If you have mounted the data rightly, you should print out the list for files in given folder. For example, this will print out all files in `/content/drive/My Drive/Kevin He`"
      ],
      "metadata": {
        "id": "eMTd8u0JDuKl"
      }
    },
    {
      "cell_type": "code",
      "source": [
        "# TODO: Fill in the Google Drive path where you uploaded the assignment\n",
        "# Example: If you create a 2022WI folder and put all the files under A4 folder, then \"2022WI/A4\"\n",
        "GOOGLE_DRIVE_PATH_AFTER_MYDRIVE = \"Kevin He\"\n",
        "GOOGLE_DRIVE_PATH = os.path.join(\"/content/drive\", \"My Drive\", GOOGLE_DRIVE_PATH_AFTER_MYDRIVE)\n",
        "print(os.listdir(GOOGLE_DRIVE_PATH))\n",
        "\n",
        "# Add to sys so we can import .py files.\n",
        "sys.path.append(GOOGLE_DRIVE_PATH)"
      ],
      "metadata": {
        "colab": {
          "base_uri": "https://localhost:8080/"
        },
        "outputId": "7d2d5679-955f-4b6f-bcfd-0740883b2729",
        "id": "izaCKipaCoKe"
      },
      "execution_count": 5,
      "outputs": [
        {
          "output_type": "stream",
          "name": "stdout",
          "text": [
            "['Deep Learning with KL Divergence: General Tutorial.ipynb', 'local_data.csv', 'prior_data.csv', 'local_data_2.csv', 'local_data_3.csv', 'prior_data_subset.csv', 'prior_data_subset_2.csv', 'prior_data_subset_3.csv', 'R-code.ipynb', 'local_data_together.csv', 'Untitled', 'Deep Learning with KL Divergence Simulation Image Data.ipynb', 'Deep Learning with KL Divergence.ipynb', 'Deep Learning with KL Divergence Real Data.ipynb', 'prior_data_subset_4.csv', 'Deep Learning with KL Divergence Simulation Non-linear-prop.ipynb', 'Deep Learning with KL Divergence Non-linear Visualization.ipynb', 'prior_data_subset_5.csv', 'Deep Learning with KL-divergence Real Data: Tutorial.ipynb', 'Deep Learning with KL Divergence Simulation 1: Tutorial', 'Deep Learning with KL Divergence Simulation 2-1: Tutorial.ipynb', 'Deep Learning with KL Divergence Simulation 3: Tutorial.ipynb', 'Deep Learning with KL Divergence Simulation 2-2: Tutorial.ipynb']\n"
          ]
        }
      ]
    },
    {
      "cell_type": "code",
      "source": [
        ""
      ],
      "metadata": {
        "id": "wmgeODicXi1w"
      },
      "execution_count": null,
      "outputs": []
    },
    {
      "cell_type": "markdown",
      "source": [
        "# What is Prior and Local?"
      ],
      "metadata": {
        "id": "dUJ811v2X2yM"
      }
    },
    {
      "cell_type": "markdown",
      "source": [
        "To use our model, we need to define the concepts of prior and local. Prior data is used for training prior model and the hazard rates of it will be used to obtain the value of our loss function. It can be any model such as a deep learning model or a Generalized Linear Model (GLM), we only require the hazard rates that obtained from our trained prior model.\n",
        "\n",
        "In the following part, we show how to train our model with SUPPORT data. For this data, we sample most of the data as prior data and the remaining part are local. For our model, the local data and the prior information will be used. For other models, only local data is accessible. \n",
        "\n",
        "You can also train our discrete-time model, just make sure the model can provide with a matrix $\\lambda \\in \\mathbb R^{n \\times K}$, with $n$ the number of observations and $K$ the number of time intervals."
      ],
      "metadata": {
        "id": "Pa-WWfG4X7Hq"
      }
    },
    {
      "cell_type": "markdown",
      "source": [
        "# Data Preparation: Splitting Prior and Local"
      ],
      "metadata": {
        "id": "ANKlytCmZrXe"
      }
    },
    {
      "cell_type": "markdown",
      "source": [
        "SUPPORT data is a data with time a continuous value (maximal value $2029$), which is not the traditional case that discrete-time model can deal with. Here we want to generate 20 (`num_durations = 20`) time intervals by grouping the continuous event time by quantiles. The cuts are defined by the whole dataset. We will cover the discrete time on the original continuous time, which means `duration` will be alternated by our discrete time $0, 1, 2, \\ldots, 19$.\n",
        "\n",
        "We will also sample 90% of the data as prior and the remaining 10% is local data."
      ],
      "metadata": {
        "id": "IkeUY3SIa4E6"
      }
    },
    {
      "cell_type": "code",
      "source": [
        "data = support.read_df()"
      ],
      "metadata": {
        "id": "eXZuWr1oS_MN"
      },
      "execution_count": 7,
      "outputs": []
    },
    {
      "cell_type": "code",
      "source": [
        "data.head()"
      ],
      "metadata": {
        "colab": {
          "base_uri": "https://localhost:8080/",
          "height": 206
        },
        "id": "r9lqD2C8ajzH",
        "outputId": "ab0265e8-a451-40a5-aaf3-59beaaad3ac4"
      },
      "execution_count": 9,
      "outputs": [
        {
          "output_type": "execute_result",
          "data": {
            "text/plain": [
              "          x0   x1   x2   x3   x4   x5   x6     x7     x8    x9        x10  \\\n",
              "0  82.709961  1.0  2.0  1.0  0.0  0.0  0.0  160.0   55.0  16.0  38.195309   \n",
              "1  79.660950  1.0  0.0  1.0  0.0  0.0  1.0   54.0   67.0  16.0  38.000000   \n",
              "2  23.399990  1.0  2.0  3.0  0.0  0.0  1.0   87.0  144.0  45.0  37.296879   \n",
              "3  53.075989  1.0  4.0  3.0  0.0  0.0  0.0   55.0  100.0  18.0  36.000000   \n",
              "4  71.794983  0.0  1.0  1.0  0.0  0.0  0.0   65.0  135.0  40.0  38.593750   \n",
              "\n",
              "     x11        x12       x13  duration  event  \n",
              "0  142.0  19.000000  1.099854      30.0      1  \n",
              "1  142.0  10.000000  0.899902    1527.0      0  \n",
              "2  130.0   5.199219  1.199951      96.0      1  \n",
              "3  135.0   8.699219  0.799927     892.0      0  \n",
              "4  146.0   0.099991  0.399963       7.0      1  "
            ],
            "text/html": [
              "\n",
              "  <div id=\"df-ce65463c-660e-4e35-977b-53b5e989b784\">\n",
              "    <div class=\"colab-df-container\">\n",
              "      <div>\n",
              "<style scoped>\n",
              "    .dataframe tbody tr th:only-of-type {\n",
              "        vertical-align: middle;\n",
              "    }\n",
              "\n",
              "    .dataframe tbody tr th {\n",
              "        vertical-align: top;\n",
              "    }\n",
              "\n",
              "    .dataframe thead th {\n",
              "        text-align: right;\n",
              "    }\n",
              "</style>\n",
              "<table border=\"1\" class=\"dataframe\">\n",
              "  <thead>\n",
              "    <tr style=\"text-align: right;\">\n",
              "      <th></th>\n",
              "      <th>x0</th>\n",
              "      <th>x1</th>\n",
              "      <th>x2</th>\n",
              "      <th>x3</th>\n",
              "      <th>x4</th>\n",
              "      <th>x5</th>\n",
              "      <th>x6</th>\n",
              "      <th>x7</th>\n",
              "      <th>x8</th>\n",
              "      <th>x9</th>\n",
              "      <th>x10</th>\n",
              "      <th>x11</th>\n",
              "      <th>x12</th>\n",
              "      <th>x13</th>\n",
              "      <th>duration</th>\n",
              "      <th>event</th>\n",
              "    </tr>\n",
              "  </thead>\n",
              "  <tbody>\n",
              "    <tr>\n",
              "      <th>0</th>\n",
              "      <td>82.709961</td>\n",
              "      <td>1.0</td>\n",
              "      <td>2.0</td>\n",
              "      <td>1.0</td>\n",
              "      <td>0.0</td>\n",
              "      <td>0.0</td>\n",
              "      <td>0.0</td>\n",
              "      <td>160.0</td>\n",
              "      <td>55.0</td>\n",
              "      <td>16.0</td>\n",
              "      <td>38.195309</td>\n",
              "      <td>142.0</td>\n",
              "      <td>19.000000</td>\n",
              "      <td>1.099854</td>\n",
              "      <td>30.0</td>\n",
              "      <td>1</td>\n",
              "    </tr>\n",
              "    <tr>\n",
              "      <th>1</th>\n",
              "      <td>79.660950</td>\n",
              "      <td>1.0</td>\n",
              "      <td>0.0</td>\n",
              "      <td>1.0</td>\n",
              "      <td>0.0</td>\n",
              "      <td>0.0</td>\n",
              "      <td>1.0</td>\n",
              "      <td>54.0</td>\n",
              "      <td>67.0</td>\n",
              "      <td>16.0</td>\n",
              "      <td>38.000000</td>\n",
              "      <td>142.0</td>\n",
              "      <td>10.000000</td>\n",
              "      <td>0.899902</td>\n",
              "      <td>1527.0</td>\n",
              "      <td>0</td>\n",
              "    </tr>\n",
              "    <tr>\n",
              "      <th>2</th>\n",
              "      <td>23.399990</td>\n",
              "      <td>1.0</td>\n",
              "      <td>2.0</td>\n",
              "      <td>3.0</td>\n",
              "      <td>0.0</td>\n",
              "      <td>0.0</td>\n",
              "      <td>1.0</td>\n",
              "      <td>87.0</td>\n",
              "      <td>144.0</td>\n",
              "      <td>45.0</td>\n",
              "      <td>37.296879</td>\n",
              "      <td>130.0</td>\n",
              "      <td>5.199219</td>\n",
              "      <td>1.199951</td>\n",
              "      <td>96.0</td>\n",
              "      <td>1</td>\n",
              "    </tr>\n",
              "    <tr>\n",
              "      <th>3</th>\n",
              "      <td>53.075989</td>\n",
              "      <td>1.0</td>\n",
              "      <td>4.0</td>\n",
              "      <td>3.0</td>\n",
              "      <td>0.0</td>\n",
              "      <td>0.0</td>\n",
              "      <td>0.0</td>\n",
              "      <td>55.0</td>\n",
              "      <td>100.0</td>\n",
              "      <td>18.0</td>\n",
              "      <td>36.000000</td>\n",
              "      <td>135.0</td>\n",
              "      <td>8.699219</td>\n",
              "      <td>0.799927</td>\n",
              "      <td>892.0</td>\n",
              "      <td>0</td>\n",
              "    </tr>\n",
              "    <tr>\n",
              "      <th>4</th>\n",
              "      <td>71.794983</td>\n",
              "      <td>0.0</td>\n",
              "      <td>1.0</td>\n",
              "      <td>1.0</td>\n",
              "      <td>0.0</td>\n",
              "      <td>0.0</td>\n",
              "      <td>0.0</td>\n",
              "      <td>65.0</td>\n",
              "      <td>135.0</td>\n",
              "      <td>40.0</td>\n",
              "      <td>38.593750</td>\n",
              "      <td>146.0</td>\n",
              "      <td>0.099991</td>\n",
              "      <td>0.399963</td>\n",
              "      <td>7.0</td>\n",
              "      <td>1</td>\n",
              "    </tr>\n",
              "  </tbody>\n",
              "</table>\n",
              "</div>\n",
              "      <button class=\"colab-df-convert\" onclick=\"convertToInteractive('df-ce65463c-660e-4e35-977b-53b5e989b784')\"\n",
              "              title=\"Convert this dataframe to an interactive table.\"\n",
              "              style=\"display:none;\">\n",
              "        \n",
              "  <svg xmlns=\"http://www.w3.org/2000/svg\" height=\"24px\"viewBox=\"0 0 24 24\"\n",
              "       width=\"24px\">\n",
              "    <path d=\"M0 0h24v24H0V0z\" fill=\"none\"/>\n",
              "    <path d=\"M18.56 5.44l.94 2.06.94-2.06 2.06-.94-2.06-.94-.94-2.06-.94 2.06-2.06.94zm-11 1L8.5 8.5l.94-2.06 2.06-.94-2.06-.94L8.5 2.5l-.94 2.06-2.06.94zm10 10l.94 2.06.94-2.06 2.06-.94-2.06-.94-.94-2.06-.94 2.06-2.06.94z\"/><path d=\"M17.41 7.96l-1.37-1.37c-.4-.4-.92-.59-1.43-.59-.52 0-1.04.2-1.43.59L10.3 9.45l-7.72 7.72c-.78.78-.78 2.05 0 2.83L4 21.41c.39.39.9.59 1.41.59.51 0 1.02-.2 1.41-.59l7.78-7.78 2.81-2.81c.8-.78.8-2.07 0-2.86zM5.41 20L4 18.59l7.72-7.72 1.47 1.35L5.41 20z\"/>\n",
              "  </svg>\n",
              "      </button>\n",
              "      \n",
              "  <style>\n",
              "    .colab-df-container {\n",
              "      display:flex;\n",
              "      flex-wrap:wrap;\n",
              "      gap: 12px;\n",
              "    }\n",
              "\n",
              "    .colab-df-convert {\n",
              "      background-color: #E8F0FE;\n",
              "      border: none;\n",
              "      border-radius: 50%;\n",
              "      cursor: pointer;\n",
              "      display: none;\n",
              "      fill: #1967D2;\n",
              "      height: 32px;\n",
              "      padding: 0 0 0 0;\n",
              "      width: 32px;\n",
              "    }\n",
              "\n",
              "    .colab-df-convert:hover {\n",
              "      background-color: #E2EBFA;\n",
              "      box-shadow: 0px 1px 2px rgba(60, 64, 67, 0.3), 0px 1px 3px 1px rgba(60, 64, 67, 0.15);\n",
              "      fill: #174EA6;\n",
              "    }\n",
              "\n",
              "    [theme=dark] .colab-df-convert {\n",
              "      background-color: #3B4455;\n",
              "      fill: #D2E3FC;\n",
              "    }\n",
              "\n",
              "    [theme=dark] .colab-df-convert:hover {\n",
              "      background-color: #434B5C;\n",
              "      box-shadow: 0px 1px 3px 1px rgba(0, 0, 0, 0.15);\n",
              "      filter: drop-shadow(0px 1px 2px rgba(0, 0, 0, 0.3));\n",
              "      fill: #FFFFFF;\n",
              "    }\n",
              "  </style>\n",
              "\n",
              "      <script>\n",
              "        const buttonEl =\n",
              "          document.querySelector('#df-ce65463c-660e-4e35-977b-53b5e989b784 button.colab-df-convert');\n",
              "        buttonEl.style.display =\n",
              "          google.colab.kernel.accessAllowed ? 'block' : 'none';\n",
              "\n",
              "        async function convertToInteractive(key) {\n",
              "          const element = document.querySelector('#df-ce65463c-660e-4e35-977b-53b5e989b784');\n",
              "          const dataTable =\n",
              "            await google.colab.kernel.invokeFunction('convertToInteractive',\n",
              "                                                     [key], {});\n",
              "          if (!dataTable) return;\n",
              "\n",
              "          const docLinkHtml = 'Like what you see? Visit the ' +\n",
              "            '<a target=\"_blank\" href=https://colab.research.google.com/notebooks/data_table.ipynb>data table notebook</a>'\n",
              "            + ' to learn more about interactive tables.';\n",
              "          element.innerHTML = '';\n",
              "          dataTable['output_type'] = 'display_data';\n",
              "          await google.colab.output.renderOutput(dataTable, element);\n",
              "          const docLink = document.createElement('div');\n",
              "          docLink.innerHTML = docLinkHtml;\n",
              "          element.appendChild(docLink);\n",
              "        }\n",
              "      </script>\n",
              "    </div>\n",
              "  </div>\n",
              "  "
            ]
          },
          "metadata": {},
          "execution_count": 9
        }
      ]
    },
    {
      "cell_type": "code",
      "source": [
        "num_durations = 20\n",
        "scheme = 'quantiles'\n",
        "labtrans = LogisticHazard.label_transform(num_durations, scheme)\n",
        "\n",
        "get_target = lambda df: (df['duration'].values, df['event'].values)\n",
        "y_train = labtrans.fit_transform(*get_target(data))\n",
        "\n",
        "data[\"duration\"] = y_train[0]"
      ],
      "metadata": {
        "id": "ua0sa5njhaVI"
      },
      "execution_count": 10,
      "outputs": []
    },
    {
      "cell_type": "code",
      "source": [
        "data.head()"
      ],
      "metadata": {
        "colab": {
          "base_uri": "https://localhost:8080/",
          "height": 206
        },
        "id": "okXPl5uxb_5D",
        "outputId": "8f339b49-6e44-4f70-846a-abb526a6b311"
      },
      "execution_count": 11,
      "outputs": [
        {
          "output_type": "execute_result",
          "data": {
            "text/plain": [
              "          x0   x1   x2   x3   x4   x5   x6     x7     x8    x9        x10  \\\n",
              "0  82.709961  1.0  2.0  1.0  0.0  0.0  0.0  160.0   55.0  16.0  38.195309   \n",
              "1  79.660950  1.0  0.0  1.0  0.0  0.0  1.0   54.0   67.0  16.0  38.000000   \n",
              "2  23.399990  1.0  2.0  3.0  0.0  0.0  1.0   87.0  144.0  45.0  37.296879   \n",
              "3  53.075989  1.0  4.0  3.0  0.0  0.0  0.0   55.0  100.0  18.0  36.000000   \n",
              "4  71.794983  0.0  1.0  1.0  0.0  0.0  0.0   65.0  135.0  40.0  38.593750   \n",
              "\n",
              "     x11        x12       x13  duration  event  \n",
              "0  142.0  19.000000  1.099854         7      1  \n",
              "1  142.0  10.000000  0.899902        18      0  \n",
              "2  130.0   5.199219  1.199951        11      1  \n",
              "3  135.0   8.699219  0.799927        16      0  \n",
              "4  146.0   0.099991  0.399963         3      1  "
            ],
            "text/html": [
              "\n",
              "  <div id=\"df-4da81548-71bb-4f8a-a608-25070598a86d\">\n",
              "    <div class=\"colab-df-container\">\n",
              "      <div>\n",
              "<style scoped>\n",
              "    .dataframe tbody tr th:only-of-type {\n",
              "        vertical-align: middle;\n",
              "    }\n",
              "\n",
              "    .dataframe tbody tr th {\n",
              "        vertical-align: top;\n",
              "    }\n",
              "\n",
              "    .dataframe thead th {\n",
              "        text-align: right;\n",
              "    }\n",
              "</style>\n",
              "<table border=\"1\" class=\"dataframe\">\n",
              "  <thead>\n",
              "    <tr style=\"text-align: right;\">\n",
              "      <th></th>\n",
              "      <th>x0</th>\n",
              "      <th>x1</th>\n",
              "      <th>x2</th>\n",
              "      <th>x3</th>\n",
              "      <th>x4</th>\n",
              "      <th>x5</th>\n",
              "      <th>x6</th>\n",
              "      <th>x7</th>\n",
              "      <th>x8</th>\n",
              "      <th>x9</th>\n",
              "      <th>x10</th>\n",
              "      <th>x11</th>\n",
              "      <th>x12</th>\n",
              "      <th>x13</th>\n",
              "      <th>duration</th>\n",
              "      <th>event</th>\n",
              "    </tr>\n",
              "  </thead>\n",
              "  <tbody>\n",
              "    <tr>\n",
              "      <th>0</th>\n",
              "      <td>82.709961</td>\n",
              "      <td>1.0</td>\n",
              "      <td>2.0</td>\n",
              "      <td>1.0</td>\n",
              "      <td>0.0</td>\n",
              "      <td>0.0</td>\n",
              "      <td>0.0</td>\n",
              "      <td>160.0</td>\n",
              "      <td>55.0</td>\n",
              "      <td>16.0</td>\n",
              "      <td>38.195309</td>\n",
              "      <td>142.0</td>\n",
              "      <td>19.000000</td>\n",
              "      <td>1.099854</td>\n",
              "      <td>7</td>\n",
              "      <td>1</td>\n",
              "    </tr>\n",
              "    <tr>\n",
              "      <th>1</th>\n",
              "      <td>79.660950</td>\n",
              "      <td>1.0</td>\n",
              "      <td>0.0</td>\n",
              "      <td>1.0</td>\n",
              "      <td>0.0</td>\n",
              "      <td>0.0</td>\n",
              "      <td>1.0</td>\n",
              "      <td>54.0</td>\n",
              "      <td>67.0</td>\n",
              "      <td>16.0</td>\n",
              "      <td>38.000000</td>\n",
              "      <td>142.0</td>\n",
              "      <td>10.000000</td>\n",
              "      <td>0.899902</td>\n",
              "      <td>18</td>\n",
              "      <td>0</td>\n",
              "    </tr>\n",
              "    <tr>\n",
              "      <th>2</th>\n",
              "      <td>23.399990</td>\n",
              "      <td>1.0</td>\n",
              "      <td>2.0</td>\n",
              "      <td>3.0</td>\n",
              "      <td>0.0</td>\n",
              "      <td>0.0</td>\n",
              "      <td>1.0</td>\n",
              "      <td>87.0</td>\n",
              "      <td>144.0</td>\n",
              "      <td>45.0</td>\n",
              "      <td>37.296879</td>\n",
              "      <td>130.0</td>\n",
              "      <td>5.199219</td>\n",
              "      <td>1.199951</td>\n",
              "      <td>11</td>\n",
              "      <td>1</td>\n",
              "    </tr>\n",
              "    <tr>\n",
              "      <th>3</th>\n",
              "      <td>53.075989</td>\n",
              "      <td>1.0</td>\n",
              "      <td>4.0</td>\n",
              "      <td>3.0</td>\n",
              "      <td>0.0</td>\n",
              "      <td>0.0</td>\n",
              "      <td>0.0</td>\n",
              "      <td>55.0</td>\n",
              "      <td>100.0</td>\n",
              "      <td>18.0</td>\n",
              "      <td>36.000000</td>\n",
              "      <td>135.0</td>\n",
              "      <td>8.699219</td>\n",
              "      <td>0.799927</td>\n",
              "      <td>16</td>\n",
              "      <td>0</td>\n",
              "    </tr>\n",
              "    <tr>\n",
              "      <th>4</th>\n",
              "      <td>71.794983</td>\n",
              "      <td>0.0</td>\n",
              "      <td>1.0</td>\n",
              "      <td>1.0</td>\n",
              "      <td>0.0</td>\n",
              "      <td>0.0</td>\n",
              "      <td>0.0</td>\n",
              "      <td>65.0</td>\n",
              "      <td>135.0</td>\n",
              "      <td>40.0</td>\n",
              "      <td>38.593750</td>\n",
              "      <td>146.0</td>\n",
              "      <td>0.099991</td>\n",
              "      <td>0.399963</td>\n",
              "      <td>3</td>\n",
              "      <td>1</td>\n",
              "    </tr>\n",
              "  </tbody>\n",
              "</table>\n",
              "</div>\n",
              "      <button class=\"colab-df-convert\" onclick=\"convertToInteractive('df-4da81548-71bb-4f8a-a608-25070598a86d')\"\n",
              "              title=\"Convert this dataframe to an interactive table.\"\n",
              "              style=\"display:none;\">\n",
              "        \n",
              "  <svg xmlns=\"http://www.w3.org/2000/svg\" height=\"24px\"viewBox=\"0 0 24 24\"\n",
              "       width=\"24px\">\n",
              "    <path d=\"M0 0h24v24H0V0z\" fill=\"none\"/>\n",
              "    <path d=\"M18.56 5.44l.94 2.06.94-2.06 2.06-.94-2.06-.94-.94-2.06-.94 2.06-2.06.94zm-11 1L8.5 8.5l.94-2.06 2.06-.94-2.06-.94L8.5 2.5l-.94 2.06-2.06.94zm10 10l.94 2.06.94-2.06 2.06-.94-2.06-.94-.94-2.06-.94 2.06-2.06.94z\"/><path d=\"M17.41 7.96l-1.37-1.37c-.4-.4-.92-.59-1.43-.59-.52 0-1.04.2-1.43.59L10.3 9.45l-7.72 7.72c-.78.78-.78 2.05 0 2.83L4 21.41c.39.39.9.59 1.41.59.51 0 1.02-.2 1.41-.59l7.78-7.78 2.81-2.81c.8-.78.8-2.07 0-2.86zM5.41 20L4 18.59l7.72-7.72 1.47 1.35L5.41 20z\"/>\n",
              "  </svg>\n",
              "      </button>\n",
              "      \n",
              "  <style>\n",
              "    .colab-df-container {\n",
              "      display:flex;\n",
              "      flex-wrap:wrap;\n",
              "      gap: 12px;\n",
              "    }\n",
              "\n",
              "    .colab-df-convert {\n",
              "      background-color: #E8F0FE;\n",
              "      border: none;\n",
              "      border-radius: 50%;\n",
              "      cursor: pointer;\n",
              "      display: none;\n",
              "      fill: #1967D2;\n",
              "      height: 32px;\n",
              "      padding: 0 0 0 0;\n",
              "      width: 32px;\n",
              "    }\n",
              "\n",
              "    .colab-df-convert:hover {\n",
              "      background-color: #E2EBFA;\n",
              "      box-shadow: 0px 1px 2px rgba(60, 64, 67, 0.3), 0px 1px 3px 1px rgba(60, 64, 67, 0.15);\n",
              "      fill: #174EA6;\n",
              "    }\n",
              "\n",
              "    [theme=dark] .colab-df-convert {\n",
              "      background-color: #3B4455;\n",
              "      fill: #D2E3FC;\n",
              "    }\n",
              "\n",
              "    [theme=dark] .colab-df-convert:hover {\n",
              "      background-color: #434B5C;\n",
              "      box-shadow: 0px 1px 3px 1px rgba(0, 0, 0, 0.15);\n",
              "      filter: drop-shadow(0px 1px 2px rgba(0, 0, 0, 0.3));\n",
              "      fill: #FFFFFF;\n",
              "    }\n",
              "  </style>\n",
              "\n",
              "      <script>\n",
              "        const buttonEl =\n",
              "          document.querySelector('#df-4da81548-71bb-4f8a-a608-25070598a86d button.colab-df-convert');\n",
              "        buttonEl.style.display =\n",
              "          google.colab.kernel.accessAllowed ? 'block' : 'none';\n",
              "\n",
              "        async function convertToInteractive(key) {\n",
              "          const element = document.querySelector('#df-4da81548-71bb-4f8a-a608-25070598a86d');\n",
              "          const dataTable =\n",
              "            await google.colab.kernel.invokeFunction('convertToInteractive',\n",
              "                                                     [key], {});\n",
              "          if (!dataTable) return;\n",
              "\n",
              "          const docLinkHtml = 'Like what you see? Visit the ' +\n",
              "            '<a target=\"_blank\" href=https://colab.research.google.com/notebooks/data_table.ipynb>data table notebook</a>'\n",
              "            + ' to learn more about interactive tables.';\n",
              "          element.innerHTML = '';\n",
              "          dataTable['output_type'] = 'display_data';\n",
              "          await google.colab.output.renderOutput(dataTable, element);\n",
              "          const docLink = document.createElement('div');\n",
              "          docLink.innerHTML = docLinkHtml;\n",
              "          element.appendChild(docLink);\n",
              "        }\n",
              "      </script>\n",
              "    </div>\n",
              "  </div>\n",
              "  "
            ]
          },
          "metadata": {},
          "execution_count": 11
        }
      ]
    },
    {
      "cell_type": "markdown",
      "source": [
        "You can see the boundaries for each time interval by `labtrans.cuts`."
      ],
      "metadata": {
        "id": "78BqUlBn7qij"
      }
    },
    {
      "cell_type": "code",
      "source": [
        "labtrans.cuts"
      ],
      "metadata": {
        "colab": {
          "base_uri": "https://localhost:8080/"
        },
        "id": "ASegkRb27NTU",
        "outputId": "8d0ba477-ee06-4653-daa9-d2f06b09027c"
      },
      "execution_count": 12,
      "outputs": [
        {
          "output_type": "execute_result",
          "data": {
            "text/plain": [
              "array([   0.,    3.,    5.,    8.,   11.,   16.,   23.,   32.,   46.,\n",
              "         66.,   95.,  138.,  195.,  268.,  380.,  533.,  754., 1027.,\n",
              "       1387., 2029.], dtype=float32)"
            ]
          },
          "metadata": {},
          "execution_count": 12
        }
      ]
    },
    {
      "cell_type": "code",
      "source": [
        "# Here ratio means that of prior data, which means 10% of the data is local data.\n",
        "ratio = 0.9\n",
        "\n",
        "df_prior = data.sample(frac = ratio)\n",
        "df_local = data.drop(df_prior.index)\n",
        "\n",
        "df_local = df_local.reset_index(drop = True)"
      ],
      "metadata": {
        "id": "YP39579Wlois"
      },
      "execution_count": 13,
      "outputs": []
    },
    {
      "cell_type": "markdown",
      "source": [
        "# Train Prior Model"
      ],
      "metadata": {
        "id": "MIKM9mIw9JK8"
      }
    },
    {
      "cell_type": "markdown",
      "source": [
        "Firstly we need to train a prior model, a NN with prior data as input and 20% of them is used for validation (early stopping). Note that we have categorical but not binary features in SUPPORT, wherer we need to make sure they are not affected by standardization. Moreover, we need to transfer them to `int64`. "
      ],
      "metadata": {
        "id": "j4sXlqy99SH7"
      }
    },
    {
      "cell_type": "code",
      "source": [
        "# Only for simplicity and unity, nvm.\n",
        "\n",
        "data_prior = df_prior.copy()"
      ],
      "metadata": {
        "id": "YnWnRpXS2Yn8"
      },
      "execution_count": 96,
      "outputs": []
    },
    {
      "cell_type": "code",
      "source": [
        "data_prior_val = data_prior.sample(frac=0.2)\n",
        "data_prior_train = data_prior.drop(data_prior_val.index)"
      ],
      "metadata": {
        "id": "2e5vih-g-ULi"
      },
      "execution_count": 97,
      "outputs": []
    },
    {
      "cell_type": "code",
      "source": [
        "# There are 3 kinds of features: continuous, binary and categorical. Each one requires different ways to preprocess\n",
        "\n",
        "cols_standardize =  ['x0', 'x7', 'x8', 'x9', 'x10', 'x11', 'x12', 'x13']\n",
        "cols_leave = ['x1', 'x4', 'x5']\n",
        "cols_categorical =  ['x2', 'x3', 'x6']\n",
        "\n",
        "standardize = [([col], StandardScaler()) for col in cols_standardize]\n",
        "leave = [(col, None) for col in cols_leave]\n",
        "categorical = [(col, OrderedCategoricalLong()) for col in cols_categorical] # we need a separate mapper to ensure the data type 'int64'\n",
        "\n",
        "x_mapper_float = DataFrameMapper(standardize + leave)\n",
        "x_mapper_long = DataFrameMapper(categorical)  \n",
        "\n",
        "x_fit_transform = lambda df: tt.tuplefy(x_mapper_float.fit_transform(df), x_mapper_long.fit_transform(df))\n",
        "x_transform = lambda df: tt.tuplefy(x_mapper_float.transform(df), x_mapper_long.transform(df))\n",
        "\n",
        "x_train = x_fit_transform(data_prior_train)\n",
        "x_val = x_transform(data_prior_val)"
      ],
      "metadata": {
        "id": "Meq1l5ag5pUb"
      },
      "execution_count": 98,
      "outputs": []
    },
    {
      "cell_type": "code",
      "source": [
        "# The data type for event times should be float32, DO NOT CHANGE THAT!\n",
        "\n",
        "get_target = lambda df: (df['duration'].values, np.array(df['event'].values, dtype = np.float32))\n",
        "y_train = get_target(data_prior_train)\n",
        "y_val = get_target(data_prior_val)"
      ],
      "metadata": {
        "id": "pNIgw1uFbPEw"
      },
      "execution_count": 99,
      "outputs": []
    },
    {
      "cell_type": "markdown",
      "source": [
        "`train` and `val` are training and validation data that used for prior model training."
      ],
      "metadata": {
        "id": "swjv_HpAfMBE"
      }
    },
    {
      "cell_type": "code",
      "source": [
        "train = tt.tuplefy(x_train, y_train)\n",
        "val = tt.tuplefy(x_val, y_val)"
      ],
      "metadata": {
        "id": "eLvVD_LNaC5h"
      },
      "execution_count": 100,
      "outputs": []
    },
    {
      "cell_type": "markdown",
      "source": [
        "For the next step we need to build our deep learning model. Due to the existence of categorical features, we use embedding to do feature transformation for these features. The transformed features will be combined into other features and then served as input for main fully-connected neural network model.\n",
        "\n",
        "![Graph Illustration of Embedding.jpg](data:image/jpeg;base64,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)\n",
        "\n",
        "We will also store `num_embeddings` and `embedding_dims` for the usage of output of this model when applying it on the local data."
      ],
      "metadata": {
        "id": "N2WHYcjFBRVy"
      }
    },
    {
      "cell_type": "code",
      "source": [
        "num_embeddings = x_train[1].max(0) + 1\n",
        "embedding_dims = num_embeddings // 2\n",
        "\n",
        "num_embeddings, embedding_dims"
      ],
      "metadata": {
        "colab": {
          "base_uri": "https://localhost:8080/"
        },
        "outputId": "f9737f4c-3f47-45f9-8d60-f6a03d066e2f",
        "id": "VG5MBoprVMtZ"
      },
      "execution_count": 101,
      "outputs": [
        {
          "output_type": "execute_result",
          "data": {
            "text/plain": [
              "(array([8, 7, 4]), array([4, 3, 2]))"
            ]
          },
          "metadata": {},
          "execution_count": 101
        }
      ]
    },
    {
      "cell_type": "code",
      "source": [
        "in_features = x_train[0].shape[1]\n",
        "out_features = labtrans.out_features\n",
        "num_nodes = [32, 32, 32]\n",
        "batch_norm = True\n",
        "dropout = 0.2\n",
        "\n",
        "net = tt.practical.MixedInputMLP(in_features, num_embeddings, embedding_dims,\n",
        "                                 num_nodes, out_features, batch_norm, dropout)\n",
        "\n",
        "net"
      ],
      "metadata": {
        "colab": {
          "base_uri": "https://localhost:8080/"
        },
        "outputId": "8438cb52-517c-4769-df66-459d80275050",
        "id": "fLAZLfdBVMta"
      },
      "execution_count": 102,
      "outputs": [
        {
          "output_type": "execute_result",
          "data": {
            "text/plain": [
              "MixedInputMLP(\n",
              "  (embeddings): EntityEmbeddings(\n",
              "    (embeddings): ModuleList(\n",
              "      (0): Embedding(8, 4)\n",
              "      (1): Embedding(7, 3)\n",
              "      (2): Embedding(4, 2)\n",
              "    )\n",
              "  )\n",
              "  (mlp): MLPVanilla(\n",
              "    (net): Sequential(\n",
              "      (0): DenseVanillaBlock(\n",
              "        (linear): Linear(in_features=20, out_features=32, bias=True)\n",
              "        (activation): ReLU()\n",
              "        (batch_norm): BatchNorm1d(32, eps=1e-05, momentum=0.1, affine=True, track_running_stats=True)\n",
              "        (dropout): Dropout(p=0.2, inplace=False)\n",
              "      )\n",
              "      (1): DenseVanillaBlock(\n",
              "        (linear): Linear(in_features=32, out_features=32, bias=True)\n",
              "        (activation): ReLU()\n",
              "        (batch_norm): BatchNorm1d(32, eps=1e-05, momentum=0.1, affine=True, track_running_stats=True)\n",
              "        (dropout): Dropout(p=0.2, inplace=False)\n",
              "      )\n",
              "      (2): DenseVanillaBlock(\n",
              "        (linear): Linear(in_features=32, out_features=32, bias=True)\n",
              "        (activation): ReLU()\n",
              "        (batch_norm): BatchNorm1d(32, eps=1e-05, momentum=0.1, affine=True, track_running_stats=True)\n",
              "        (dropout): Dropout(p=0.2, inplace=False)\n",
              "      )\n",
              "      (3): Linear(in_features=32, out_features=20, bias=True)\n",
              "    )\n",
              "  )\n",
              ")"
            ]
          },
          "metadata": {},
          "execution_count": 102
        }
      ]
    },
    {
      "cell_type": "code",
      "source": [
        "optimizer = tt.optim.AdamWR(decoupled_weight_decay=0.01, cycle_eta_multiplier=0.8,\n",
        "                            cycle_multiplier=2)\n",
        "model = LogisticHazard(net, optimizer, duration_index=labtrans.cuts)\n",
        "model.optimizer.set_lr(0.01)\n",
        "\n",
        "batch_size = 256"
      ],
      "metadata": {
        "id": "0euqwC3TZuwI"
      },
      "execution_count": 103,
      "outputs": []
    },
    {
      "cell_type": "code",
      "source": [
        "# For early stopping, we will use EarlyStoppingCycle which work in the same manner as EarlyStopping but will stop at the end of the cycle if the current best model was not obtained in the current cycle.\n",
        "\n",
        "epochs = 512\n",
        "callbacks = [tt.cb.EarlyStoppingCycle()]\n",
        "verbose = False # set to True if you want to print out logs"
      ],
      "metadata": {
        "id": "dnFxZdXFVMtb"
      },
      "execution_count": 104,
      "outputs": []
    },
    {
      "cell_type": "code",
      "source": [
        "%%time\n",
        "log = model.fit(x_train, y_train, batch_size, epochs, callbacks, verbose, val_data=val)"
      ],
      "metadata": {
        "id": "V7jn30V0VMtb"
      },
      "execution_count": 105,
      "outputs": []
    },
    {
      "cell_type": "markdown",
      "source": [
        "# Combine Prior Information for Model Training"
      ],
      "metadata": {
        "id": "H1yctSqWc4yP"
      }
    },
    {
      "cell_type": "markdown",
      "source": [
        "Similarly, we sample out training, validation and test data from local data. Note that we need to compute `combined_info` and send it into the model to compute our loss function. \n",
        "\n",
        "The data preprocessing parts for local data is the same as what we have done for prior data."
      ],
      "metadata": {
        "id": "ZQmiuuXvOQHz"
      }
    },
    {
      "cell_type": "code",
      "source": [
        "df_test = df_local.sample(frac=0.2)\n",
        "df_train = df_local.drop(df_test.index)\n",
        "df_val = df_train.sample(frac=0.2)\n",
        "df_train = df_train.drop(df_val.index)"
      ],
      "metadata": {
        "id": "BZtbrkPgc9wE"
      },
      "execution_count": 106,
      "outputs": []
    },
    {
      "cell_type": "code",
      "source": [
        "cols_standardize =  ['x0', 'x7', 'x8', 'x9', 'x10', 'x11', 'x12', 'x13']\n",
        "cols_leave = ['x1', 'x4', 'x5']\n",
        "cols_categorical =  ['x2', 'x3', 'x6']\n",
        "\n",
        "standardize = [([col], StandardScaler()) for col in cols_standardize]\n",
        "leave = [(col, None) for col in cols_leave]\n",
        "categorical = [(col, OrderedCategoricalLong()) for col in cols_categorical]\n",
        "\n",
        "x_mapper_float = DataFrameMapper(standardize + leave)\n",
        "x_mapper_long = DataFrameMapper(categorical)  # we need a separate mapper to ensure the data type 'int64'\n",
        "\n",
        "x_fit_transform = lambda df: tt.tuplefy(x_mapper_float.fit_transform(df), x_mapper_long.fit_transform(df))\n",
        "x_transform = lambda df: tt.tuplefy(x_mapper_float.transform(df), x_mapper_long.transform(df))\n",
        "\n",
        "x_train = x_fit_transform(df_train)\n",
        "x_val = x_transform(df_val)\n",
        "x_test = x_transform(df_test)"
      ],
      "metadata": {
        "id": "HVsOL7jawMkk"
      },
      "execution_count": 107,
      "outputs": []
    },
    {
      "cell_type": "markdown",
      "source": [
        "`model.predict_hazard` is used for generating prior information. The number of columns should be the same as the number of time intervals (`num_durations`)."
      ],
      "metadata": {
        "id": "NiaIoeohOcFy"
      }
    },
    {
      "cell_type": "code",
      "source": [
        "prior_info_train = model.predict_hazard(x_train)\n",
        "prior_info_val = model.predict_hazard(x_val)\n",
        "\n",
        "data_local_train_index = np.array(df_train.index)\n",
        "data_local_val_index = np.array(df_val.index)\n",
        "\n",
        "time = df_local[\"duration\"]\n",
        "time = np.array(time).reshape(time.shape[0], -1)\n",
        "zeros = np.zeros((time.shape[0], num_durations)) # 21 - 1 = 20\n",
        "np.put_along_axis(zeros, time, np.array(df_local[\"event\"]).reshape(-1, 1), axis=1)\n",
        "zeros\n",
        "\n",
        "zeros_train = zeros[data_local_train_index]\n",
        "zeros_val = zeros[data_local_val_index]\n",
        "\n",
        "eta = 20\n",
        "combined_info_train = (zeros_train + eta * prior_info_train) / (1 + eta)\n",
        "combined_info_val = (zeros_val + eta * prior_info_val) / (1 + eta)"
      ],
      "metadata": {
        "id": "GuoJPQ6R9bKA"
      },
      "execution_count": 108,
      "outputs": []
    },
    {
      "cell_type": "markdown",
      "source": [
        "We need to train a model for local data, but note that the embedding structure should be the same as prior model, using `num_embeddings` and `embedding_dims` that defined before."
      ],
      "metadata": {
        "id": "my4BuX7CaOVi"
      }
    },
    {
      "cell_type": "code",
      "source": [
        "in_features = x_train[0].shape[1]\n",
        "out_features = labtrans.out_features\n",
        "num_nodes = [32, 32, 32]\n",
        "batch_norm = True\n",
        "dropout = 0.2\n",
        "\n",
        "net = tt.practical.MixedInputMLP(in_features, num_embeddings, embedding_dims,\n",
        "                                 num_nodes, out_features, batch_norm, dropout)\n",
        "\n",
        "net"
      ],
      "metadata": {
        "colab": {
          "base_uri": "https://localhost:8080/"
        },
        "outputId": "7ba1608c-2d6a-47d6-ba82-2b6b7610d071",
        "id": "y5_ovXar0zPt"
      },
      "execution_count": 114,
      "outputs": [
        {
          "output_type": "execute_result",
          "data": {
            "text/plain": [
              "MixedInputMLP(\n",
              "  (embeddings): EntityEmbeddings(\n",
              "    (embeddings): ModuleList(\n",
              "      (0): Embedding(8, 4)\n",
              "      (1): Embedding(7, 3)\n",
              "      (2): Embedding(4, 2)\n",
              "    )\n",
              "  )\n",
              "  (mlp): MLPVanilla(\n",
              "    (net): Sequential(\n",
              "      (0): DenseVanillaBlock(\n",
              "        (linear): Linear(in_features=20, out_features=32, bias=True)\n",
              "        (activation): ReLU()\n",
              "        (batch_norm): BatchNorm1d(32, eps=1e-05, momentum=0.1, affine=True, track_running_stats=True)\n",
              "        (dropout): Dropout(p=0.2, inplace=False)\n",
              "      )\n",
              "      (1): DenseVanillaBlock(\n",
              "        (linear): Linear(in_features=32, out_features=32, bias=True)\n",
              "        (activation): ReLU()\n",
              "        (batch_norm): BatchNorm1d(32, eps=1e-05, momentum=0.1, affine=True, track_running_stats=True)\n",
              "        (dropout): Dropout(p=0.2, inplace=False)\n",
              "      )\n",
              "      (2): DenseVanillaBlock(\n",
              "        (linear): Linear(in_features=32, out_features=32, bias=True)\n",
              "        (activation): ReLU()\n",
              "        (batch_norm): BatchNorm1d(32, eps=1e-05, momentum=0.1, affine=True, track_running_stats=True)\n",
              "        (dropout): Dropout(p=0.2, inplace=False)\n",
              "      )\n",
              "      (3): Linear(in_features=32, out_features=20, bias=True)\n",
              "    )\n",
              "  )\n",
              ")"
            ]
          },
          "metadata": {},
          "execution_count": 114
        }
      ]
    },
    {
      "cell_type": "code",
      "source": [
        "n_train = df_train.shape[0]\n",
        "n_val = df_val.shape[0]\n",
        "\n",
        "y_train = (combined_info_train, df_train['duration'].values, df_train['event'].values)\n",
        "y_val = (combined_info_val, df_val['duration'].values, df_val['event'].values)\n",
        "\n",
        "train = tt.tuplefy(x_train, y_train)\n",
        "val = tt.tuplefy(x_val, y_val)\n",
        "\n",
        "# durations_test, events_test are used for evaluation\n",
        "durations_test, events_test = get_target(df_test)"
      ],
      "metadata": {
        "id": "BafWmTUZQgly"
      },
      "execution_count": 115,
      "outputs": []
    },
    {
      "cell_type": "markdown",
      "source": [
        "We need to define a new loss for our model."
      ],
      "metadata": {
        "id": "8x4Rl_xykTKn"
      }
    },
    {
      "cell_type": "code",
      "source": [
        "class NewlyDefinedLoss(nn.Module):\n",
        "    def __init__(self):\n",
        "        super().__init__()\n",
        "\n",
        "    def newly_defined_loss(self, phi, combined_info, idx_durations, events):\n",
        "\n",
        "      if events.dtype is torch.bool:\n",
        "          events = events.float()\n",
        "      events = events.view(-1, 1)\n",
        "      idx_durations = idx_durations.view(-1, 1)\n",
        "      # y_bce = torch.zeros_like(phi).scatter(1, idx_durations, events)  # TODO: Data Expansion!\n",
        "      bce = F.binary_cross_entropy_with_logits(phi, combined_info, reduction='none')\n",
        "      loss = bce.cumsum(1).gather(1, idx_durations).view(-1)\n",
        "      return loss.mean()\n",
        "        \n",
        "    def forward(self, phi, combined_info, idx_durations, events):\n",
        "        return self.newly_defined_loss(phi, combined_info, idx_durations, events)\n",
        "\n",
        "loss = NewlyDefinedLoss()"
      ],
      "metadata": {
        "id": "DAjlg__pkSCn"
      },
      "execution_count": 122,
      "outputs": []
    },
    {
      "cell_type": "code",
      "source": [
        "optimizer = tt.optim.AdamWR(decoupled_weight_decay=0.01, cycle_eta_multiplier=0.8,\n",
        "                            cycle_multiplier=2)\n",
        "model = LogisticHazard(net, optimizer, loss = loss)\n",
        "\n",
        "batch_size = 100\n",
        "\n",
        "epochs = 300\n",
        "callbacks = [tt.cb.EarlyStoppingCycle()]\n",
        "verbose = False # set to True if you want printout\n",
        "\n",
        "model.optimizer.set_lr(0.01)"
      ],
      "metadata": {
        "id": "JCqdlT6bIC4m"
      },
      "execution_count": 123,
      "outputs": []
    },
    {
      "cell_type": "code",
      "source": [
        "%%time\n",
        "log = model.fit(x_train, y_train, batch_size, epochs, callbacks, verbose,\n",
        "                val_data=val)"
      ],
      "metadata": {
        "colab": {
          "base_uri": "https://localhost:8080/"
        },
        "outputId": "54524ed0-6a3b-4c0b-d61c-be4a84188362",
        "id": "qR6OpK4i0zPv"
      },
      "execution_count": 124,
      "outputs": [
        {
          "output_type": "stream",
          "name": "stdout",
          "text": [
            "0:\t[0s / 0s],\t\ttrain_loss: 8.6202,\tval_loss: 8.3971\n",
            "1:\t[0s / 0s],\t\ttrain_loss: 8.0556,\tval_loss: 7.7086\n",
            "2:\t[0s / 0s],\t\ttrain_loss: 7.6684,\tval_loss: 7.4935\n",
            "3:\t[0s / 0s],\t\ttrain_loss: 7.2946,\tval_loss: 6.6868\n",
            "4:\t[0s / 0s],\t\ttrain_loss: 6.4858,\tval_loss: 6.0126\n",
            "5:\t[0s / 0s],\t\ttrain_loss: 5.9722,\tval_loss: 5.7565\n",
            "6:\t[0s / 0s],\t\ttrain_loss: 5.7905,\tval_loss: 5.7470\n",
            "7:\t[0s / 0s],\t\ttrain_loss: 5.4189,\tval_loss: 4.9280\n",
            "8:\t[0s / 0s],\t\ttrain_loss: 4.5554,\tval_loss: 4.1488\n",
            "9:\t[0s / 0s],\t\ttrain_loss: 3.9877,\tval_loss: 3.6424\n",
            "10:\t[0s / 0s],\t\ttrain_loss: 3.4676,\tval_loss: 3.3035\n",
            "11:\t[0s / 0s],\t\ttrain_loss: 3.2801,\tval_loss: 3.1168\n",
            "12:\t[0s / 0s],\t\ttrain_loss: 3.1841,\tval_loss: 3.0412\n",
            "13:\t[0s / 0s],\t\ttrain_loss: 3.1579,\tval_loss: 3.0038\n",
            "14:\t[0s / 1s],\t\ttrain_loss: 3.0669,\tval_loss: 2.9962\n",
            "15:\t[0s / 1s],\t\ttrain_loss: 2.9958,\tval_loss: 2.8355\n",
            "16:\t[0s / 1s],\t\ttrain_loss: 2.8188,\tval_loss: 2.7135\n",
            "17:\t[0s / 1s],\t\ttrain_loss: 2.7270,\tval_loss: 2.6336\n",
            "18:\t[0s / 1s],\t\ttrain_loss: 2.6582,\tval_loss: 2.5931\n",
            "19:\t[0s / 1s],\t\ttrain_loss: 2.6244,\tval_loss: 2.5820\n",
            "20:\t[0s / 1s],\t\ttrain_loss: 2.6364,\tval_loss: 2.5715\n",
            "21:\t[0s / 1s],\t\ttrain_loss: 2.6183,\tval_loss: 2.5653\n",
            "22:\t[0s / 1s],\t\ttrain_loss: 2.6276,\tval_loss: 2.5585\n",
            "23:\t[0s / 1s],\t\ttrain_loss: 2.6073,\tval_loss: 2.5558\n",
            "24:\t[0s / 1s],\t\ttrain_loss: 2.5820,\tval_loss: 2.5550\n",
            "25:\t[0s / 1s],\t\ttrain_loss: 2.5901,\tval_loss: 2.5537\n",
            "26:\t[0s / 1s],\t\ttrain_loss: 2.5940,\tval_loss: 2.5526\n",
            "27:\t[0s / 1s],\t\ttrain_loss: 2.5979,\tval_loss: 2.5514\n",
            "28:\t[0s / 1s],\t\ttrain_loss: 2.5777,\tval_loss: 2.5516\n",
            "29:\t[0s / 1s],\t\ttrain_loss: 2.5981,\tval_loss: 2.5504\n",
            "30:\t[0s / 1s],\t\ttrain_loss: 2.5780,\tval_loss: 2.5507\n",
            "31:\t[0s / 2s],\t\ttrain_loss: 2.5619,\tval_loss: 2.5466\n",
            "32:\t[0s / 2s],\t\ttrain_loss: 2.5398,\tval_loss: 2.5450\n",
            "33:\t[0s / 2s],\t\ttrain_loss: 2.5705,\tval_loss: 2.5424\n",
            "34:\t[0s / 2s],\t\ttrain_loss: 2.5541,\tval_loss: 2.5406\n",
            "35:\t[0s / 2s],\t\ttrain_loss: 2.5694,\tval_loss: 2.5314\n",
            "36:\t[0s / 2s],\t\ttrain_loss: 2.5645,\tval_loss: 2.5297\n",
            "37:\t[0s / 2s],\t\ttrain_loss: 2.5425,\tval_loss: 2.5298\n",
            "38:\t[0s / 2s],\t\ttrain_loss: 2.5616,\tval_loss: 2.5289\n",
            "39:\t[0s / 2s],\t\ttrain_loss: 2.5508,\tval_loss: 2.5290\n",
            "40:\t[0s / 2s],\t\ttrain_loss: 2.5355,\tval_loss: 2.5266\n",
            "41:\t[0s / 2s],\t\ttrain_loss: 2.5595,\tval_loss: 2.5256\n",
            "42:\t[0s / 2s],\t\ttrain_loss: 2.5326,\tval_loss: 2.5245\n",
            "43:\t[0s / 2s],\t\ttrain_loss: 2.5277,\tval_loss: 2.5219\n",
            "44:\t[0s / 2s],\t\ttrain_loss: 2.5449,\tval_loss: 2.5213\n",
            "45:\t[0s / 2s],\t\ttrain_loss: 2.5240,\tval_loss: 2.5202\n",
            "46:\t[0s / 2s],\t\ttrain_loss: 2.5250,\tval_loss: 2.5189\n",
            "47:\t[0s / 2s],\t\ttrain_loss: 2.5418,\tval_loss: 2.5185\n",
            "48:\t[0s / 2s],\t\ttrain_loss: 2.5496,\tval_loss: 2.5181\n",
            "49:\t[0s / 2s],\t\ttrain_loss: 2.4982,\tval_loss: 2.5172\n",
            "50:\t[0s / 2s],\t\ttrain_loss: 2.5137,\tval_loss: 2.5165\n",
            "51:\t[0s / 2s],\t\ttrain_loss: 2.5216,\tval_loss: 2.5159\n",
            "52:\t[0s / 2s],\t\ttrain_loss: 2.5583,\tval_loss: 2.5164\n",
            "53:\t[0s / 2s],\t\ttrain_loss: 2.5264,\tval_loss: 2.5171\n",
            "54:\t[0s / 2s],\t\ttrain_loss: 2.5431,\tval_loss: 2.5166\n",
            "55:\t[0s / 2s],\t\ttrain_loss: 2.5467,\tval_loss: 2.5160\n",
            "56:\t[0s / 3s],\t\ttrain_loss: 2.4991,\tval_loss: 2.5155\n",
            "57:\t[0s / 3s],\t\ttrain_loss: 2.5354,\tval_loss: 2.5155\n",
            "58:\t[0s / 3s],\t\ttrain_loss: 2.5241,\tval_loss: 2.5149\n",
            "59:\t[0s / 3s],\t\ttrain_loss: 2.5207,\tval_loss: 2.5150\n",
            "60:\t[0s / 3s],\t\ttrain_loss: 2.5154,\tval_loss: 2.5146\n",
            "61:\t[0s / 3s],\t\ttrain_loss: 2.5218,\tval_loss: 2.5150\n",
            "62:\t[0s / 3s],\t\ttrain_loss: 2.5123,\tval_loss: 2.5146\n",
            "63:\t[0s / 3s],\t\ttrain_loss: 2.4838,\tval_loss: 2.5123\n",
            "64:\t[0s / 3s],\t\ttrain_loss: 2.5237,\tval_loss: 2.5113\n",
            "65:\t[0s / 3s],\t\ttrain_loss: 2.4981,\tval_loss: 2.5109\n",
            "66:\t[0s / 3s],\t\ttrain_loss: 2.4947,\tval_loss: 2.5092\n",
            "67:\t[0s / 3s],\t\ttrain_loss: 2.4804,\tval_loss: 2.5068\n",
            "68:\t[0s / 3s],\t\ttrain_loss: 2.4994,\tval_loss: 2.5056\n",
            "69:\t[0s / 3s],\t\ttrain_loss: 2.5116,\tval_loss: 2.5049\n",
            "70:\t[0s / 3s],\t\ttrain_loss: 2.4958,\tval_loss: 2.5040\n",
            "71:\t[0s / 3s],\t\ttrain_loss: 2.5047,\tval_loss: 2.5035\n",
            "72:\t[0s / 3s],\t\ttrain_loss: 2.4955,\tval_loss: 2.5034\n",
            "73:\t[0s / 3s],\t\ttrain_loss: 2.4949,\tval_loss: 2.5035\n",
            "74:\t[0s / 3s],\t\ttrain_loss: 2.4987,\tval_loss: 2.5015\n",
            "75:\t[0s / 3s],\t\ttrain_loss: 2.4910,\tval_loss: 2.5003\n",
            "76:\t[0s / 3s],\t\ttrain_loss: 2.4907,\tval_loss: 2.4979\n",
            "77:\t[0s / 3s],\t\ttrain_loss: 2.4918,\tval_loss: 2.4959\n",
            "78:\t[0s / 3s],\t\ttrain_loss: 2.4865,\tval_loss: 2.4950\n",
            "79:\t[0s / 3s],\t\ttrain_loss: 2.4763,\tval_loss: 2.4940\n",
            "80:\t[0s / 3s],\t\ttrain_loss: 2.4879,\tval_loss: 2.4937\n",
            "81:\t[0s / 3s],\t\ttrain_loss: 2.4935,\tval_loss: 2.4928\n",
            "82:\t[0s / 3s],\t\ttrain_loss: 2.4916,\tval_loss: 2.4919\n",
            "83:\t[0s / 4s],\t\ttrain_loss: 2.4716,\tval_loss: 2.4917\n",
            "84:\t[0s / 4s],\t\ttrain_loss: 2.4825,\tval_loss: 2.4911\n",
            "85:\t[0s / 4s],\t\ttrain_loss: 2.4700,\tval_loss: 2.4903\n",
            "86:\t[0s / 4s],\t\ttrain_loss: 2.4732,\tval_loss: 2.4895\n",
            "87:\t[0s / 4s],\t\ttrain_loss: 2.4785,\tval_loss: 2.4882\n",
            "88:\t[0s / 4s],\t\ttrain_loss: 2.4833,\tval_loss: 2.4882\n",
            "89:\t[0s / 4s],\t\ttrain_loss: 2.4732,\tval_loss: 2.4874\n",
            "90:\t[0s / 4s],\t\ttrain_loss: 2.4914,\tval_loss: 2.4865\n",
            "91:\t[0s / 4s],\t\ttrain_loss: 2.4815,\tval_loss: 2.4857\n",
            "92:\t[0s / 4s],\t\ttrain_loss: 2.4739,\tval_loss: 2.4845\n",
            "93:\t[0s / 4s],\t\ttrain_loss: 2.4576,\tval_loss: 2.4841\n",
            "94:\t[0s / 4s],\t\ttrain_loss: 2.4689,\tval_loss: 2.4834\n",
            "95:\t[0s / 4s],\t\ttrain_loss: 2.4682,\tval_loss: 2.4831\n",
            "96:\t[0s / 4s],\t\ttrain_loss: 2.4897,\tval_loss: 2.4830\n",
            "97:\t[0s / 4s],\t\ttrain_loss: 2.4509,\tval_loss: 2.4832\n",
            "98:\t[0s / 4s],\t\ttrain_loss: 2.4687,\tval_loss: 2.4825\n",
            "99:\t[0s / 4s],\t\ttrain_loss: 2.4669,\tval_loss: 2.4830\n",
            "100:\t[0s / 4s],\t\ttrain_loss: 2.4723,\tval_loss: 2.4825\n",
            "101:\t[0s / 4s],\t\ttrain_loss: 2.4726,\tval_loss: 2.4830\n",
            "102:\t[0s / 4s],\t\ttrain_loss: 2.4746,\tval_loss: 2.4828\n",
            "103:\t[0s / 4s],\t\ttrain_loss: 2.4771,\tval_loss: 2.4821\n",
            "104:\t[0s / 4s],\t\ttrain_loss: 2.4585,\tval_loss: 2.4820\n",
            "105:\t[0s / 4s],\t\ttrain_loss: 2.4719,\tval_loss: 2.4821\n",
            "106:\t[0s / 4s],\t\ttrain_loss: 2.4468,\tval_loss: 2.4817\n",
            "107:\t[0s / 4s],\t\ttrain_loss: 2.4717,\tval_loss: 2.4816\n",
            "108:\t[0s / 4s],\t\ttrain_loss: 2.4834,\tval_loss: 2.4820\n",
            "109:\t[0s / 4s],\t\ttrain_loss: 2.4629,\tval_loss: 2.4812\n",
            "110:\t[0s / 4s],\t\ttrain_loss: 2.4547,\tval_loss: 2.4809\n",
            "111:\t[0s / 5s],\t\ttrain_loss: 2.4609,\tval_loss: 2.4813\n",
            "112:\t[0s / 5s],\t\ttrain_loss: 2.4759,\tval_loss: 2.4812\n",
            "113:\t[0s / 5s],\t\ttrain_loss: 2.4648,\tval_loss: 2.4807\n",
            "114:\t[0s / 5s],\t\ttrain_loss: 2.4659,\tval_loss: 2.4805\n",
            "115:\t[0s / 5s],\t\ttrain_loss: 2.4612,\tval_loss: 2.4804\n",
            "116:\t[0s / 5s],\t\ttrain_loss: 2.4589,\tval_loss: 2.4807\n",
            "117:\t[0s / 5s],\t\ttrain_loss: 2.4745,\tval_loss: 2.4801\n",
            "118:\t[0s / 5s],\t\ttrain_loss: 2.4691,\tval_loss: 2.4805\n",
            "119:\t[0s / 5s],\t\ttrain_loss: 2.4876,\tval_loss: 2.4803\n",
            "120:\t[0s / 5s],\t\ttrain_loss: 2.4688,\tval_loss: 2.4804\n",
            "121:\t[0s / 5s],\t\ttrain_loss: 2.4675,\tval_loss: 2.4800\n",
            "122:\t[0s / 5s],\t\ttrain_loss: 2.4688,\tval_loss: 2.4802\n",
            "123:\t[0s / 5s],\t\ttrain_loss: 2.4889,\tval_loss: 2.4801\n",
            "124:\t[0s / 5s],\t\ttrain_loss: 2.4682,\tval_loss: 2.4802\n",
            "125:\t[0s / 5s],\t\ttrain_loss: 2.4555,\tval_loss: 2.4801\n",
            "126:\t[0s / 5s],\t\ttrain_loss: 2.4595,\tval_loss: 2.4800\n",
            "127:\t[0s / 5s],\t\ttrain_loss: 2.4624,\tval_loss: 2.4792\n",
            "128:\t[0s / 5s],\t\ttrain_loss: 2.4572,\tval_loss: 2.4794\n",
            "129:\t[0s / 5s],\t\ttrain_loss: 2.4548,\tval_loss: 2.4796\n",
            "130:\t[0s / 5s],\t\ttrain_loss: 2.4600,\tval_loss: 2.4779\n",
            "131:\t[0s / 5s],\t\ttrain_loss: 2.4644,\tval_loss: 2.4760\n",
            "132:\t[0s / 5s],\t\ttrain_loss: 2.4557,\tval_loss: 2.4754\n",
            "133:\t[0s / 5s],\t\ttrain_loss: 2.4528,\tval_loss: 2.4751\n",
            "134:\t[0s / 5s],\t\ttrain_loss: 2.4737,\tval_loss: 2.4749\n",
            "135:\t[0s / 5s],\t\ttrain_loss: 2.4721,\tval_loss: 2.4747\n",
            "136:\t[0s / 5s],\t\ttrain_loss: 2.4691,\tval_loss: 2.4757\n",
            "137:\t[0s / 5s],\t\ttrain_loss: 2.4565,\tval_loss: 2.4750\n",
            "138:\t[0s / 5s],\t\ttrain_loss: 2.4483,\tval_loss: 2.4737\n",
            "139:\t[0s / 5s],\t\ttrain_loss: 2.4680,\tval_loss: 2.4724\n",
            "140:\t[0s / 6s],\t\ttrain_loss: 2.4657,\tval_loss: 2.4725\n",
            "141:\t[0s / 6s],\t\ttrain_loss: 2.4856,\tval_loss: 2.4728\n",
            "142:\t[0s / 6s],\t\ttrain_loss: 2.4472,\tval_loss: 2.4719\n",
            "143:\t[0s / 6s],\t\ttrain_loss: 2.4624,\tval_loss: 2.4714\n",
            "144:\t[0s / 6s],\t\ttrain_loss: 2.4356,\tval_loss: 2.4706\n",
            "145:\t[0s / 6s],\t\ttrain_loss: 2.4584,\tval_loss: 2.4693\n",
            "146:\t[0s / 6s],\t\ttrain_loss: 2.4369,\tval_loss: 2.4690\n",
            "147:\t[0s / 6s],\t\ttrain_loss: 2.4574,\tval_loss: 2.4687\n",
            "148:\t[0s / 6s],\t\ttrain_loss: 2.4627,\tval_loss: 2.4678\n",
            "149:\t[0s / 6s],\t\ttrain_loss: 2.4433,\tval_loss: 2.4674\n",
            "150:\t[0s / 6s],\t\ttrain_loss: 2.4560,\tval_loss: 2.4674\n",
            "151:\t[0s / 6s],\t\ttrain_loss: 2.4575,\tval_loss: 2.4679\n",
            "152:\t[0s / 6s],\t\ttrain_loss: 2.4424,\tval_loss: 2.4680\n",
            "153:\t[0s / 6s],\t\ttrain_loss: 2.4516,\tval_loss: 2.4682\n",
            "154:\t[0s / 6s],\t\ttrain_loss: 2.4576,\tval_loss: 2.4680\n",
            "155:\t[0s / 6s],\t\ttrain_loss: 2.4452,\tval_loss: 2.4666\n",
            "156:\t[0s / 6s],\t\ttrain_loss: 2.4543,\tval_loss: 2.4658\n",
            "157:\t[0s / 6s],\t\ttrain_loss: 2.4487,\tval_loss: 2.4656\n",
            "158:\t[0s / 6s],\t\ttrain_loss: 2.4530,\tval_loss: 2.4661\n",
            "159:\t[0s / 6s],\t\ttrain_loss: 2.4447,\tval_loss: 2.4652\n",
            "160:\t[0s / 6s],\t\ttrain_loss: 2.4370,\tval_loss: 2.4648\n",
            "161:\t[0s / 6s],\t\ttrain_loss: 2.4432,\tval_loss: 2.4646\n",
            "162:\t[0s / 6s],\t\ttrain_loss: 2.4313,\tval_loss: 2.4649\n",
            "163:\t[0s / 6s],\t\ttrain_loss: 2.4340,\tval_loss: 2.4646\n",
            "164:\t[0s / 6s],\t\ttrain_loss: 2.4479,\tval_loss: 2.4648\n",
            "165:\t[0s / 6s],\t\ttrain_loss: 2.4372,\tval_loss: 2.4642\n",
            "166:\t[0s / 6s],\t\ttrain_loss: 2.4371,\tval_loss: 2.4633\n",
            "167:\t[0s / 6s],\t\ttrain_loss: 2.4331,\tval_loss: 2.4628\n",
            "168:\t[0s / 6s],\t\ttrain_loss: 2.4400,\tval_loss: 2.4623\n",
            "169:\t[0s / 7s],\t\ttrain_loss: 2.4339,\tval_loss: 2.4625\n",
            "170:\t[0s / 7s],\t\ttrain_loss: 2.4388,\tval_loss: 2.4629\n",
            "171:\t[0s / 7s],\t\ttrain_loss: 2.4365,\tval_loss: 2.4636\n",
            "172:\t[0s / 7s],\t\ttrain_loss: 2.4252,\tval_loss: 2.4625\n",
            "173:\t[0s / 7s],\t\ttrain_loss: 2.4431,\tval_loss: 2.4626\n",
            "174:\t[0s / 7s],\t\ttrain_loss: 2.4363,\tval_loss: 2.4621\n",
            "175:\t[0s / 7s],\t\ttrain_loss: 2.4343,\tval_loss: 2.4623\n",
            "176:\t[0s / 7s],\t\ttrain_loss: 2.4340,\tval_loss: 2.4615\n",
            "177:\t[0s / 7s],\t\ttrain_loss: 2.4351,\tval_loss: 2.4614\n",
            "178:\t[0s / 7s],\t\ttrain_loss: 2.4407,\tval_loss: 2.4608\n",
            "179:\t[0s / 7s],\t\ttrain_loss: 2.4425,\tval_loss: 2.4604\n",
            "180:\t[0s / 7s],\t\ttrain_loss: 2.4400,\tval_loss: 2.4615\n",
            "181:\t[0s / 7s],\t\ttrain_loss: 2.4364,\tval_loss: 2.4616\n",
            "182:\t[0s / 7s],\t\ttrain_loss: 2.4400,\tval_loss: 2.4612\n",
            "183:\t[0s / 7s],\t\ttrain_loss: 2.4400,\tval_loss: 2.4611\n",
            "184:\t[0s / 8s],\t\ttrain_loss: 2.4494,\tval_loss: 2.4614\n",
            "185:\t[0s / 8s],\t\ttrain_loss: 2.4318,\tval_loss: 2.4610\n",
            "186:\t[0s / 8s],\t\ttrain_loss: 2.4444,\tval_loss: 2.4604\n",
            "187:\t[0s / 8s],\t\ttrain_loss: 2.4328,\tval_loss: 2.4604\n",
            "188:\t[0s / 8s],\t\ttrain_loss: 2.4282,\tval_loss: 2.4592\n",
            "189:\t[0s / 8s],\t\ttrain_loss: 2.4374,\tval_loss: 2.4591\n",
            "190:\t[0s / 8s],\t\ttrain_loss: 2.4235,\tval_loss: 2.4588\n",
            "191:\t[0s / 8s],\t\ttrain_loss: 2.4358,\tval_loss: 2.4590\n",
            "192:\t[0s / 8s],\t\ttrain_loss: 2.4459,\tval_loss: 2.4590\n",
            "193:\t[0s / 8s],\t\ttrain_loss: 2.4342,\tval_loss: 2.4587\n",
            "194:\t[0s / 8s],\t\ttrain_loss: 2.4294,\tval_loss: 2.4582\n",
            "195:\t[0s / 8s],\t\ttrain_loss: 2.4287,\tval_loss: 2.4583\n",
            "196:\t[0s / 9s],\t\ttrain_loss: 2.4276,\tval_loss: 2.4584\n",
            "197:\t[0s / 9s],\t\ttrain_loss: 2.4378,\tval_loss: 2.4582\n",
            "198:\t[0s / 9s],\t\ttrain_loss: 2.4335,\tval_loss: 2.4584\n",
            "199:\t[0s / 9s],\t\ttrain_loss: 2.4244,\tval_loss: 2.4582\n",
            "200:\t[0s / 9s],\t\ttrain_loss: 2.4183,\tval_loss: 2.4581\n",
            "201:\t[0s / 9s],\t\ttrain_loss: 2.4276,\tval_loss: 2.4581\n",
            "202:\t[0s / 9s],\t\ttrain_loss: 2.4293,\tval_loss: 2.4582\n",
            "203:\t[0s / 9s],\t\ttrain_loss: 2.4391,\tval_loss: 2.4579\n",
            "204:\t[0s / 9s],\t\ttrain_loss: 2.4282,\tval_loss: 2.4581\n",
            "205:\t[0s / 9s],\t\ttrain_loss: 2.4264,\tval_loss: 2.4578\n",
            "206:\t[0s / 9s],\t\ttrain_loss: 2.4385,\tval_loss: 2.4573\n",
            "207:\t[0s / 9s],\t\ttrain_loss: 2.4372,\tval_loss: 2.4572\n",
            "208:\t[0s / 9s],\t\ttrain_loss: 2.4427,\tval_loss: 2.4573\n",
            "209:\t[0s / 10s],\t\ttrain_loss: 2.4443,\tval_loss: 2.4573\n",
            "210:\t[0s / 10s],\t\ttrain_loss: 2.4340,\tval_loss: 2.4566\n",
            "211:\t[0s / 10s],\t\ttrain_loss: 2.4266,\tval_loss: 2.4569\n",
            "212:\t[0s / 10s],\t\ttrain_loss: 2.4345,\tval_loss: 2.4572\n",
            "213:\t[0s / 10s],\t\ttrain_loss: 2.4501,\tval_loss: 2.4574\n",
            "214:\t[0s / 10s],\t\ttrain_loss: 2.4310,\tval_loss: 2.4574\n",
            "215:\t[0s / 10s],\t\ttrain_loss: 2.4500,\tval_loss: 2.4572\n",
            "216:\t[0s / 10s],\t\ttrain_loss: 2.4300,\tval_loss: 2.4568\n",
            "217:\t[0s / 10s],\t\ttrain_loss: 2.4241,\tval_loss: 2.4563\n",
            "218:\t[0s / 10s],\t\ttrain_loss: 2.4294,\tval_loss: 2.4563\n",
            "219:\t[0s / 11s],\t\ttrain_loss: 2.4214,\tval_loss: 2.4564\n",
            "220:\t[0s / 11s],\t\ttrain_loss: 2.4269,\tval_loss: 2.4565\n",
            "221:\t[0s / 11s],\t\ttrain_loss: 2.4193,\tval_loss: 2.4569\n",
            "222:\t[0s / 11s],\t\ttrain_loss: 2.4411,\tval_loss: 2.4569\n",
            "223:\t[0s / 11s],\t\ttrain_loss: 2.4483,\tval_loss: 2.4567\n",
            "224:\t[0s / 11s],\t\ttrain_loss: 2.4334,\tval_loss: 2.4569\n",
            "225:\t[0s / 11s],\t\ttrain_loss: 2.4380,\tval_loss: 2.4569\n",
            "226:\t[0s / 11s],\t\ttrain_loss: 2.4338,\tval_loss: 2.4565\n",
            "227:\t[0s / 11s],\t\ttrain_loss: 2.4243,\tval_loss: 2.4566\n",
            "228:\t[0s / 11s],\t\ttrain_loss: 2.4125,\tval_loss: 2.4564\n",
            "229:\t[0s / 11s],\t\ttrain_loss: 2.4271,\tval_loss: 2.4567\n",
            "230:\t[0s / 11s],\t\ttrain_loss: 2.4420,\tval_loss: 2.4562\n",
            "231:\t[0s / 11s],\t\ttrain_loss: 2.4593,\tval_loss: 2.4561\n",
            "232:\t[0s / 11s],\t\ttrain_loss: 2.4505,\tval_loss: 2.4562\n",
            "233:\t[0s / 11s],\t\ttrain_loss: 2.4290,\tval_loss: 2.4565\n",
            "234:\t[0s / 12s],\t\ttrain_loss: 2.4446,\tval_loss: 2.4565\n",
            "235:\t[0s / 12s],\t\ttrain_loss: 2.4189,\tval_loss: 2.4565\n",
            "236:\t[0s / 12s],\t\ttrain_loss: 2.4304,\tval_loss: 2.4567\n",
            "237:\t[0s / 12s],\t\ttrain_loss: 2.4240,\tval_loss: 2.4567\n",
            "238:\t[0s / 12s],\t\ttrain_loss: 2.4315,\tval_loss: 2.4569\n",
            "239:\t[0s / 12s],\t\ttrain_loss: 2.4338,\tval_loss: 2.4566\n",
            "240:\t[0s / 12s],\t\ttrain_loss: 2.4324,\tval_loss: 2.4562\n",
            "241:\t[0s / 12s],\t\ttrain_loss: 2.4345,\tval_loss: 2.4562\n",
            "242:\t[0s / 12s],\t\ttrain_loss: 2.4327,\tval_loss: 2.4563\n",
            "243:\t[0s / 12s],\t\ttrain_loss: 2.4285,\tval_loss: 2.4563\n",
            "244:\t[0s / 12s],\t\ttrain_loss: 2.4282,\tval_loss: 2.4564\n",
            "245:\t[0s / 12s],\t\ttrain_loss: 2.4393,\tval_loss: 2.4561\n",
            "246:\t[0s / 12s],\t\ttrain_loss: 2.4354,\tval_loss: 2.4563\n",
            "247:\t[0s / 12s],\t\ttrain_loss: 2.4341,\tval_loss: 2.4565\n",
            "248:\t[0s / 12s],\t\ttrain_loss: 2.4215,\tval_loss: 2.4563\n",
            "249:\t[0s / 12s],\t\ttrain_loss: 2.4421,\tval_loss: 2.4561\n",
            "250:\t[0s / 12s],\t\ttrain_loss: 2.4376,\tval_loss: 2.4567\n",
            "251:\t[0s / 13s],\t\ttrain_loss: 2.4323,\tval_loss: 2.4565\n",
            "252:\t[0s / 13s],\t\ttrain_loss: 2.4315,\tval_loss: 2.4567\n",
            "253:\t[0s / 13s],\t\ttrain_loss: 2.4361,\tval_loss: 2.4565\n",
            "254:\t[0s / 13s],\t\ttrain_loss: 2.4431,\tval_loss: 2.4568\n",
            "255:\t[0s / 13s],\t\ttrain_loss: 2.4226,\tval_loss: 2.4562\n",
            "256:\t[0s / 13s],\t\ttrain_loss: 2.4438,\tval_loss: 2.4558\n",
            "257:\t[0s / 13s],\t\ttrain_loss: 2.4237,\tval_loss: 2.4557\n",
            "258:\t[0s / 13s],\t\ttrain_loss: 2.4176,\tval_loss: 2.4561\n",
            "259:\t[0s / 13s],\t\ttrain_loss: 2.4276,\tval_loss: 2.4567\n",
            "260:\t[0s / 13s],\t\ttrain_loss: 2.4443,\tval_loss: 2.4566\n",
            "261:\t[0s / 13s],\t\ttrain_loss: 2.4236,\tval_loss: 2.4561\n",
            "262:\t[0s / 13s],\t\ttrain_loss: 2.4352,\tval_loss: 2.4550\n",
            "263:\t[0s / 13s],\t\ttrain_loss: 2.4339,\tval_loss: 2.4556\n",
            "264:\t[0s / 13s],\t\ttrain_loss: 2.4451,\tval_loss: 2.4554\n",
            "265:\t[0s / 13s],\t\ttrain_loss: 2.4315,\tval_loss: 2.4550\n",
            "266:\t[0s / 14s],\t\ttrain_loss: 2.4376,\tval_loss: 2.4550\n",
            "267:\t[0s / 14s],\t\ttrain_loss: 2.4341,\tval_loss: 2.4543\n",
            "268:\t[0s / 14s],\t\ttrain_loss: 2.4399,\tval_loss: 2.4544\n",
            "269:\t[0s / 14s],\t\ttrain_loss: 2.4492,\tval_loss: 2.4545\n",
            "270:\t[0s / 14s],\t\ttrain_loss: 2.4196,\tval_loss: 2.4542\n",
            "271:\t[0s / 14s],\t\ttrain_loss: 2.4258,\tval_loss: 2.4546\n",
            "272:\t[0s / 14s],\t\ttrain_loss: 2.4424,\tval_loss: 2.4548\n",
            "273:\t[0s / 14s],\t\ttrain_loss: 2.4313,\tval_loss: 2.4553\n",
            "274:\t[0s / 14s],\t\ttrain_loss: 2.4241,\tval_loss: 2.4554\n",
            "275:\t[0s / 14s],\t\ttrain_loss: 2.4130,\tval_loss: 2.4544\n",
            "276:\t[0s / 14s],\t\ttrain_loss: 2.4178,\tval_loss: 2.4545\n",
            "277:\t[0s / 14s],\t\ttrain_loss: 2.4280,\tval_loss: 2.4538\n",
            "278:\t[0s / 14s],\t\ttrain_loss: 2.4302,\tval_loss: 2.4540\n",
            "279:\t[0s / 14s],\t\ttrain_loss: 2.4261,\tval_loss: 2.4542\n",
            "280:\t[0s / 15s],\t\ttrain_loss: 2.4284,\tval_loss: 2.4539\n",
            "281:\t[0s / 15s],\t\ttrain_loss: 2.4299,\tval_loss: 2.4541\n",
            "282:\t[0s / 15s],\t\ttrain_loss: 2.4281,\tval_loss: 2.4544\n",
            "283:\t[0s / 15s],\t\ttrain_loss: 2.4253,\tval_loss: 2.4548\n",
            "284:\t[0s / 15s],\t\ttrain_loss: 2.4286,\tval_loss: 2.4542\n",
            "285:\t[0s / 15s],\t\ttrain_loss: 2.4302,\tval_loss: 2.4546\n",
            "286:\t[0s / 15s],\t\ttrain_loss: 2.4271,\tval_loss: 2.4550\n",
            "287:\t[0s / 15s],\t\ttrain_loss: 2.4106,\tval_loss: 2.4550\n",
            "288:\t[0s / 15s],\t\ttrain_loss: 2.4345,\tval_loss: 2.4544\n",
            "289:\t[0s / 15s],\t\ttrain_loss: 2.4275,\tval_loss: 2.4537\n",
            "290:\t[0s / 15s],\t\ttrain_loss: 2.4287,\tval_loss: 2.4532\n",
            "291:\t[0s / 15s],\t\ttrain_loss: 2.4335,\tval_loss: 2.4532\n",
            "292:\t[0s / 15s],\t\ttrain_loss: 2.4360,\tval_loss: 2.4533\n",
            "293:\t[0s / 15s],\t\ttrain_loss: 2.4328,\tval_loss: 2.4535\n",
            "294:\t[0s / 15s],\t\ttrain_loss: 2.4369,\tval_loss: 2.4534\n",
            "295:\t[0s / 15s],\t\ttrain_loss: 2.4273,\tval_loss: 2.4532\n",
            "296:\t[0s / 15s],\t\ttrain_loss: 2.4218,\tval_loss: 2.4532\n",
            "297:\t[0s / 15s],\t\ttrain_loss: 2.4244,\tval_loss: 2.4534\n",
            "298:\t[0s / 16s],\t\ttrain_loss: 2.4233,\tval_loss: 2.4527\n",
            "299:\t[0s / 16s],\t\ttrain_loss: 2.4098,\tval_loss: 2.4525\n",
            "CPU times: user 11.8 s, sys: 171 ms, total: 12 s\n",
            "Wall time: 16.1 s\n"
          ]
        }
      ]
    },
    {
      "cell_type": "markdown",
      "source": [
        "# Evaluation"
      ],
      "metadata": {
        "id": "HlRzBSVaiwt4"
      }
    },
    {
      "cell_type": "markdown",
      "source": [
        "We can draw a graph to see whether our training plot is normal."
      ],
      "metadata": {
        "id": "YPj8yIHQtiL8"
      }
    },
    {
      "cell_type": "code",
      "source": [
        "_ = log.plot()"
      ],
      "metadata": {
        "colab": {
          "base_uri": "https://localhost:8080/",
          "height": 265
        },
        "id": "R0dX4PgTtPbu",
        "outputId": "242ec900-8ced-4a30-d7af-ec74f6eb2c19"
      },
      "execution_count": 130,
      "outputs": [
        {
          "output_type": "display_data",
          "data": {
            "text/plain": [
              "<Figure size 432x288 with 1 Axes>"
            ],
            "image/png": "[encoded data removed]"
          },
          "metadata": {
            "needs_background": "light"
          }
        }
      ]
    },
    {
      "cell_type": "markdown",
      "source": [
        "Generally, 3 evaluation metrics are used: Concordance-Index, Integrated_brier_score and Integrated Negative Binomial Log Likelihood."
      ],
      "metadata": {
        "id": "5v8r4w9ftlMg"
      }
    },
    {
      "cell_type": "code",
      "source": [
        "surv = model.predict_surv_df(x_test)\n",
        "ev = EvalSurv(surv, durations_test, events_test, censor_surv='km')"
      ],
      "metadata": {
        "id": "Qrea_EZz0zPv"
      },
      "execution_count": 125,
      "outputs": []
    },
    {
      "cell_type": "code",
      "source": [
        "ev.concordance_td('antolini')"
      ],
      "metadata": {
        "colab": {
          "base_uri": "https://localhost:8080/"
        },
        "outputId": "787246a2-9a58-4e7d-e315-3224871ba826",
        "id": "95x_507X0zPv"
      },
      "execution_count": 126,
      "outputs": [
        {
          "output_type": "stream",
          "name": "stderr",
          "text": [
            "/usr/local/lib/python3.7/dist-packages/numba/np/ufunc/parallel.py:363: NumbaWarning: The TBB threading layer requires TBB version 2019.5 or later i.e., TBB_INTERFACE_VERSION >= 11005. Found TBB_INTERFACE_VERSION = 9107. The TBB threading layer is disabled.\n",
            "  warnings.warn(problem)\n"
          ]
        },
        {
          "output_type": "execute_result",
          "data": {
            "text/plain": [
              "0.6725940561455503"
            ]
          },
          "metadata": {},
          "execution_count": 126
        }
      ]
    },
    {
      "cell_type": "code",
      "source": [
        "time_grid = np.linspace(durations_test.min(), durations_test.max(), 100)"
      ],
      "metadata": {
        "id": "Bb6xcISA0zPv"
      },
      "execution_count": 127,
      "outputs": []
    },
    {
      "cell_type": "code",
      "source": [
        "ev.integrated_brier_score(time_grid)"
      ],
      "metadata": {
        "colab": {
          "base_uri": "https://localhost:8080/"
        },
        "outputId": "fb21f081-c968-4040-e5b7-160efa09b2fa",
        "id": "QY7h3aie0zPv"
      },
      "execution_count": 128,
      "outputs": [
        {
          "output_type": "execute_result",
          "data": {
            "text/plain": [
              "0.16212855039351629"
            ]
          },
          "metadata": {},
          "execution_count": 128
        }
      ]
    },
    {
      "cell_type": "code",
      "source": [
        "ev.integrated_nbll(time_grid)"
      ],
      "metadata": {
        "colab": {
          "base_uri": "https://localhost:8080/"
        },
        "outputId": "1582cc80-8854-495e-c669-abbbf32dd2d4",
        "id": "f-2aof0r0zPw"
      },
      "execution_count": 129,
      "outputs": [
        {
          "output_type": "execute_result",
          "data": {
            "text/plain": [
              "0.4851347958174234"
            ]
          },
          "metadata": {},
          "execution_count": 129
        }
      ]
    },
    {
      "cell_type": "code",
      "source": [
        ""
      ],
      "metadata": {
        "id": "8wlTbEbmr65P"
      },
      "execution_count": null,
      "outputs": []
    }
  ]
}