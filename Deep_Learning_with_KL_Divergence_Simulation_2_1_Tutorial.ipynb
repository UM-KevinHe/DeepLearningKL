{
  "nbformat": 4,
  "nbformat_minor": 0,
  "metadata": {
    "colab": {
      "name": "Deep Learning with KL Divergence Simulation 2-1: Tutorial.ipynb",
      "provenance": []
    },
    "kernelspec": {
      "name": "python3",
      "display_name": "Python 3"
    },
    "language_info": {
      "name": "python"
    }
  },
  "cells": [
    {
      "cell_type": "markdown",
      "source": [
        "# Preparation"
      ],
      "metadata": {
        "id": "IaAgQmOd_hcG"
      }
    },
    {
      "cell_type": "markdown",
      "source": [
        "This project aims on using Deep Learning with Kullback-Leibler Divergence. Some basic packages are required for this project. The aim of the following chunk is to install required packages such as `lifelines`, `sklearn-pandas` and `torchtuples`. Note that `pycox` is built based on `torchtuples`.\n",
        "\n",
        "---\n",
        "\n",
        "`pycox` should be pre-installed and removed into the google drive since we need to modify part of the code in this package for our model. However in the tutorial, we can actually predefine our loss function outside the package, so this part need to be updated probably.\n"
      ],
      "metadata": {
        "id": "bnU8AUNjAbBl"
      }
    },
    {
      "cell_type": "code",
      "source": [
        "!pwd\n",
        "!pip install lifelines\n",
        "! pip install sklearn-pandas\n",
        "! pip install torchtuples\n",
        "# ! pip install statsmodels\n",
        "! pip install statsmodels --upgrade\n",
        "# ! pip install pycox"
      ],
      "metadata": {
        "id": "Nvw5pjDK8apf",
        "colab": {
          "base_uri": "https://localhost:8080/"
        },
        "outputId": "1c090013-23bc-4763-a106-7b0cc77387e3"
      },
      "execution_count": null,
      "outputs": [
        {
          "output_type": "stream",
          "name": "stdout",
          "text": [
            "/content\n",
            "Looking in indexes: https://pypi.org/simple, https://us-python.pkg.dev/colab-wheels/public/simple/\n",
            "Collecting lifelines\n",
            "  Downloading lifelines-0.27.0-py3-none-any.whl (349 kB)\n",
            "\u001b[K     |████████████████████████████████| 349 kB 6.9 MB/s \n",
            "\u001b[?25hCollecting autograd-gamma>=0.3\n",
            "  Downloading autograd-gamma-0.5.0.tar.gz (4.0 kB)\n",
            "Requirement already satisfied: numpy>=1.14.0 in /usr/local/lib/python3.7/dist-packages (from lifelines) (1.21.6)\n",
            "Requirement already satisfied: pandas>=1.0.0 in /usr/local/lib/python3.7/dist-packages (from lifelines) (1.3.5)\n",
            "Requirement already satisfied: matplotlib>=3.0 in /usr/local/lib/python3.7/dist-packages (from lifelines) (3.2.2)\n",
            "Collecting formulaic>=0.2.2\n",
            "  Downloading formulaic-0.3.4-py3-none-any.whl (68 kB)\n",
            "\u001b[K     |████████████████████████████████| 68 kB 2.5 MB/s \n",
            "\u001b[?25hRequirement already satisfied: scipy>=1.2.0 in /usr/local/lib/python3.7/dist-packages (from lifelines) (1.4.1)\n",
            "Requirement already satisfied: autograd>=1.3 in /usr/local/lib/python3.7/dist-packages (from lifelines) (1.4)\n",
            "Requirement already satisfied: future>=0.15.2 in /usr/local/lib/python3.7/dist-packages (from autograd>=1.3->lifelines) (0.16.0)\n",
            "Requirement already satisfied: astor>=0.8 in /usr/local/lib/python3.7/dist-packages (from formulaic>=0.2.2->lifelines) (0.8.1)\n",
            "Collecting scipy>=1.2.0\n",
            "  Downloading scipy-1.7.3-cp37-cp37m-manylinux_2_12_x86_64.manylinux2010_x86_64.whl (38.1 MB)\n",
            "\u001b[K     |████████████████████████████████| 38.1 MB 10.7 MB/s \n",
            "\u001b[?25hCollecting interface-meta<2.0.0,>=1.2.0\n",
            "  Downloading interface_meta-1.3.0-py3-none-any.whl (14 kB)\n",
            "Requirement already satisfied: wrapt>=1.0 in /usr/local/lib/python3.7/dist-packages (from formulaic>=0.2.2->lifelines) (1.14.1)\n",
            "Requirement already satisfied: python-dateutil>=2.1 in /usr/local/lib/python3.7/dist-packages (from matplotlib>=3.0->lifelines) (2.8.2)\n",
            "Requirement already satisfied: cycler>=0.10 in /usr/local/lib/python3.7/dist-packages (from matplotlib>=3.0->lifelines) (0.11.0)\n",
            "Requirement already satisfied: kiwisolver>=1.0.1 in /usr/local/lib/python3.7/dist-packages (from matplotlib>=3.0->lifelines) (1.4.2)\n",
            "Requirement already satisfied: pyparsing!=2.0.4,!=2.1.2,!=2.1.6,>=2.0.1 in /usr/local/lib/python3.7/dist-packages (from matplotlib>=3.0->lifelines) (3.0.9)\n",
            "Requirement already satisfied: typing-extensions in /usr/local/lib/python3.7/dist-packages (from kiwisolver>=1.0.1->matplotlib>=3.0->lifelines) (4.2.0)\n",
            "Requirement already satisfied: pytz>=2017.3 in /usr/local/lib/python3.7/dist-packages (from pandas>=1.0.0->lifelines) (2022.1)\n",
            "Requirement already satisfied: six>=1.5 in /usr/local/lib/python3.7/dist-packages (from python-dateutil>=2.1->matplotlib>=3.0->lifelines) (1.15.0)\n",
            "Building wheels for collected packages: autograd-gamma\n",
            "  Building wheel for autograd-gamma (setup.py) ... \u001b[?25l\u001b[?25hdone\n",
            "  Created wheel for autograd-gamma: filename=autograd_gamma-0.5.0-py3-none-any.whl size=4048 sha256=506f63375b38373dcc5df45c490abbef12712404f2cc67d3994d785eda5be9b4\n",
            "  Stored in directory: /root/.cache/pip/wheels/9f/01/ee/1331593abb5725ff7d8c1333aee93a50a1c29d6ddda9665c9f\n",
            "Successfully built autograd-gamma\n",
            "Installing collected packages: scipy, interface-meta, formulaic, autograd-gamma, lifelines\n",
            "  Attempting uninstall: scipy\n",
            "    Found existing installation: scipy 1.4.1\n",
            "    Uninstalling scipy-1.4.1:\n",
            "      Successfully uninstalled scipy-1.4.1\n",
            "\u001b[31mERROR: pip's dependency resolver does not currently take into account all the packages that are installed. This behaviour is the source of the following dependency conflicts.\n",
            "albumentations 0.1.12 requires imgaug<0.2.7,>=0.2.5, but you have imgaug 0.2.9 which is incompatible.\u001b[0m\n",
            "Successfully installed autograd-gamma-0.5.0 formulaic-0.3.4 interface-meta-1.3.0 lifelines-0.27.0 scipy-1.7.3\n",
            "Looking in indexes: https://pypi.org/simple, https://us-python.pkg.dev/colab-wheels/public/simple/\n",
            "Requirement already satisfied: sklearn-pandas in /usr/local/lib/python3.7/dist-packages (1.8.0)\n",
            "Requirement already satisfied: scipy>=0.14 in /usr/local/lib/python3.7/dist-packages (from sklearn-pandas) (1.7.3)\n",
            "Requirement already satisfied: scikit-learn>=0.15.0 in /usr/local/lib/python3.7/dist-packages (from sklearn-pandas) (1.0.2)\n",
            "Requirement already satisfied: pandas>=0.11.0 in /usr/local/lib/python3.7/dist-packages (from sklearn-pandas) (1.3.5)\n",
            "Requirement already satisfied: numpy>=1.6.1 in /usr/local/lib/python3.7/dist-packages (from sklearn-pandas) (1.21.6)\n",
            "Requirement already satisfied: pytz>=2017.3 in /usr/local/lib/python3.7/dist-packages (from pandas>=0.11.0->sklearn-pandas) (2022.1)\n",
            "Requirement already satisfied: python-dateutil>=2.7.3 in /usr/local/lib/python3.7/dist-packages (from pandas>=0.11.0->sklearn-pandas) (2.8.2)\n",
            "Requirement already satisfied: six>=1.5 in /usr/local/lib/python3.7/dist-packages (from python-dateutil>=2.7.3->pandas>=0.11.0->sklearn-pandas) (1.15.0)\n",
            "Requirement already satisfied: joblib>=0.11 in /usr/local/lib/python3.7/dist-packages (from scikit-learn>=0.15.0->sklearn-pandas) (1.1.0)\n",
            "Requirement already satisfied: threadpoolctl>=2.0.0 in /usr/local/lib/python3.7/dist-packages (from scikit-learn>=0.15.0->sklearn-pandas) (3.1.0)\n",
            "Looking in indexes: https://pypi.org/simple, https://us-python.pkg.dev/colab-wheels/public/simple/\n",
            "Collecting torchtuples\n",
            "  Downloading torchtuples-0.2.2-py3-none-any.whl (41 kB)\n",
            "\u001b[K     |████████████████████████████████| 41 kB 552 kB/s \n",
            "\u001b[?25hRequirement already satisfied: numpy>=1.15.4 in /usr/local/lib/python3.7/dist-packages (from torchtuples) (1.21.6)\n",
            "Requirement already satisfied: pandas>=0.24.2 in /usr/local/lib/python3.7/dist-packages (from torchtuples) (1.3.5)\n",
            "Requirement already satisfied: matplotlib>=3.0.3 in /usr/local/lib/python3.7/dist-packages (from torchtuples) (3.2.2)\n",
            "Requirement already satisfied: pyparsing!=2.0.4,!=2.1.2,!=2.1.6,>=2.0.1 in /usr/local/lib/python3.7/dist-packages (from matplotlib>=3.0.3->torchtuples) (3.0.9)\n",
            "Requirement already satisfied: cycler>=0.10 in /usr/local/lib/python3.7/dist-packages (from matplotlib>=3.0.3->torchtuples) (0.11.0)\n",
            "Requirement already satisfied: kiwisolver>=1.0.1 in /usr/local/lib/python3.7/dist-packages (from matplotlib>=3.0.3->torchtuples) (1.4.2)\n",
            "Requirement already satisfied: python-dateutil>=2.1 in /usr/local/lib/python3.7/dist-packages (from matplotlib>=3.0.3->torchtuples) (2.8.2)\n",
            "Requirement already satisfied: typing-extensions in /usr/local/lib/python3.7/dist-packages (from kiwisolver>=1.0.1->matplotlib>=3.0.3->torchtuples) (4.2.0)\n",
            "Requirement already satisfied: pytz>=2017.3 in /usr/local/lib/python3.7/dist-packages (from pandas>=0.24.2->torchtuples) (2022.1)\n",
            "Requirement already satisfied: six>=1.5 in /usr/local/lib/python3.7/dist-packages (from python-dateutil>=2.1->matplotlib>=3.0.3->torchtuples) (1.15.0)\n",
            "Installing collected packages: torchtuples\n",
            "Successfully installed torchtuples-0.2.2\n",
            "Looking in indexes: https://pypi.org/simple, https://us-python.pkg.dev/colab-wheels/public/simple/\n",
            "Requirement already satisfied: statsmodels in /usr/local/lib/python3.7/dist-packages (0.10.2)\n",
            "Collecting statsmodels\n",
            "  Downloading statsmodels-0.13.2-cp37-cp37m-manylinux_2_17_x86_64.manylinux2014_x86_64.whl (9.8 MB)\n",
            "\u001b[K     |████████████████████████████████| 9.8 MB 1.1 MB/s \n",
            "\u001b[?25hRequirement already satisfied: scipy>=1.3 in /usr/local/lib/python3.7/dist-packages (from statsmodels) (1.7.3)\n",
            "Requirement already satisfied: packaging>=21.3 in /usr/local/lib/python3.7/dist-packages (from statsmodels) (21.3)\n",
            "Requirement already satisfied: numpy>=1.17 in /usr/local/lib/python3.7/dist-packages (from statsmodels) (1.21.6)\n",
            "Requirement already satisfied: pandas>=0.25 in /usr/local/lib/python3.7/dist-packages (from statsmodels) (1.3.5)\n",
            "Requirement already satisfied: patsy>=0.5.2 in /usr/local/lib/python3.7/dist-packages (from statsmodels) (0.5.2)\n",
            "Requirement already satisfied: pyparsing!=3.0.5,>=2.0.2 in /usr/local/lib/python3.7/dist-packages (from packaging>=21.3->statsmodels) (3.0.9)\n",
            "Requirement already satisfied: pytz>=2017.3 in /usr/local/lib/python3.7/dist-packages (from pandas>=0.25->statsmodels) (2022.1)\n",
            "Requirement already satisfied: python-dateutil>=2.7.3 in /usr/local/lib/python3.7/dist-packages (from pandas>=0.25->statsmodels) (2.8.2)\n",
            "Requirement already satisfied: six in /usr/local/lib/python3.7/dist-packages (from patsy>=0.5.2->statsmodels) (1.15.0)\n",
            "Installing collected packages: statsmodels\n",
            "  Attempting uninstall: statsmodels\n",
            "    Found existing installation: statsmodels 0.10.2\n",
            "    Uninstalling statsmodels-0.10.2:\n",
            "      Successfully uninstalled statsmodels-0.10.2\n",
            "Successfully installed statsmodels-0.13.2\n"
          ]
        }
      ]
    },
    {
      "cell_type": "markdown",
      "source": [
        "`pycox` is pre-installed in /content/drive/MyDrive/pycox, before that we need to track the data in google drive."
      ],
      "metadata": {
        "id": "3CR4Lrl8DPhJ"
      }
    },
    {
      "cell_type": "code",
      "source": [
        "from google.colab import drive\n",
        "\n",
        "drive.mount(\"/content/drive\")\n",
        "\n",
        "%cd \"/content/drive/MyDrive/pycox\"\n",
        "# %pwd\n",
        "# from pycox.models import LogisticHazard"
      ],
      "metadata": {
        "colab": {
          "base_uri": "https://localhost:8080/"
        },
        "id": "ohFkTufMCHze",
        "outputId": "546f821c-f822-4aae-ffec-6afc9e28b322"
      },
      "execution_count": null,
      "outputs": [
        {
          "output_type": "stream",
          "name": "stdout",
          "text": [
            "Mounted at /content/drive\n",
            "/content/drive/MyDrive/pycox\n"
          ]
        }
      ]
    },
    {
      "cell_type": "code",
      "source": [
        "import os\n",
        "import sys\n",
        "\n",
        "import numpy as np\n",
        "import pandas as pd \n",
        "import matplotlib.pyplot as plt\n",
        "import torch # For building the networks \n",
        "import torchtuples as tt # Some useful functions\n",
        "\n",
        "# For preprocessing\n",
        "from sklearn.preprocessing import StandardScaler\n",
        "from sklearn_pandas import DataFrameMapper \n",
        "\n",
        "from pycox.datasets import metabric\n",
        "from pycox.models import LogisticHazard\n",
        "# from pycox.models import PMF\n",
        "# from pycox.models import DeepHitSingle\n",
        "from pycox.evaluation import EvalSurv"
      ],
      "metadata": {
        "id": "IZOY_hA4O-Wq"
      },
      "execution_count": null,
      "outputs": []
    },
    {
      "cell_type": "code",
      "source": [
        "np.random.seed(1234)\n",
        "_ = torch.manual_seed(1234)"
      ],
      "metadata": {
        "id": "I42T395DTs_4"
      },
      "execution_count": null,
      "outputs": []
    },
    {
      "cell_type": "markdown",
      "source": [
        "If you have mounted the data rightly, you should print out the list for files in given folder. For example, this will print out all files in `/content/drive/My Drive/Kevin He`"
      ],
      "metadata": {
        "id": "eMTd8u0JDuKl"
      }
    },
    {
      "cell_type": "code",
      "source": [
        "# TODO: Fill in the Google Drive path where you uploaded the assignment\n",
        "# Example: If you create a 2022WI folder and put all the files under A4 folder, then \"2022WI/A4\"\n",
        "GOOGLE_DRIVE_PATH_AFTER_MYDRIVE = \"Kevin He\"\n",
        "GOOGLE_DRIVE_PATH = os.path.join(\"/content/drive\", \"My Drive\", GOOGLE_DRIVE_PATH_AFTER_MYDRIVE)\n",
        "print(os.listdir(GOOGLE_DRIVE_PATH))\n",
        "\n",
        "# Add to sys so we can import .py files.\n",
        "sys.path.append(GOOGLE_DRIVE_PATH)"
      ],
      "metadata": {
        "colab": {
          "base_uri": "https://localhost:8080/"
        },
        "outputId": "26c59ce7-aaf5-404a-b104-ddf81fb7cae9",
        "id": "izaCKipaCoKe"
      },
      "execution_count": null,
      "outputs": [
        {
          "output_type": "stream",
          "name": "stdout",
          "text": [
            "['local_data.csv', 'prior_data.csv', 'local_data_2.csv', 'local_data_3.csv', 'prior_data_subset.csv', 'prior_data_subset_2.csv', 'prior_data_subset_3.csv', 'R-code.ipynb', 'local_data_together.csv', 'Untitled', 'Deep Learning with KL Divergence Non-linear Visualization.ipynb', 'Deep Learning with KL Divergence Simulation Image Data.ipynb', 'Deep Learning with KL Divergence.ipynb', 'Deep Learning with KL Divergence Real Data.ipynb', 'prior_data_subset_4.csv', 'Deep Learning with KL Divergence Simulation 1: Tutorial', 'Deep Learning with KL Divergence Simulation Non-linear-prop.ipynb', 'Deep Learning with KL-divergence Real Data: Tutorial.ipynb', 'Deep Learning with KL Divergence Simulation 3: Tutorial.ipynb', 'Deep Learning with KL Divergence Simulation 2-1: Tutorial.ipynb']\n"
          ]
        }
      ]
    },
    {
      "cell_type": "markdown",
      "source": [
        "# Simulate Non-linear and non-proportional Data"
      ],
      "metadata": {
        "id": "66eGMTjNRFYw"
      }
    },
    {
      "cell_type": "markdown",
      "source": [
        "In this experiment, we want to generate non-linear and non-proportional data and show our results compared with Cox proportional hazard model and LogisticHazard. "
      ],
      "metadata": {
        "id": "brr5OBumR_-z"
      }
    },
    {
      "cell_type": "code",
      "source": [
        "import numpy as np\n",
        "import pandas as pd\n",
        "\n",
        "from pycox.simulations import base\n",
        "from pycox.simulations import relative_risk"
      ],
      "metadata": {
        "id": "iwiQ2J9ayg4X"
      },
      "execution_count": null,
      "outputs": []
    },
    {
      "cell_type": "code",
      "source": [
        "Sim = relative_risk.SimStudyNonLinearNonPH()\n",
        "\n",
        "data = Sim.simulate(10000)"
      ],
      "metadata": {
        "id": "XXVCbLtwyoI9"
      },
      "execution_count": null,
      "outputs": []
    },
    {
      "cell_type": "code",
      "source": [
        "data"
      ],
      "metadata": {
        "colab": {
          "base_uri": "https://localhost:8080/"
        },
        "id": "5nF9uUF14BwL",
        "outputId": "4bb9459d-093b-4d02-ad2b-fe580fbb7e53"
      },
      "execution_count": null,
      "outputs": [
        {
          "output_type": "execute_result",
          "data": {
            "text/plain": [
              "{'censor_durations': array([31.59328808,  6.73823818, 19.93173665, ..., 19.43694798,\n",
              "        24.84352481, 38.89668595]),\n",
              " 'censor_events': array([1., 1., 1., ..., 1., 1., 1.]),\n",
              " 'covs': array([[-0.6169611 ,  0.24421754, -0.12454452],\n",
              "        [ 0.57071716,  0.5599516 , -0.4548148 ],\n",
              "        [-0.4470715 ,  0.6037443 ,  0.9162787 ],\n",
              "        ...,\n",
              "        [-0.27352798, -0.4161864 , -0.27053055],\n",
              "        [ 0.18815653,  0.0567992 ,  0.44821537],\n",
              "        [-0.7588893 , -0.33428824,  0.24114954]], dtype=float32),\n",
              " 'durations': array([22.23264528,  6.73823818,  1.37836299, ..., 19.43694798,\n",
              "         0.40366079,  2.0859419 ]),\n",
              " 'durations_true': array([22.23264528,  8.7002544 ,  1.37836299, ..., 41.72885726,\n",
              "         0.40366079,  2.0859419 ]),\n",
              " 'events': array([ True, False,  True, ..., False,  True,  True]),\n",
              " 'events_true': array([1., 1., 1., ..., 1., 1., 1.]),\n",
              " 'surv_df': None}"
            ]
          },
          "metadata": {},
          "execution_count": 8
        }
      ]
    },
    {
      "cell_type": "code",
      "source": [
        "covs = pd.DataFrame(data['covs'], columns=['x1', 'x2', 'x3'])\n",
        "covs['duration'] = data['durations']\n",
        "covs['event'] = data['events']\n",
        "def change(x):\n",
        "  if(x == True):\n",
        "    return 1\n",
        "  else:\n",
        "    return 0\n",
        "\n",
        "covs['event'] = covs['event'].apply(lambda x: change(x))\n",
        "covs"
      ],
      "metadata": {
        "colab": {
          "base_uri": "https://localhost:8080/"
        },
        "id": "0GIzZwZ14hoz",
        "outputId": "c1499c14-c3ba-4180-cc65-7588063e09e1"
      },
      "execution_count": null,
      "outputs": [
        {
          "output_type": "execute_result",
          "data": {
            "text/plain": [
              "            x1        x2        x3   duration  event\n",
              "0    -0.616961  0.244218 -0.124545  22.232645      1\n",
              "1     0.570717  0.559952 -0.454815   6.738238      0\n",
              "2    -0.447071  0.603744  0.916279   1.378363      1\n",
              "3     0.751865 -0.284365  0.001990   0.545242      1\n",
              "4     0.366926  0.425404 -0.259498   0.897150      0\n",
              "...        ...       ...       ...        ...    ...\n",
              "9995 -0.575074  0.890978 -0.931862  23.183964      1\n",
              "9996 -0.850644  0.933865  0.764328   2.781375      1\n",
              "9997 -0.273528 -0.416186 -0.270531  19.436948      0\n",
              "9998  0.188157  0.056799  0.448215   0.403661      1\n",
              "9999 -0.758889 -0.334288  0.241150   2.085942      1\n",
              "\n",
              "[10000 rows x 5 columns]"
            ],
            "text/html": [
              "\n",
              "  <div id=\"df-4305cb85-5fb0-4de2-bc4d-98390e95af3c\">\n",
              "    <div class=\"colab-df-container\">\n",
              "      <div>\n",
              "<style scoped>\n",
              "    .dataframe tbody tr th:only-of-type {\n",
              "        vertical-align: middle;\n",
              "    }\n",
              "\n",
              "    .dataframe tbody tr th {\n",
              "        vertical-align: top;\n",
              "    }\n",
              "\n",
              "    .dataframe thead th {\n",
              "        text-align: right;\n",
              "    }\n",
              "</style>\n",
              "<table border=\"1\" class=\"dataframe\">\n",
              "  <thead>\n",
              "    <tr style=\"text-align: right;\">\n",
              "      <th></th>\n",
              "      <th>x1</th>\n",
              "      <th>x2</th>\n",
              "      <th>x3</th>\n",
              "      <th>duration</th>\n",
              "      <th>event</th>\n",
              "    </tr>\n",
              "  </thead>\n",
              "  <tbody>\n",
              "    <tr>\n",
              "      <th>0</th>\n",
              "      <td>-0.616961</td>\n",
              "      <td>0.244218</td>\n",
              "      <td>-0.124545</td>\n",
              "      <td>22.232645</td>\n",
              "      <td>1</td>\n",
              "    </tr>\n",
              "    <tr>\n",
              "      <th>1</th>\n",
              "      <td>0.570717</td>\n",
              "      <td>0.559952</td>\n",
              "      <td>-0.454815</td>\n",
              "      <td>6.738238</td>\n",
              "      <td>0</td>\n",
              "    </tr>\n",
              "    <tr>\n",
              "      <th>2</th>\n",
              "      <td>-0.447071</td>\n",
              "      <td>0.603744</td>\n",
              "      <td>0.916279</td>\n",
              "      <td>1.378363</td>\n",
              "      <td>1</td>\n",
              "    </tr>\n",
              "    <tr>\n",
              "      <th>3</th>\n",
              "      <td>0.751865</td>\n",
              "      <td>-0.284365</td>\n",
              "      <td>0.001990</td>\n",
              "      <td>0.545242</td>\n",
              "      <td>1</td>\n",
              "    </tr>\n",
              "    <tr>\n",
              "      <th>4</th>\n",
              "      <td>0.366926</td>\n",
              "      <td>0.425404</td>\n",
              "      <td>-0.259498</td>\n",
              "      <td>0.897150</td>\n",
              "      <td>0</td>\n",
              "    </tr>\n",
              "    <tr>\n",
              "      <th>...</th>\n",
              "      <td>...</td>\n",
              "      <td>...</td>\n",
              "      <td>...</td>\n",
              "      <td>...</td>\n",
              "      <td>...</td>\n",
              "    </tr>\n",
              "    <tr>\n",
              "      <th>9995</th>\n",
              "      <td>-0.575074</td>\n",
              "      <td>0.890978</td>\n",
              "      <td>-0.931862</td>\n",
              "      <td>23.183964</td>\n",
              "      <td>1</td>\n",
              "    </tr>\n",
              "    <tr>\n",
              "      <th>9996</th>\n",
              "      <td>-0.850644</td>\n",
              "      <td>0.933865</td>\n",
              "      <td>0.764328</td>\n",
              "      <td>2.781375</td>\n",
              "      <td>1</td>\n",
              "    </tr>\n",
              "    <tr>\n",
              "      <th>9997</th>\n",
              "      <td>-0.273528</td>\n",
              "      <td>-0.416186</td>\n",
              "      <td>-0.270531</td>\n",
              "      <td>19.436948</td>\n",
              "      <td>0</td>\n",
              "    </tr>\n",
              "    <tr>\n",
              "      <th>9998</th>\n",
              "      <td>0.188157</td>\n",
              "      <td>0.056799</td>\n",
              "      <td>0.448215</td>\n",
              "      <td>0.403661</td>\n",
              "      <td>1</td>\n",
              "    </tr>\n",
              "    <tr>\n",
              "      <th>9999</th>\n",
              "      <td>-0.758889</td>\n",
              "      <td>-0.334288</td>\n",
              "      <td>0.241150</td>\n",
              "      <td>2.085942</td>\n",
              "      <td>1</td>\n",
              "    </tr>\n",
              "  </tbody>\n",
              "</table>\n",
              "<p>10000 rows × 5 columns</p>\n",
              "</div>\n",
              "      <button class=\"colab-df-convert\" onclick=\"convertToInteractive('df-4305cb85-5fb0-4de2-bc4d-98390e95af3c')\"\n",
              "              title=\"Convert this dataframe to an interactive table.\"\n",
              "              style=\"display:none;\">\n",
              "        \n",
              "  <svg xmlns=\"http://www.w3.org/2000/svg\" height=\"24px\"viewBox=\"0 0 24 24\"\n",
              "       width=\"24px\">\n",
              "    <path d=\"M0 0h24v24H0V0z\" fill=\"none\"/>\n",
              "    <path d=\"M18.56 5.44l.94 2.06.94-2.06 2.06-.94-2.06-.94-.94-2.06-.94 2.06-2.06.94zm-11 1L8.5 8.5l.94-2.06 2.06-.94-2.06-.94L8.5 2.5l-.94 2.06-2.06.94zm10 10l.94 2.06.94-2.06 2.06-.94-2.06-.94-.94-2.06-.94 2.06-2.06.94z\"/><path d=\"M17.41 7.96l-1.37-1.37c-.4-.4-.92-.59-1.43-.59-.52 0-1.04.2-1.43.59L10.3 9.45l-7.72 7.72c-.78.78-.78 2.05 0 2.83L4 21.41c.39.39.9.59 1.41.59.51 0 1.02-.2 1.41-.59l7.78-7.78 2.81-2.81c.8-.78.8-2.07 0-2.86zM5.41 20L4 18.59l7.72-7.72 1.47 1.35L5.41 20z\"/>\n",
              "  </svg>\n",
              "      </button>\n",
              "      \n",
              "  <style>\n",
              "    .colab-df-container {\n",
              "      display:flex;\n",
              "      flex-wrap:wrap;\n",
              "      gap: 12px;\n",
              "    }\n",
              "\n",
              "    .colab-df-convert {\n",
              "      background-color: #E8F0FE;\n",
              "      border: none;\n",
              "      border-radius: 50%;\n",
              "      cursor: pointer;\n",
              "      display: none;\n",
              "      fill: #1967D2;\n",
              "      height: 32px;\n",
              "      padding: 0 0 0 0;\n",
              "      width: 32px;\n",
              "    }\n",
              "\n",
              "    .colab-df-convert:hover {\n",
              "      background-color: #E2EBFA;\n",
              "      box-shadow: 0px 1px 2px rgba(60, 64, 67, 0.3), 0px 1px 3px 1px rgba(60, 64, 67, 0.15);\n",
              "      fill: #174EA6;\n",
              "    }\n",
              "\n",
              "    [theme=dark] .colab-df-convert {\n",
              "      background-color: #3B4455;\n",
              "      fill: #D2E3FC;\n",
              "    }\n",
              "\n",
              "    [theme=dark] .colab-df-convert:hover {\n",
              "      background-color: #434B5C;\n",
              "      box-shadow: 0px 1px 3px 1px rgba(0, 0, 0, 0.15);\n",
              "      filter: drop-shadow(0px 1px 2px rgba(0, 0, 0, 0.3));\n",
              "      fill: #FFFFFF;\n",
              "    }\n",
              "  </style>\n",
              "\n",
              "      <script>\n",
              "        const buttonEl =\n",
              "          document.querySelector('#df-4305cb85-5fb0-4de2-bc4d-98390e95af3c button.colab-df-convert');\n",
              "        buttonEl.style.display =\n",
              "          google.colab.kernel.accessAllowed ? 'block' : 'none';\n",
              "\n",
              "        async function convertToInteractive(key) {\n",
              "          const element = document.querySelector('#df-4305cb85-5fb0-4de2-bc4d-98390e95af3c');\n",
              "          const dataTable =\n",
              "            await google.colab.kernel.invokeFunction('convertToInteractive',\n",
              "                                                     [key], {});\n",
              "          if (!dataTable) return;\n",
              "\n",
              "          const docLinkHtml = 'Like what you see? Visit the ' +\n",
              "            '<a target=\"_blank\" href=https://colab.research.google.com/notebooks/data_table.ipynb>data table notebook</a>'\n",
              "            + ' to learn more about interactive tables.';\n",
              "          element.innerHTML = '';\n",
              "          dataTable['output_type'] = 'display_data';\n",
              "          await google.colab.output.renderOutput(dataTable, element);\n",
              "          const docLink = document.createElement('div');\n",
              "          docLink.innerHTML = docLinkHtml;\n",
              "          element.appendChild(docLink);\n",
              "        }\n",
              "      </script>\n",
              "    </div>\n",
              "  </div>\n",
              "  "
            ]
          },
          "metadata": {},
          "execution_count": 9
        }
      ]
    },
    {
      "cell_type": "markdown",
      "source": [
        "# Cox v.s. LogisticHazard"
      ],
      "metadata": {
        "id": "fHKCYFnzTRhr"
      }
    },
    {
      "cell_type": "code",
      "source": [
        "import numpy as np\n",
        "import pandas as pd\n",
        "from lifelines import KaplanMeierFitter\n",
        "import matplotlib.pyplot as plt\n",
        "\n",
        "from lifelines import CoxPHFitter"
      ],
      "metadata": {
        "id": "fK-AUGILT2n0"
      },
      "execution_count": null,
      "outputs": []
    },
    {
      "cell_type": "code",
      "source": [
        "concordance_td_list_old = []\n",
        "integrated_brier_score_list_old = []\n",
        "integrated_nbll_list_old = []\n",
        "concordance_td_list = []\n",
        "integrated_brier_score_list = []\n",
        "integrated_nbll_list = []\n",
        "\n",
        "for i in range(20):\n",
        "  df_train = covs.copy()\n",
        "\n",
        "  num_durations = 20\n",
        "\n",
        "  scheme = 'quantiles'\n",
        "  labtrans = LogisticHazard.label_transform(num_durations, scheme)\n",
        "\n",
        "  get_target = lambda df: (df['duration'].values, df['event'].values)\n",
        "  y_train = labtrans.fit_transform(*get_target(df_train))\n",
        "  df_train[\"duration\"] = y_train[0]\n",
        "\n",
        "  df_prior = df_train.sample(frac = 0.95)\n",
        "  df_local = df_train.drop(df_prior.index)\n",
        "\n",
        "  df_local_test = df_local.sample(frac=0.2)\n",
        "  df_local_train = df_local.drop(df_local_test.index)\n",
        "\n",
        "  cph = CoxPHFitter()\n",
        "  cph.fit(df_local_train, duration_col = 'duration', event_col = 'event')\n",
        "  # cph.check_assumptions(df_local_train, p_value_threshold = 0.05)\n",
        "\n",
        "  # concordance_td_list_old.append(cph.score(df_local_test, scoring_method = \"concordance_index\"))\n",
        "\n",
        "  surv = cph.predict_survival_function(df_local_test)\n",
        "\n",
        "  ev = EvalSurv(surv, df_local_test['duration'].values, df_local_test['event'].values, censor_surv='km')\n",
        "  \n",
        "  concordance_td_list_old.append(ev.concordance_td('antolini'))\n",
        "  time_grid = np.linspace(df_local_test['duration'].values.min(), df_local_test['duration'].values.max(), 100)\n",
        "  integrated_brier_score_list_old.append(ev.integrated_brier_score(time_grid))\n",
        "  integrated_nbll_list_old.append((ev.integrated_nbll(time_grid)))\n",
        "\n",
        "  df_local_val = df_local_train.sample(frac = 0.2)\n",
        "  df_local_train = df_local_train.drop(df_local_val.index)\n",
        "\n",
        "  cols_standardize =  ['x1', 'x2', 'x3']\n",
        "  standardize = [([col], StandardScaler()) for col in cols_standardize]\n",
        "\n",
        "  x_mapper_float = DataFrameMapper(standardize)\n",
        "\n",
        "  x_train = x_mapper_float.fit_transform(df_local_train).astype('float32')\n",
        "  x_val = x_mapper_float.transform(df_local_val).astype('float32')\n",
        "  x_test = x_mapper_float.transform(df_local_test).astype('float32')\n",
        "\n",
        "  get_target = lambda df: (df['duration'].values, np.array(df['event'].values, dtype = np.float32))\n",
        "  y_train = get_target(df_local_train)\n",
        "  y_val = get_target(df_local_val)\n",
        "\n",
        "  durations_test, events_test = get_target(df_local_test)\n",
        "\n",
        "  in_features = x_train.shape[1]\n",
        "  num_nodes = [32, 32]\n",
        "  out_features = labtrans.out_features\n",
        "  batch_norm = True\n",
        "  dropout = 0.1\n",
        "\n",
        "  net = tt.practical.MLPVanilla(in_features, num_nodes, out_features, batch_norm, dropout)\n",
        "\n",
        "  model = LogisticHazard(net, tt.optim.Adam(0.01))\n",
        "\n",
        "  batch_size = 20\n",
        "  epochs = 300\n",
        "  callbacks = [tt.callbacks.EarlyStopping()]\n",
        "  verbose = False\n",
        "\n",
        "  val = tt.tuplefy(x_val, y_val)\n",
        "\n",
        "  log = model.fit(x_train, y_train, batch_size, epochs, callbacks, verbose,\n",
        "                  val_data=val)\n",
        "  \n",
        "  surv = model.predict_surv_df(x_test)\n",
        "\n",
        "  ev = EvalSurv(surv, durations_test, events_test, censor_surv='km')\n",
        "  concordance_td_list.append(ev.concordance_td('antolini'))\n",
        "  time_grid = np.linspace(durations_test.min(), durations_test.max(), 100)\n",
        "  integrated_brier_score_list.append(ev.integrated_brier_score(time_grid))\n",
        "  integrated_nbll_list.append((ev.integrated_nbll(time_grid)))"
      ],
      "metadata": {
        "id": "YyOASTIzTBoB"
      },
      "execution_count": null,
      "outputs": []
    },
    {
      "cell_type": "code",
      "source": [
        "import seaborn as sns\n",
        "\n",
        "concordance_td_array = np.array(concordance_td_list)\n",
        "concordance_td_array_old = np.array(concordance_td_list_old)\n",
        "integrated_brier_score_array_old = np.array(integrated_brier_score_list_old)\n",
        "integrated_brier_score_array = np.array(integrated_brier_score_list)\n",
        "integrated_nbll_array = np.array(integrated_nbll_list)\n",
        "integrated_nbll_array_old = np.array(integrated_nbll_list_old)\n",
        "\n",
        "data = np.array(concordance_td_list + concordance_td_list_old)\n",
        "label = [\"nnet-survival\" for i in range(len(concordance_td_array))] + [\"Cox\" for i in range(len(concordance_td_array_old))] # + [\"Cox_50\" for i in range(len(concordance_td_array_old))] + [\"Cox_100\" for i in range(len(concordance_td_array_old))]\n",
        "df = pd.DataFrame({\"C-index\": data, \"Comparison w.r.t C-index\": label})\n",
        "\n",
        "sns.set(rc={'figure.figsize':(3,5)})\n",
        "sns.boxplot(x='Comparison w.r.t C-index', y='C-index', data=df, width = 0.4).set(xlabel = None)#.set(title = \"Comparison w.r.t. IBLL\")\n",
        "len(data)\n"
      ],
      "metadata": {
        "colab": {
          "base_uri": "https://localhost:8080/",
          "height": 340
        },
        "outputId": "2b7ca227-04db-4401-b81e-a85bf5873e94",
        "id": "Y-nFE3adgF6D"
      },
      "execution_count": null,
      "outputs": [
        {
          "output_type": "execute_result",
          "data": {
            "text/plain": [
              "40"
            ]
          },
          "metadata": {},
          "execution_count": 20
        },
        {
          "output_type": "display_data",
          "data": {
            "text/plain": [
              "<Figure size 216x360 with 1 Axes>"
            ],
            "image/png": "[encoded data removed]"
          },
          "metadata": {}
        }
      ]
    },
    {
      "cell_type": "code",
      "source": [
        "data = np.array(integrated_brier_score_list + integrated_brier_score_list_old)\n",
        "label = [\"nnet-survival\" for i in range(len(concordance_td_array))] + [\"Cox\" for i in range(len(concordance_td_array_old))] #+ [\"Cox_50\" for i in range(len(concordance_td_array_old))] + [\"Cox_100\" for i in range(len(concordance_td_array_old))]\n",
        "df = pd.DataFrame({\"IBS\": data, \"Comparison w.r.t IBS\": label})\n",
        "\n",
        "sns.set(rc={'figure.figsize':(3,5)})\n",
        "sns.boxplot(x='Comparison w.r.t IBS', y='IBS', data=df, width = 0.4)#.set(title = \"Comparison w.r.t. IBLL\")\n",
        "len(data)"
      ],
      "metadata": {
        "colab": {
          "base_uri": "https://localhost:8080/",
          "height": 357
        },
        "outputId": "96fa56e3-bb0f-4872-9855-78441b3703ea",
        "id": "3DpzJUDdgF6E"
      },
      "execution_count": null,
      "outputs": [
        {
          "output_type": "execute_result",
          "data": {
            "text/plain": [
              "40"
            ]
          },
          "metadata": {},
          "execution_count": 21
        },
        {
          "output_type": "display_data",
          "data": {
            "text/plain": [
              "<Figure size 216x360 with 1 Axes>"
            ],
            "image/png": "[encoded data removed]"
          },
          "metadata": {}
        }
      ]
    },
    {
      "cell_type": "markdown",
      "source": [
        "# Our Model v.s. LogisticHazard"
      ],
      "metadata": {
        "id": "N28kt-UvFj02"
      }
    },
    {
      "cell_type": "code",
      "source": [
        "concordance_td_list_new = []\n",
        "integrated_brier_score_list_new = []\n",
        "integrated_nbll_list_new = []\n",
        "\n",
        "for i in range(20):\n",
        "  df_train = covs.copy()\n",
        "\n",
        "  num_durations = 20\n",
        "\n",
        "  scheme = 'quantiles'\n",
        "  labtrans = LogisticHazard.label_transform(num_durations, scheme)\n",
        "\n",
        "  get_target = lambda df: (df['duration'].values, df['event'].values)\n",
        "  y_train = labtrans.fit_transform(*get_target(df_train))\n",
        "  df_train[\"duration\"] = y_train[0]\n",
        "\n",
        "  df_prior = df_train.sample(frac = 0.95)\n",
        "  df_local = df_train.drop(df_prior.index)\n",
        "\n",
        "  data_prior = df_prior.copy()\n",
        "\n",
        "  data_prior_val = data_prior.sample(frac=0.2)\n",
        "  data_prior_train = data_prior.drop(data_prior_val.index)\n",
        "\n",
        "  cols_standardize =  ['x1', 'x2', 'x3']\n",
        "  standardize = [([col], StandardScaler()) for col in cols_standardize]\n",
        "\n",
        "  x_mapper_float = DataFrameMapper(standardize)\n",
        "\n",
        "  x_train = x_mapper_float.fit_transform(data_prior_train).astype('float32')\n",
        "  x_val = x_mapper_float.transform(data_prior_val).astype('float32')\n",
        "\n",
        "  get_target = lambda df: (df['duration'].values, np.array(df['event'].values, dtype = np.float32))\n",
        "  y_train = get_target(data_prior_train)\n",
        "  y_val = get_target(data_prior_val)\n",
        "\n",
        "  train = tt.tuplefy(x_train, y_train)\n",
        "  val = tt.tuplefy(x_val, y_val)\n",
        "\n",
        "  durations_test, events_test = get_target(df_local_test)\n",
        "\n",
        "  in_features = x_train.shape[1]\n",
        "  num_nodes = [32, 32]\n",
        "  out_features = labtrans.out_features\n",
        "  batch_norm = True\n",
        "  dropout = 0.1\n",
        "\n",
        "  net = tt.practical.MLPVanilla(in_features, num_nodes, out_features, batch_norm, dropout)\n",
        "\n",
        "  model = LogisticHazard(net, tt.optim.Adam(0.01), duration_index=labtrans.cuts)\n",
        "\n",
        "  batch_size = 20\n",
        "\n",
        "  model.optimizer.set_lr(0.01)\n",
        "\n",
        "  epochs = 512\n",
        "  callbacks = [tt.callbacks.EarlyStopping()]\n",
        "  verbose = False\n",
        "\n",
        "  log = model.fit(x_train, y_train, batch_size, epochs, callbacks, verbose,\n",
        "                  val_data=val)\n",
        "  \n",
        "  df_local = df_local.reset_index(drop = True)\n",
        "\n",
        "  df_test = df_local.sample(frac=0.2)\n",
        "  df_train = df_local.drop(df_test.index)\n",
        "  df_val = df_train.sample(frac=0.2)\n",
        "  df_train = df_train.drop(df_val.index)\n",
        "\n",
        "  cols_standardize =  ['x1', 'x2', 'x3']\n",
        "  standardize = [([col], StandardScaler()) for col in cols_standardize]\n",
        "\n",
        "  x_mapper_float = DataFrameMapper(standardize)\n",
        "\n",
        "  x_train = x_mapper_float.fit_transform(df_train).astype('float32')\n",
        "  x_val = x_mapper_float.transform(df_val).astype('float32')\n",
        "  x_test = x_mapper_float.transform(df_test).astype('float32')\n",
        "\n",
        "  get_target = lambda df: (df['duration'].values, np.array(df['event'].values, dtype = np.float32))\n",
        "  y_train = get_target(df_train)\n",
        "  y_val = get_target(df_val)\n",
        "\n",
        "  train = tt.tuplefy(x_train, y_train)\n",
        "  val = tt.tuplefy(x_val, y_val)\n",
        "\n",
        "  prior_info_train = model.predict_hazard(x_train)\n",
        "  prior_info_val = model.predict_hazard(x_val)\n",
        "\n",
        "  data_local_train_index = np.array(df_train.index)\n",
        "  data_local_val_index = np.array(df_val.index)\n",
        "\n",
        "  time = df_local[\"duration\"]\n",
        "  time = np.array(time).reshape(time.shape[0], -1)\n",
        "  zeros = np.zeros((time.shape[0], 21))\n",
        "  np.put_along_axis(zeros, time, np.array(df_local[\"event\"]).reshape(-1, 1), axis=1)\n",
        "  zeros = zeros[:, :-1]\n",
        "  zeros\n",
        "\n",
        "  zeros_train = zeros[data_local_train_index]\n",
        "  zeros_val = zeros[data_local_val_index]\n",
        "\n",
        "  eta = 20\n",
        "  combined_info_train = (zeros_train + eta * prior_info_train) / (1 + eta)\n",
        "  combined_info_val = (zeros_val + eta * prior_info_val) / (1 + eta)\n",
        "\n",
        "  n_train = df_train.shape[0]\n",
        "  n_val = df_val.shape[0]\n",
        "  y_train = (combined_info_train, df_train['duration'].values, df_train['event'].values)\n",
        "  y_val = (combined_info_val, df_val['duration'].values, df_val['event'].values)\n",
        "\n",
        "  train = tt.tuplefy(x_train, y_train)\n",
        "  val = tt.tuplefy(x_val, y_val)\n",
        "\n",
        "  durations_test, events_test = get_target(df_test)\n",
        "\n",
        "  in_features = x_train.shape[1]\n",
        "  num_nodes = [32, 32]\n",
        "  out_features = labtrans.out_features\n",
        "  batch_norm = True\n",
        "  dropout = 0.1\n",
        "\n",
        "  net = tt.practical.MLPVanilla(in_features, num_nodes, out_features, batch_norm, dropout)\n",
        "\n",
        "  model = LogisticHazard(net, tt.optim.Adam(0.01), duration_index=labtrans.cuts, loss = \"option\")\n",
        "\n",
        "  batch_size = 20\n",
        "\n",
        "  model.optimizer.set_lr(0.01)\n",
        "\n",
        "  epochs = 512\n",
        "  callbacks = [tt.callbacks.EarlyStopping()]\n",
        "  verbose = False\n",
        "\n",
        "  log = model.fit(x_train, y_train, batch_size, epochs, callbacks, verbose,\n",
        "                  val_data=val)\n",
        "\n",
        "  surv = model.predict_surv_df(x_test)\n",
        "\n",
        "  ev = EvalSurv(surv, durations_test, events_test, censor_surv='km')\n",
        "  concordance_td_list_new.append(ev.concordance_td('antolini'))\n",
        "  time_grid = np.linspace(durations_test.min(), durations_test.max(), 100)\n",
        "  integrated_brier_score_list_new.append(ev.integrated_brier_score(time_grid))\n",
        "  integrated_nbll_list_new.append((ev.integrated_nbll(time_grid)))\n"
      ],
      "metadata": {
        "colab": {
          "base_uri": "https://localhost:8080/"
        },
        "id": "JmawXe9aFlZ7",
        "outputId": "988930e8-cccc-4d6c-a0cf-67b3809f687c"
      },
      "execution_count": null,
      "outputs": [
        {
          "output_type": "stream",
          "name": "stdout",
          "text": [
            "1\n",
            "1\n",
            "1\n",
            "1\n",
            "1\n",
            "1\n",
            "1\n",
            "1\n",
            "1\n",
            "1\n",
            "1\n",
            "1\n",
            "1\n",
            "1\n",
            "1\n",
            "1\n",
            "1\n",
            "1\n",
            "1\n",
            "1\n"
          ]
        }
      ]
    },
    {
      "cell_type": "code",
      "source": [
        "# fig = plt.figure(figsize =(10, 7))\n",
        "import seaborn as sns\n",
        "# fig, ax = plt.subplots()\n",
        "# rects1 = ax.bar(x - width / 2, men_means, width, label='Men')\n",
        "# rects2 = ax.bar(x + width / 2, women_means, width, label='Women')\n",
        "# ax.set_ylabel('Scores')\n",
        "# ax.set_title('Scores by group and gender')\n",
        "# ax.set_xticks(x)\n",
        "# ax.set_xticklabels(labels)\n",
        "# ax.legend()\n",
        "\n",
        "# Creating plot\n",
        "concordance_td_array_new = np.array(concordance_td_list_new)\n",
        "concordance_td_array = np.array(concordance_td_list)\n",
        "integrated_brier_score_array_new = np.array(integrated_brier_score_list_new)\n",
        "integrated_brier_score_array = np.array(integrated_brier_score_list)\n",
        "integrated_nbll_array_new = np.array(integrated_nbll_list_new)\n",
        "integrated_nbll_array = np.array(integrated_nbll_list)\n",
        "\n",
        "# data = np.array(concordance_td_list + concordance_td_list_old)\n",
        "# label = [\"With KL\" for i in range(len(concordance_td_array))] + [\"Without KL\" for i in range(len(concordance_td_array_old))]\n",
        "# df = pd.DataFrame({\"C-index\": data, \"Models\": label})\n",
        "\n",
        "# sns.set(rc={'figure.figsize':(3,5)})\n",
        "# sns.boxplot(x='Models', y='C-index', data=df, width = 0.4).set(title = \"Comparison w.r.t. C-index\")\n",
        "# len(data)\n",
        "\n",
        "\n",
        "# data = np.array(integrated_brier_score_list + integrated_brier_score_list_old)\n",
        "# label = [\"With KL\" for i in range(len(integrated_brier_score_array))] + [\"Without KL\" for i in range(len(integrated_brier_score_array_old))]\n",
        "# df = pd.DataFrame({\"IBS\": data, \"Models\": label})\n",
        "\n",
        "# sns.set(rc={'figure.figsize':(3,5)})\n",
        "# sns.boxplot(x='Models', y='IBS', data=df, width = 0.4).set(title = \"Comparison w.r.t. IBS\")\n",
        "# len(data)\n",
        "\n",
        "data = np.array(concordance_td_list_new + concordance_td_list + concordance_td_list_old)\n",
        "label = [\"Our Model\" for i in range(len(concordance_td_array_new))] + [\"nnet-survival\" for i in range(len(concordance_td_array))] + [\"Cox\" for i in range(len(concordance_td_array))]\n",
        "df = pd.DataFrame({\"C-index\": data, \"Comparison w.r.t C-index\": label})\n",
        "\n",
        "sns.set(rc={'figure.figsize':(5,5)})\n",
        "sns.boxplot(x='Comparison w.r.t C-index', y='C-index', data=df, width = 0.4).set(xlabel = None)#.set(title = \"Comparison w.r.t. IBLL\")\n",
        "len(data)\n",
        "\n",
        "\n",
        "# plt.boxplot([concordance_td_array, concordance_td_array_old])\n",
        "# plt.title(\"Comparison w.r.t. C-index\")\n",
        "# plt.ylabel(\"C-index\")\n",
        "# show plot\n",
        "# plt.show()"
      ],
      "metadata": {
        "colab": {
          "base_uri": "https://localhost:8080/",
          "height": 72
        },
        "id": "ZJrKborpSush",
        "outputId": "bb9124ad-aff5-4bc1-f920-2a01e18b400d"
      },
      "execution_count": null,
      "outputs": [
        {
          "output_type": "execute_result",
          "data": {
            "text/plain": [
              "60"
            ]
          },
          "metadata": {},
          "execution_count": 27
        },
        {
          "output_type": "display_data",
          "data": {
            "text/plain": [
              "<Figure size 360x360 with 1 Axes>"
            ],
            "image/png": "[encoded data removed]"
          },
          "metadata": {}
        }
      ]
    },
    {
      "cell_type": "code",
      "source": [
        "data = np.array(integrated_brier_score_list_new + integrated_brier_score_list + integrated_brier_score_list_old)\n",
        "label = [\"Our Model\" for i in range(len(concordance_td_array_new))] + [\"nnet-survival\" for i in range(len(concordance_td_array))] + [\"Cox\" for i in range(len(concordance_td_array))]\n",
        "df = pd.DataFrame({\"IBS\": data, \"Comparison w.r.t IBS\": label})\n",
        "\n",
        "sns.set(rc={'figure.figsize':(5,5)})\n",
        "sns.boxplot(x='Comparison w.r.t IBS', y='IBS', data=df, width = 0.4).set(xlabel = None)#.set(title = \"Comparison w.r.t. IBLL\")\n",
        "len(data)"
      ],
      "metadata": {
        "id": "Tn72RlmVP_V4",
        "colab": {
          "base_uri": "https://localhost:8080/",
          "height": 340
        },
        "outputId": "f83d565b-5b76-49ab-ae86-95220fbd92df"
      },
      "execution_count": null,
      "outputs": [
        {
          "output_type": "execute_result",
          "data": {
            "text/plain": [
              "60"
            ]
          },
          "metadata": {},
          "execution_count": 28
        },
        {
          "output_type": "display_data",
          "data": {
            "text/plain": [
              "<Figure size 360x360 with 1 Axes>"
            ],
            "image/png": "[encoded data removed]"
          },
          "metadata": {}
        }
      ]
    },
    {
      "cell_type": "code",
      "source": [
        "data = np.array(integrated_nbll_list_new + integrated_nbll_list + integrated_nbll_list_old)\n",
        "label = [\"Our Model\" for i in range(len(concordance_td_array_new))] + [\"nnet-survival\" for i in range(len(concordance_td_array))] + [\"Cox\" for i in range(len(concordance_td_array))]\n",
        "df = pd.DataFrame({\"IBLL\": data, \"Comparison w.r.t IBLL\": label})\n",
        "\n",
        "sns.set(rc={'figure.figsize':(5,5)})\n",
        "sns.boxplot(x='Comparison w.r.t IBLL', y='IBLL', data=df, width = 0.4).set(xlabel = None)#.set(title = \"Comparison w.r.t. IBLL\")\n",
        "len(data)"
      ],
      "metadata": {
        "colab": {
          "base_uri": "https://localhost:8080/",
          "height": 340
        },
        "id": "CreCai94GXZ5",
        "outputId": "115a7f15-2b52-4344-f988-670294752234"
      },
      "execution_count": null,
      "outputs": [
        {
          "output_type": "execute_result",
          "data": {
            "text/plain": [
              "60"
            ]
          },
          "metadata": {},
          "execution_count": 29
        },
        {
          "output_type": "display_data",
          "data": {
            "text/plain": [
              "<Figure size 360x360 with 1 Axes>"
            ],
            "image/png": "[encoded data removed]"
          },
          "metadata": {}
        }
      ]
    },
    {
      "cell_type": "code",
      "source": [
        ""
      ],
      "metadata": {
        "id": "YRsAwU1-KSil"
      },
      "execution_count": null,
      "outputs": []
    }
  ]
}